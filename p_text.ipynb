{
 "cells": [
  {
   "cell_type": "markdown",
   "metadata": {
    "toc": true
   },
   "source": [
    "<h1>Содержание<span class=\"tocSkip\"></span></h1>\n",
    "<div class=\"toc\"><ul class=\"toc-item\"><li><span><a href=\"#Подготовка\" data-toc-modified-id=\"Подготовка-1\"><span class=\"toc-item-num\">1&nbsp;&nbsp;</span>Подготовка</a></span><ul class=\"toc-item\"><li><span><a href=\"#Проверим-распределение-классов\" data-toc-modified-id=\"Проверим-распределение-классов-1.1\"><span class=\"toc-item-num\">1.1&nbsp;&nbsp;</span>Проверим распределение классов</a></span><ul class=\"toc-item\"><li><span><a href=\"#Вывод:\" data-toc-modified-id=\"Вывод:-1.1.1\"><span class=\"toc-item-num\">1.1.1&nbsp;&nbsp;</span><strong>Вывод:</strong></a></span></li></ul></li><li><span><a href=\"#Очистка-текста-и-лемматизация-Wordnet--Lemmatizer-с--POS-тегом\" data-toc-modified-id=\"Очистка-текста-и-лемматизация-Wordnet--Lemmatizer-с--POS-тегом-1.2\"><span class=\"toc-item-num\">1.2&nbsp;&nbsp;</span>Очистка текста и лемматизация Wordnet  Lemmatizer с  POS-тегом</a></span></li><li><span><a href=\"#Создание-выборок\" data-toc-modified-id=\"Создание-выборок-1.3\"><span class=\"toc-item-num\">1.3&nbsp;&nbsp;</span>Создание выборок</a></span></li><li><span><a href=\"#TF-IDF-и-создание-выборок\" data-toc-modified-id=\"TF-IDF-и-создание-выборок-1.4\"><span class=\"toc-item-num\">1.4&nbsp;&nbsp;</span>TF-IDF и создание выборок</a></span></li><li><span><a href=\"#Вывод:\" data-toc-modified-id=\"Вывод:-1.5\"><span class=\"toc-item-num\">1.5&nbsp;&nbsp;</span><strong>Вывод:</strong></a></span></li></ul></li><li><span><a href=\"#Обучение\" data-toc-modified-id=\"Обучение-2\"><span class=\"toc-item-num\">2&nbsp;&nbsp;</span>Обучение</a></span><ul class=\"toc-item\"><li><span><a href=\"#LogisticRegression\" data-toc-modified-id=\"LogisticRegression-2.1\"><span class=\"toc-item-num\">2.1&nbsp;&nbsp;</span><strong>LogisticRegression</strong></a></span></li><li><span><a href=\"#LinearSVC\" data-toc-modified-id=\"LinearSVC-2.2\"><span class=\"toc-item-num\">2.2&nbsp;&nbsp;</span><strong>LinearSVC</strong></a></span></li><li><span><a href=\"#Тест\" data-toc-modified-id=\"Тест-2.3\"><span class=\"toc-item-num\">2.3&nbsp;&nbsp;</span><strong>Тест</strong></a></span></li><li><span><a href=\"#Вывод:\" data-toc-modified-id=\"Вывод:-2.4\"><span class=\"toc-item-num\">2.4&nbsp;&nbsp;</span><strong>Вывод:</strong></a></span></li></ul></li><li><span><a href=\"#Общий-вывод\" data-toc-modified-id=\"Общий-вывод-3\"><span class=\"toc-item-num\">3&nbsp;&nbsp;</span>Общий вывод</a></span></li></ul></div>"
   ]
  },
  {
   "cell_type": "markdown",
   "metadata": {},
   "source": [
    "# Проект для «Викишоп»"
   ]
  },
  {
   "cell_type": "markdown",
   "metadata": {},
   "source": [
    "Интернет-магазин «Викишоп» запускает новый сервис. Теперь пользователи могут редактировать и дополнять описания товаров, как в вики-сообществах. То есть клиенты предлагают свои правки и комментируют изменения других. Магазину нужен инструмент, который будет искать токсичные комментарии и отправлять их на модерацию. \n",
    "\n",
    "Обучите модель классифицировать комментарии на позитивные и негативные. В вашем распоряжении набор данных с разметкой о токсичности правок.\n",
    "\n",
    "Постройте модель со значением метрики качества *F1* не меньше 0.75. \n",
    "\n",
    "**Инструкция по выполнению проекта**\n",
    "\n",
    "1. Загрузите и подготовьте данные.\n",
    "2. Обучите разные модели. \n",
    "3. Сделайте выводы.\n",
    "\n",
    "\n",
    "\n",
    "**Описание данных**\n",
    "\n",
    "Столбец *text* в нём содержит текст комментария, а *toxic* — целевой признак."
   ]
  },
  {
   "cell_type": "markdown",
   "metadata": {},
   "source": [
    "## Подготовка"
   ]
  },
  {
   "cell_type": "code",
   "execution_count": 25,
   "metadata": {},
   "outputs": [
    {
     "name": "stderr",
     "output_type": "stream",
     "text": [
      "[nltk_data] Downloading package wordnet to /home/jovyan/nltk_data...\n",
      "[nltk_data]   Package wordnet is already up-to-date!\n",
      "[nltk_data] Downloading package averaged_perceptron_tagger to\n",
      "[nltk_data]     /home/jovyan/nltk_data...\n",
      "[nltk_data]   Package averaged_perceptron_tagger is already up-to-\n",
      "[nltk_data]       date!\n"
     ]
    }
   ],
   "source": [
    "import pandas as pd\n",
    "import numpy as np\n",
    "import matplotlib.pyplot as plt\n",
    "import seaborn as sns\n",
    "import re \n",
    "import warnings\n",
    "\n",
    "from pymystem3 import Mystem\n",
    "from tqdm.notebook import tqdm\n",
    "\n",
    "import optuna \n",
    "import nltk\n",
    "from nltk.corpus import wordnet\n",
    "from nltk.corpus import stopwords as nltk_stopwords\n",
    "from nltk.stem import WordNetLemmatizer \n",
    "from nltk import RegexpTokenizer\n",
    "from nltk.corpus import stopwords as nltk_stopwords\n",
    "\n",
    "from sklearn.pipeline import Pipeline\n",
    "from sklearn.model_selection import train_test_split\n",
    "from sklearn.feature_extraction.text import CountVectorizer \n",
    "from sklearn.feature_extraction.text import TfidfVectorizer,TfidfTransformer\n",
    "from sklearn.metrics import f1_score\n",
    "from sklearn.model_selection import GridSearchCV\n",
    "from sklearn.linear_model import LogisticRegression, SGDClassifier\n",
    "from sklearn.svm import LinearSVC\n",
    "from sklearn.ensemble import RandomForestClassifier\n",
    "from sklearn.tree import DecisionTreeClassifier\n",
    "from lightgbm import LGBMClassifier\n",
    "from sklearn.utils import shuffle\n",
    "\n",
    "warnings.filterwarnings('ignore')\n",
    "nltk.download('wordnet')\n",
    "nltk.download('averaged_perceptron_tagger')\n",
    " \n",
    "RS=12345    "
   ]
  },
  {
   "cell_type": "code",
   "execution_count": 2,
   "metadata": {},
   "outputs": [],
   "source": [
    "df = pd.read_csv('/datasets/toxic_comments.csv')"
   ]
  },
  {
   "cell_type": "code",
   "execution_count": 3,
   "metadata": {},
   "outputs": [
    {
     "name": "stdout",
     "output_type": "stream",
     "text": [
      "<class 'pandas.core.frame.DataFrame'>\n",
      "RangeIndex: 159292 entries, 0 to 159291\n",
      "Data columns (total 3 columns):\n",
      " #   Column      Non-Null Count   Dtype \n",
      "---  ------      --------------   ----- \n",
      " 0   Unnamed: 0  159292 non-null  int64 \n",
      " 1   text        159292 non-null  object\n",
      " 2   toxic       159292 non-null  int64 \n",
      "dtypes: int64(2), object(1)\n",
      "memory usage: 3.6+ MB\n"
     ]
    }
   ],
   "source": [
    "df.info()"
   ]
  },
  {
   "cell_type": "code",
   "execution_count": 4,
   "metadata": {},
   "outputs": [
    {
     "data": {
      "text/html": [
       "<div>\n",
       "<style scoped>\n",
       "    .dataframe tbody tr th:only-of-type {\n",
       "        vertical-align: middle;\n",
       "    }\n",
       "\n",
       "    .dataframe tbody tr th {\n",
       "        vertical-align: top;\n",
       "    }\n",
       "\n",
       "    .dataframe thead th {\n",
       "        text-align: right;\n",
       "    }\n",
       "</style>\n",
       "<table border=\"1\" class=\"dataframe\">\n",
       "  <thead>\n",
       "    <tr style=\"text-align: right;\">\n",
       "      <th></th>\n",
       "      <th>Unnamed: 0</th>\n",
       "      <th>text</th>\n",
       "      <th>toxic</th>\n",
       "    </tr>\n",
       "  </thead>\n",
       "  <tbody>\n",
       "    <tr>\n",
       "      <th>0</th>\n",
       "      <td>0</td>\n",
       "      <td>Explanation\\nWhy the edits made under my usern...</td>\n",
       "      <td>0</td>\n",
       "    </tr>\n",
       "    <tr>\n",
       "      <th>1</th>\n",
       "      <td>1</td>\n",
       "      <td>D'aww! He matches this background colour I'm s...</td>\n",
       "      <td>0</td>\n",
       "    </tr>\n",
       "    <tr>\n",
       "      <th>2</th>\n",
       "      <td>2</td>\n",
       "      <td>Hey man, I'm really not trying to edit war. It...</td>\n",
       "      <td>0</td>\n",
       "    </tr>\n",
       "    <tr>\n",
       "      <th>3</th>\n",
       "      <td>3</td>\n",
       "      <td>\"\\nMore\\nI can't make any real suggestions on ...</td>\n",
       "      <td>0</td>\n",
       "    </tr>\n",
       "    <tr>\n",
       "      <th>4</th>\n",
       "      <td>4</td>\n",
       "      <td>You, sir, are my hero. Any chance you remember...</td>\n",
       "      <td>0</td>\n",
       "    </tr>\n",
       "  </tbody>\n",
       "</table>\n",
       "</div>"
      ],
      "text/plain": [
       "   Unnamed: 0                                               text  toxic\n",
       "0           0  Explanation\\nWhy the edits made under my usern...      0\n",
       "1           1  D'aww! He matches this background colour I'm s...      0\n",
       "2           2  Hey man, I'm really not trying to edit war. It...      0\n",
       "3           3  \"\\nMore\\nI can't make any real suggestions on ...      0\n",
       "4           4  You, sir, are my hero. Any chance you remember...      0"
      ]
     },
     "execution_count": 4,
     "metadata": {},
     "output_type": "execute_result"
    }
   ],
   "source": [
    "df.head()"
   ]
  },
  {
   "cell_type": "code",
   "execution_count": 5,
   "metadata": {},
   "outputs": [],
   "source": [
    "df = df.drop(['Unnamed: 0'], axis=1)"
   ]
  },
  {
   "cell_type": "code",
   "execution_count": 6,
   "metadata": {},
   "outputs": [
    {
     "name": "stdout",
     "output_type": "stream",
     "text": [
      "<class 'pandas.core.frame.DataFrame'>\n",
      "RangeIndex: 159292 entries, 0 to 159291\n",
      "Data columns (total 2 columns):\n",
      " #   Column  Non-Null Count   Dtype \n",
      "---  ------  --------------   ----- \n",
      " 0   text    159292 non-null  object\n",
      " 1   toxic   159292 non-null  int64 \n",
      "dtypes: int64(1), object(1)\n",
      "memory usage: 2.4+ MB\n"
     ]
    }
   ],
   "source": [
    "df.info()"
   ]
  },
  {
   "cell_type": "markdown",
   "metadata": {},
   "source": [
    "### Проверим распределение классов "
   ]
  },
  {
   "cell_type": "code",
   "execution_count": 7,
   "metadata": {},
   "outputs": [
    {
     "data": {
      "image/png": "[encoded data removed]",
      "text/plain": [
       "<Figure size 720x432 with 1 Axes>"
      ]
     },
     "metadata": {
      "needs_background": "light"
     },
     "output_type": "display_data"
    }
   ],
   "source": [
    "ax = df['toxic'].value_counts().plot(kind='bar', figsize=(10, 6), fontsize=13, color='#087E8B')\n",
    "ax.set_title('Тексты клиентов (0 = positive, 1 = toxiс)', size=20, pad=30)\n",
    "ax.set_ylabel('Количество', fontsize=14)\n",
    "\n",
    "for i in ax.patches:\n",
    "    ax.text(i.get_x() + 0.19, i.get_height() + 700, str(round(i.get_height(), 2)), fontsize=15)"
   ]
  },
  {
   "cell_type": "markdown",
   "metadata": {},
   "source": [
    "#### **Вывод:**"
   ]
  },
  {
   "cell_type": "markdown",
   "metadata": {},
   "source": [
    "Имеется явный дисбаланс классов:\n",
    "- **положительных ≈90%** \n",
    "- **отрицательных ≈10%**\n",
    "\n",
    "Попробуем достичь условия(**F1>75**) на имеющихся данных, без ресемплирования"
   ]
  },
  {
   "cell_type": "markdown",
   "metadata": {},
   "source": [
    "### Очистка текста и лемматизация Wordnet  Lemmatizer с  POS-тегом"
   ]
  },
  {
   "cell_type": "code",
   "execution_count": 8,
   "metadata": {},
   "outputs": [],
   "source": [
    "def clear_text(text):\n",
    "    text = re.sub(r\"[^a-zA-Z']\", ' ', text)\n",
    "    c_text = ' '.join(text.split())\n",
    "    return c_text"
   ]
  },
  {
   "cell_type": "code",
   "execution_count": 9,
   "metadata": {},
   "outputs": [],
   "source": [
    "df['text'] = df['text'].apply(clear_text)"
   ]
  },
  {
   "cell_type": "code",
   "execution_count": 10,
   "metadata": {},
   "outputs": [
    {
     "data": {
      "text/html": [
       "<div>\n",
       "<style scoped>\n",
       "    .dataframe tbody tr th:only-of-type {\n",
       "        vertical-align: middle;\n",
       "    }\n",
       "\n",
       "    .dataframe tbody tr th {\n",
       "        vertical-align: top;\n",
       "    }\n",
       "\n",
       "    .dataframe thead th {\n",
       "        text-align: right;\n",
       "    }\n",
       "</style>\n",
       "<table border=\"1\" class=\"dataframe\">\n",
       "  <thead>\n",
       "    <tr style=\"text-align: right;\">\n",
       "      <th></th>\n",
       "      <th>text</th>\n",
       "      <th>toxic</th>\n",
       "    </tr>\n",
       "  </thead>\n",
       "  <tbody>\n",
       "    <tr>\n",
       "      <th>0</th>\n",
       "      <td>Explanation Why the edits made under my userna...</td>\n",
       "      <td>0</td>\n",
       "    </tr>\n",
       "    <tr>\n",
       "      <th>1</th>\n",
       "      <td>D'aww He matches this background colour I'm se...</td>\n",
       "      <td>0</td>\n",
       "    </tr>\n",
       "    <tr>\n",
       "      <th>2</th>\n",
       "      <td>Hey man I'm really not trying to edit war It's...</td>\n",
       "      <td>0</td>\n",
       "    </tr>\n",
       "    <tr>\n",
       "      <th>3</th>\n",
       "      <td>More I can't make any real suggestions on impr...</td>\n",
       "      <td>0</td>\n",
       "    </tr>\n",
       "    <tr>\n",
       "      <th>4</th>\n",
       "      <td>You sir are my hero Any chance you remember wh...</td>\n",
       "      <td>0</td>\n",
       "    </tr>\n",
       "  </tbody>\n",
       "</table>\n",
       "</div>"
      ],
      "text/plain": [
       "                                                text  toxic\n",
       "0  Explanation Why the edits made under my userna...      0\n",
       "1  D'aww He matches this background colour I'm se...      0\n",
       "2  Hey man I'm really not trying to edit war It's...      0\n",
       "3  More I can't make any real suggestions on impr...      0\n",
       "4  You sir are my hero Any chance you remember wh...      0"
      ]
     },
     "execution_count": 10,
     "metadata": {},
     "output_type": "execute_result"
    }
   ],
   "source": [
    "df.head()"
   ]
  },
  {
   "cell_type": "code",
   "execution_count": 11,
   "metadata": {},
   "outputs": [],
   "source": [
    "def get_wordnet_pos(word):\n",
    "    tag = nltk.pos_tag([word])[0][1][0].upper()\n",
    "    tag_dict = {\"J\": wordnet.ADJ,\n",
    "                \"N\": wordnet.NOUN,\n",
    "                \"V\": wordnet.VERB,\n",
    "                \"R\": wordnet.ADV}\n",
    "    return tag_dict.get(tag, wordnet.NOUN)"
   ]
  },
  {
   "cell_type": "code",
   "execution_count": 12,
   "metadata": {},
   "outputs": [],
   "source": [
    "lemmatizer = WordNetLemmatizer()"
   ]
  },
  {
   "cell_type": "code",
   "execution_count": 13,
   "metadata": {},
   "outputs": [
    {
     "data": {
      "application/vnd.jupyter.widget-view+json": {
       "model_id": "976ebc58f0b84565b1407018472b6ec1",
       "version_major": 2,
       "version_minor": 0
      },
      "text/plain": [
       "0it [00:00, ?it/s]"
      ]
     },
     "metadata": {},
     "output_type": "display_data"
    },
    {
     "name": "stdout",
     "output_type": "stream",
     "text": [
      "CPU times: user 20min 47s, sys: 2min, total: 22min 47s\n",
      "Wall time: 23min 30s\n"
     ]
    }
   ],
   "source": [
    "%%time\n",
    "\n",
    "lemmatized_texts = []\n",
    "\n",
    "    \n",
    "for i, row in tqdm(df.iterrows()):\n",
    "  \n",
    "    text = row['text']\n",
    "    tokenizer = RegexpTokenizer(r'\\w+')\n",
    "    # конвертируем строку в нижний регистр и разбиваем текст  на слова\n",
    "    tokens = [lemmatizer.lemmatize(w, get_wordnet_pos(w)) for w \n",
    "              in tokenizer.tokenize(text.lower())]\n",
    "\n",
    "    # отбрасываем числа, если они были в тексте и слова длины 1\n",
    "    tokens = [token for token in tokens if\n",
    "              (not token.isnumeric() and len(token) > 1)]\n",
    "    lemmatized_texts.append(' '.join(tokens))\n",
    "    \n",
    "df['lemm_text'] = lemmatized_texts    "
   ]
  },
  {
   "cell_type": "code",
   "execution_count": 14,
   "metadata": {},
   "outputs": [
    {
     "data": {
      "text/html": [
       "<div>\n",
       "<style scoped>\n",
       "    .dataframe tbody tr th:only-of-type {\n",
       "        vertical-align: middle;\n",
       "    }\n",
       "\n",
       "    .dataframe tbody tr th {\n",
       "        vertical-align: top;\n",
       "    }\n",
       "\n",
       "    .dataframe thead th {\n",
       "        text-align: right;\n",
       "    }\n",
       "</style>\n",
       "<table border=\"1\" class=\"dataframe\">\n",
       "  <thead>\n",
       "    <tr style=\"text-align: right;\">\n",
       "      <th></th>\n",
       "      <th>text</th>\n",
       "      <th>toxic</th>\n",
       "      <th>lemm_text</th>\n",
       "    </tr>\n",
       "  </thead>\n",
       "  <tbody>\n",
       "    <tr>\n",
       "      <th>0</th>\n",
       "      <td>Explanation Why the edits made under my userna...</td>\n",
       "      <td>0</td>\n",
       "      <td>explanation why the edits make under my userna...</td>\n",
       "    </tr>\n",
       "    <tr>\n",
       "      <th>1</th>\n",
       "      <td>D'aww He matches this background colour I'm se...</td>\n",
       "      <td>0</td>\n",
       "      <td>aww he match this background colour seemingly ...</td>\n",
       "    </tr>\n",
       "    <tr>\n",
       "      <th>2</th>\n",
       "      <td>Hey man I'm really not trying to edit war It's...</td>\n",
       "      <td>0</td>\n",
       "      <td>hey man really not try to edit war it just tha...</td>\n",
       "    </tr>\n",
       "    <tr>\n",
       "      <th>3</th>\n",
       "      <td>More I can't make any real suggestions on impr...</td>\n",
       "      <td>0</td>\n",
       "      <td>more can make any real suggestion on improveme...</td>\n",
       "    </tr>\n",
       "    <tr>\n",
       "      <th>4</th>\n",
       "      <td>You sir are my hero Any chance you remember wh...</td>\n",
       "      <td>0</td>\n",
       "      <td>you sir be my hero any chance you remember wha...</td>\n",
       "    </tr>\n",
       "  </tbody>\n",
       "</table>\n",
       "</div>"
      ],
      "text/plain": [
       "                                                text  toxic  \\\n",
       "0  Explanation Why the edits made under my userna...      0   \n",
       "1  D'aww He matches this background colour I'm se...      0   \n",
       "2  Hey man I'm really not trying to edit war It's...      0   \n",
       "3  More I can't make any real suggestions on impr...      0   \n",
       "4  You sir are my hero Any chance you remember wh...      0   \n",
       "\n",
       "                                           lemm_text  \n",
       "0  explanation why the edits make under my userna...  \n",
       "1  aww he match this background colour seemingly ...  \n",
       "2  hey man really not try to edit war it just tha...  \n",
       "3  more can make any real suggestion on improveme...  \n",
       "4  you sir be my hero any chance you remember wha...  "
      ]
     },
     "execution_count": 14,
     "metadata": {},
     "output_type": "execute_result"
    }
   ],
   "source": [
    "df.head()"
   ]
  },
  {
   "cell_type": "markdown",
   "metadata": {},
   "source": [
    "### Создание выборок"
   ]
  },
  {
   "cell_type": "code",
   "execution_count": 15,
   "metadata": {},
   "outputs": [],
   "source": [
    "df = df.drop(['text'], axis=1)"
   ]
  },
  {
   "cell_type": "code",
   "execution_count": 16,
   "metadata": {},
   "outputs": [
    {
     "data": {
      "text/html": [
       "<div>\n",
       "<style scoped>\n",
       "    .dataframe tbody tr th:only-of-type {\n",
       "        vertical-align: middle;\n",
       "    }\n",
       "\n",
       "    .dataframe tbody tr th {\n",
       "        vertical-align: top;\n",
       "    }\n",
       "\n",
       "    .dataframe thead th {\n",
       "        text-align: right;\n",
       "    }\n",
       "</style>\n",
       "<table border=\"1\" class=\"dataframe\">\n",
       "  <thead>\n",
       "    <tr style=\"text-align: right;\">\n",
       "      <th></th>\n",
       "      <th>toxic</th>\n",
       "      <th>lemm_text</th>\n",
       "    </tr>\n",
       "  </thead>\n",
       "  <tbody>\n",
       "    <tr>\n",
       "      <th>0</th>\n",
       "      <td>0</td>\n",
       "      <td>explanation why the edits make under my userna...</td>\n",
       "    </tr>\n",
       "    <tr>\n",
       "      <th>1</th>\n",
       "      <td>0</td>\n",
       "      <td>aww he match this background colour seemingly ...</td>\n",
       "    </tr>\n",
       "    <tr>\n",
       "      <th>2</th>\n",
       "      <td>0</td>\n",
       "      <td>hey man really not try to edit war it just tha...</td>\n",
       "    </tr>\n",
       "    <tr>\n",
       "      <th>3</th>\n",
       "      <td>0</td>\n",
       "      <td>more can make any real suggestion on improveme...</td>\n",
       "    </tr>\n",
       "    <tr>\n",
       "      <th>4</th>\n",
       "      <td>0</td>\n",
       "      <td>you sir be my hero any chance you remember wha...</td>\n",
       "    </tr>\n",
       "    <tr>\n",
       "      <th>5</th>\n",
       "      <td>0</td>\n",
       "      <td>congratulation from me well use the tool well ...</td>\n",
       "    </tr>\n",
       "    <tr>\n",
       "      <th>6</th>\n",
       "      <td>1</td>\n",
       "      <td>cocksucker before you piss around on my work</td>\n",
       "    </tr>\n",
       "    <tr>\n",
       "      <th>7</th>\n",
       "      <td>0</td>\n",
       "      <td>your vandalism to the matt shirvington article...</td>\n",
       "    </tr>\n",
       "    <tr>\n",
       "      <th>8</th>\n",
       "      <td>0</td>\n",
       "      <td>sorry if the word nonsense be offensive to you...</td>\n",
       "    </tr>\n",
       "    <tr>\n",
       "      <th>9</th>\n",
       "      <td>0</td>\n",
       "      <td>alignment on this subject and which be contrar...</td>\n",
       "    </tr>\n",
       "  </tbody>\n",
       "</table>\n",
       "</div>"
      ],
      "text/plain": [
       "   toxic                                          lemm_text\n",
       "0      0  explanation why the edits make under my userna...\n",
       "1      0  aww he match this background colour seemingly ...\n",
       "2      0  hey man really not try to edit war it just tha...\n",
       "3      0  more can make any real suggestion on improveme...\n",
       "4      0  you sir be my hero any chance you remember wha...\n",
       "5      0  congratulation from me well use the tool well ...\n",
       "6      1       cocksucker before you piss around on my work\n",
       "7      0  your vandalism to the matt shirvington article...\n",
       "8      0  sorry if the word nonsense be offensive to you...\n",
       "9      0  alignment on this subject and which be contrar..."
      ]
     },
     "execution_count": 16,
     "metadata": {},
     "output_type": "execute_result"
    }
   ],
   "source": [
    "df.head(10)"
   ]
  },
  {
   "cell_type": "code",
   "execution_count": 17,
   "metadata": {},
   "outputs": [
    {
     "name": "stdout",
     "output_type": "stream",
     "text": [
      "<class 'pandas.core.frame.DataFrame'>\n",
      "RangeIndex: 159292 entries, 0 to 159291\n",
      "Data columns (total 2 columns):\n",
      " #   Column     Non-Null Count   Dtype \n",
      "---  ------     --------------   ----- \n",
      " 0   toxic      159292 non-null  int64 \n",
      " 1   lemm_text  159292 non-null  object\n",
      "dtypes: int64(1), object(1)\n",
      "memory usage: 2.4+ MB\n"
     ]
    }
   ],
   "source": [
    "df.info()"
   ]
  },
  {
   "cell_type": "code",
   "execution_count": 18,
   "metadata": {},
   "outputs": [],
   "source": [
    "features = df.drop(['toxic'], axis=1)\n",
    "target = df['toxic']\n"
   ]
  },
  {
   "cell_type": "code",
   "execution_count": 19,
   "metadata": {},
   "outputs": [],
   "source": [
    "features_train, features_test, target_train, target_test = train_test_split(features, \n",
    "                                                                              target, \n",
    "                                                                              test_size=0.25, \n",
    "                                                                              random_state=RS,\n",
    "                                                                              )"
   ]
  },
  {
   "cell_type": "markdown",
   "metadata": {},
   "source": [
    "### TF-IDF и создание выборок "
   ]
  },
  {
   "cell_type": "code",
   "execution_count": 20,
   "metadata": {},
   "outputs": [
    {
     "name": "stderr",
     "output_type": "stream",
     "text": [
      "[nltk_data] Downloading package stopwords to /home/jovyan/nltk_data...\n",
      "[nltk_data]   Package stopwords is already up-to-date!\n"
     ]
    },
    {
     "data": {
      "text/plain": [
       "True"
      ]
     },
     "execution_count": 20,
     "metadata": {},
     "output_type": "execute_result"
    }
   ],
   "source": [
    "nltk.download('stopwords')"
   ]
  },
  {
   "cell_type": "code",
   "execution_count": 21,
   "metadata": {},
   "outputs": [],
   "source": [
    "stopwords = set(nltk_stopwords.words('english'))"
   ]
  },
  {
   "cell_type": "code",
   "execution_count": 22,
   "metadata": {},
   "outputs": [
    {
     "data": {
      "text/plain": [
       "set"
      ]
     },
     "execution_count": 22,
     "metadata": {},
     "output_type": "execute_result"
    }
   ],
   "source": [
    "type(stopwords)"
   ]
  },
  {
   "cell_type": "code",
   "execution_count": 23,
   "metadata": {},
   "outputs": [],
   "source": [
    "stopwords = list(stopwords)"
   ]
  },
  {
   "cell_type": "markdown",
   "metadata": {},
   "source": [
    "### **Вывод:**"
   ]
  },
  {
   "cell_type": "markdown",
   "metadata": {},
   "source": [
    "1. Загружен датасет \n",
    "\n",
    "2. Проверено распределение классов и сделан вывод \n",
    "\n",
    "3. Проведена очистка текста и лемматизация Wordnet Lemmatizer с POS-тегом\n",
    "\n",
    "4. Созданы выборки "
   ]
  },
  {
   "cell_type": "markdown",
   "metadata": {},
   "source": [
    "## Обучение"
   ]
  },
  {
   "cell_type": "markdown",
   "metadata": {},
   "source": [
    "### **LogisticRegression**"
   ]
  },
  {
   "cell_type": "code",
   "execution_count": 24,
   "metadata": {},
   "outputs": [
    {
     "name": "stdout",
     "output_type": "stream",
     "text": [
      "Fitting 3 folds for each of 2 candidates, totalling 6 fits\n",
      "[CV 1/3] END ......................................clf__C=10; total time=  47.7s\n",
      "[CV 2/3] END ......................................clf__C=10; total time=  47.7s\n",
      "[CV 3/3] END ......................................clf__C=10; total time=  48.3s\n",
      "[CV 1/3] END ......................................clf__C=15; total time=  48.1s\n",
      "[CV 2/3] END ......................................clf__C=15; total time=  50.4s\n",
      "[CV 3/3] END ......................................clf__C=15; total time=  47.5s\n"
     ]
    },
    {
     "data": {
      "text/plain": [
       "{'clf__C': 10}"
      ]
     },
     "metadata": {},
     "output_type": "display_data"
    },
    {
     "data": {
      "text/plain": [
       "0.7617829174649122"
      ]
     },
     "metadata": {},
     "output_type": "display_data"
    },
    {
     "name": "stdout",
     "output_type": "stream",
     "text": [
      "CPU times: user 2min 26s, sys: 2min 22s, total: 4min 48s\n",
      "Wall time: 4min 49s\n"
     ]
    }
   ],
   "source": [
    "%%time \n",
    "\n",
    "\n",
    "\n",
    "\n",
    "model_l = Pipeline([\n",
    "                    ('tfidf', TfidfVectorizer(stop_words=stopwords)),\n",
    "                    ('clf', LogisticRegression(random_state=RS))]\n",
    "                   )\n",
    "                   \n",
    "   \n",
    "               \n",
    "parametres = {'clf__C': [10, 15]}  \n",
    "                   \n",
    "       \n",
    "                   \n",
    "scoring='f1'\n",
    "n_jobs = -1\n",
    "\n",
    "gr_lr = GridSearchCV(model_l,\n",
    "                     param_grid = parametres,\n",
    "                     scoring = scoring,\n",
    "                     n_jobs = n_jobs,\n",
    "                     verbose=3,\n",
    "                     cv=3,\n",
    "                     refit=False).fit(features_train['lemm_text'], target_train)\n",
    "                               \n",
    "display(gr_lr.best_params_)\n",
    "display(gr_lr.best_score_)\n"
   ]
  },
  {
   "cell_type": "markdown",
   "metadata": {},
   "source": [
    "### **LinearSVC**"
   ]
  },
  {
   "cell_type": "code",
   "execution_count": 26,
   "metadata": {},
   "outputs": [
    {
     "name": "stdout",
     "output_type": "stream",
     "text": [
      "Fitting 3 folds for each of 2 candidates, totalling 6 fits\n",
      "[CV 1/3] END .......................................clf__C=5; total time=   7.4s\n",
      "[CV 2/3] END .......................................clf__C=5; total time=   7.7s\n",
      "[CV 3/3] END .......................................clf__C=5; total time=   8.6s\n",
      "[CV 1/3] END ......................................clf__C=10; total time=   9.3s\n",
      "[CV 2/3] END ......................................clf__C=10; total time=   8.9s\n",
      "[CV 3/3] END ......................................clf__C=10; total time=   9.8s\n"
     ]
    },
    {
     "data": {
      "text/plain": [
       "{'clf__C': 5}"
      ]
     },
     "metadata": {},
     "output_type": "display_data"
    },
    {
     "data": {
      "text/plain": [
       "0.7487958727251387"
      ]
     },
     "metadata": {},
     "output_type": "display_data"
    },
    {
     "name": "stdout",
     "output_type": "stream",
     "text": [
      "CPU times: user 51.2 s, sys: 540 ms, total: 51.8 s\n",
      "Wall time: 51.9 s\n"
     ]
    }
   ],
   "source": [
    "%%time \n",
    "\n",
    "\n",
    "\n",
    "\n",
    "model_svc = Pipeline([\n",
    "                    ('tfidf', TfidfVectorizer(stop_words=stopwords)),\n",
    "                    ('clf', LinearSVC())])\n",
    "                   \n",
    "   \n",
    "               \n",
    "parametres = {'clf__C': [5, 10]}  \n",
    "                   \n",
    "       \n",
    "                   \n",
    "scoring='f1'\n",
    "n_jobs = -1\n",
    "\n",
    "gr_svc = GridSearchCV(model_svc,\n",
    "                     param_grid = parametres,\n",
    "                     scoring = scoring,\n",
    "                     n_jobs = n_jobs,\n",
    "                     verbose=3,\n",
    "                     cv=3,\n",
    "                     refit=False).fit(features_train['lemm_text'], target_train)\n",
    "                               \n",
    "display(gr_svc.best_params_)\n",
    "display(gr_svc.best_score_)"
   ]
  },
  {
   "cell_type": "markdown",
   "metadata": {},
   "source": [
    "### **Тест**"
   ]
  },
  {
   "cell_type": "markdown",
   "metadata": {},
   "source": [
    "Тестируем модель **LogisticRegression**"
   ]
  },
  {
   "cell_type": "code",
   "execution_count": 27,
   "metadata": {},
   "outputs": [
    {
     "name": "stdout",
     "output_type": "stream",
     "text": [
      "0.783114186851211\n"
     ]
    }
   ],
   "source": [
    "model_l.set_params(**gr_lr.best_params_) \n",
    "model_l.fit(features_train['lemm_text'], target_train) \n",
    "predictions = model_l.predict(features_test['lemm_text'])\n",
    "f1 = f1_score(target_test, predictions)\n",
    "print(f1)"
   ]
  },
  {
   "cell_type": "markdown",
   "metadata": {},
   "source": [
    "### **Вывод:**"
   ]
  },
  {
   "cell_type": "code",
   "execution_count": 28,
   "metadata": {},
   "outputs": [
    {
     "data": {
      "text/html": [
       "<div>\n",
       "<style scoped>\n",
       "    .dataframe tbody tr th:only-of-type {\n",
       "        vertical-align: middle;\n",
       "    }\n",
       "\n",
       "    .dataframe tbody tr th {\n",
       "        vertical-align: top;\n",
       "    }\n",
       "\n",
       "    .dataframe thead th {\n",
       "        text-align: right;\n",
       "    }\n",
       "</style>\n",
       "<table border=\"1\" class=\"dataframe\">\n",
       "  <thead>\n",
       "    <tr style=\"text-align: right;\">\n",
       "      <th></th>\n",
       "      <th>F1 Test</th>\n",
       "      <th>Выполнение задачи</th>\n",
       "    </tr>\n",
       "  </thead>\n",
       "  <tbody>\n",
       "    <tr>\n",
       "      <th>LogisticRegression</th>\n",
       "      <td>0.783114</td>\n",
       "      <td>True</td>\n",
       "    </tr>\n",
       "  </tbody>\n",
       "</table>\n",
       "</div>"
      ],
      "text/plain": [
       "                     F1 Test  Выполнение задачи\n",
       "LogisticRegression  0.783114               True"
      ]
     },
     "execution_count": 28,
     "metadata": {},
     "output_type": "execute_result"
    }
   ],
   "source": [
    "index = ['LogisticRegression']\n",
    "\n",
    "metric = {\n",
    "        'F1 Test':[0.783114186851211\n",
    "                  ]}\n",
    "\n",
    "sravnenie = pd.DataFrame(data=metric, index=index)\n",
    "sravnenie['Выполнение задачи'] = sravnenie['F1 Test'] > 0.75\n",
    "sravnenie"
   ]
  },
  {
   "cell_type": "markdown",
   "metadata": {},
   "source": [
    "Были обучены следующие модели:\n",
    "- **LogisticRegression**\n",
    "- **LinearSVC**\n",
    "\n",
    "Наилучшей моделью оказалась **LogisticRegression**, показатель метрики **F1** на тестовой выборке - **0.783114**, что больше условия **>75**"
   ]
  },
  {
   "cell_type": "markdown",
   "metadata": {},
   "source": [
    "## Общий вывод"
   ]
  },
  {
   "cell_type": "markdown",
   "metadata": {},
   "source": [
    "1. Подготовка:\n",
    "\n",
    "- Загружен датасет\n",
    "\n",
    "- Проверено распределение классов и сделан вывод\n",
    "\n",
    "- Проведена очистка текста и лемматизация Wordnet Lemmatizer с POS-тегом\n",
    "\n",
    "- Созданы выборки \n",
    "\n",
    "2. Были обучены следующие модели с pipeline и TfidfVectorizer:\n",
    "\n",
    "- LogisticRegression\n",
    "\n",
    "- LinearSVC\n",
    "\n",
    "\n",
    "\n",
    "Наилучшей моделью оказалась **LogisticRegression**, показатель метрики **F1** на тестовой выборке - **0.783114**, что больше условия **>75**\n",
    "\n",
    "Задача выполнена!\n",
    "\n",
    "\n",
    "\n"
   ]
  }
 ],
 "metadata": {
  "ExecuteTimeLog": [
   {
    "duration": 1617,
    "start_time": "2023-05-07T12:32:01.667Z"
   },
   {
    "duration": 4,
    "start_time": "2023-05-07T12:34:44.404Z"
   },
   {
    "duration": 6,
    "start_time": "2023-05-07T13:47:02.042Z"
   },
   {
    "duration": 355,
    "start_time": "2023-05-07T20:46:21.238Z"
   },
   {
    "duration": 3348,
    "start_time": "2023-05-07T20:46:22.061Z"
   },
   {
    "duration": 26,
    "start_time": "2023-05-07T20:46:40.219Z"
   },
   {
    "duration": 12,
    "start_time": "2023-05-07T20:46:53.697Z"
   },
   {
    "duration": 13,
    "start_time": "2023-05-07T20:47:35.692Z"
   },
   {
    "duration": 29,
    "start_time": "2023-05-07T20:47:40.711Z"
   },
   {
    "duration": 70,
    "start_time": "2023-05-07T20:47:58.263Z"
   },
   {
    "duration": 46,
    "start_time": "2023-05-07T20:48:03.047Z"
   },
   {
    "duration": 876,
    "start_time": "2023-05-07T20:49:05.011Z"
   },
   {
    "duration": 34,
    "start_time": "2023-05-07T20:49:11.350Z"
   },
   {
    "duration": 8,
    "start_time": "2023-05-07T20:56:29.751Z"
   },
   {
    "duration": 4,
    "start_time": "2023-05-07T20:56:30.344Z"
   },
   {
    "duration": 4,
    "start_time": "2023-05-07T20:56:42.314Z"
   },
   {
    "duration": 4,
    "start_time": "2023-05-07T20:56:59.212Z"
   },
   {
    "duration": 6,
    "start_time": "2023-05-07T20:57:04.971Z"
   },
   {
    "duration": 3,
    "start_time": "2023-05-07T20:57:07.742Z"
   },
   {
    "duration": 3,
    "start_time": "2023-05-07T20:59:45.469Z"
   },
   {
    "duration": 691,
    "start_time": "2023-05-07T20:59:45.997Z"
   },
   {
    "duration": 7,
    "start_time": "2023-05-07T21:02:32.337Z"
   },
   {
    "duration": 3827,
    "start_time": "2023-05-07T21:39:31.243Z"
   },
   {
    "duration": 65,
    "start_time": "2023-05-07T21:39:35.704Z"
   },
   {
    "duration": 34284,
    "start_time": "2023-05-07T21:40:14.907Z"
   },
   {
    "duration": 9,
    "start_time": "2023-05-07T21:41:42.787Z"
   },
   {
    "duration": 0,
    "start_time": "2023-05-07T22:19:56.107Z"
   },
   {
    "duration": 345,
    "start_time": "2023-05-07T22:19:57.817Z"
   },
   {
    "duration": 729,
    "start_time": "2023-05-07T22:20:30.000Z"
   },
   {
    "duration": 412,
    "start_time": "2023-05-07T22:20:47.848Z"
   },
   {
    "duration": 0,
    "start_time": "2023-05-07T22:20:48.262Z"
   },
   {
    "duration": 0,
    "start_time": "2023-05-07T22:20:48.263Z"
   },
   {
    "duration": 0,
    "start_time": "2023-05-07T22:20:48.264Z"
   },
   {
    "duration": 0,
    "start_time": "2023-05-07T22:20:48.265Z"
   },
   {
    "duration": 0,
    "start_time": "2023-05-07T22:20:48.266Z"
   },
   {
    "duration": 0,
    "start_time": "2023-05-07T22:20:48.274Z"
   },
   {
    "duration": 0,
    "start_time": "2023-05-07T22:20:48.274Z"
   },
   {
    "duration": 0,
    "start_time": "2023-05-07T22:20:48.275Z"
   },
   {
    "duration": 0,
    "start_time": "2023-05-07T22:20:48.276Z"
   },
   {
    "duration": 0,
    "start_time": "2023-05-07T22:20:48.277Z"
   },
   {
    "duration": 0,
    "start_time": "2023-05-07T22:20:48.285Z"
   },
   {
    "duration": 1065,
    "start_time": "2023-05-07T22:21:06.918Z"
   },
   {
    "duration": 948,
    "start_time": "2023-05-07T22:21:15.928Z"
   },
   {
    "duration": 34,
    "start_time": "2023-05-07T22:21:16.877Z"
   },
   {
    "duration": 8,
    "start_time": "2023-05-07T22:21:16.913Z"
   },
   {
    "duration": 8,
    "start_time": "2023-05-07T22:21:17.043Z"
   },
   {
    "duration": 41,
    "start_time": "2023-05-07T22:21:17.561Z"
   },
   {
    "duration": 20,
    "start_time": "2023-05-07T22:21:18.269Z"
   },
   {
    "duration": 46,
    "start_time": "2023-05-07T22:21:19.655Z"
   },
   {
    "duration": 4,
    "start_time": "2023-05-07T22:21:21.043Z"
   },
   {
    "duration": 82,
    "start_time": "2023-05-07T22:21:27.059Z"
   },
   {
    "duration": 1263,
    "start_time": "2023-05-07T22:21:37.110Z"
   },
   {
    "duration": 4372,
    "start_time": "2023-05-07T22:22:08.340Z"
   },
   {
    "duration": 85857,
    "start_time": "2023-05-07T22:22:19.213Z"
   },
   {
    "duration": 6,
    "start_time": "2023-05-07T22:24:15.827Z"
   },
   {
    "duration": 12,
    "start_time": "2023-05-07T22:24:33.811Z"
   },
   {
    "duration": 7,
    "start_time": "2023-05-07T22:31:02.363Z"
   },
   {
    "duration": 6,
    "start_time": "2023-05-07T22:36:26.125Z"
   },
   {
    "duration": 6,
    "start_time": "2023-05-07T22:43:16.912Z"
   },
   {
    "duration": 10,
    "start_time": "2023-05-07T22:43:17.738Z"
   },
   {
    "duration": 6,
    "start_time": "2023-05-07T22:43:42.717Z"
   },
   {
    "duration": 20,
    "start_time": "2023-05-07T22:43:46.422Z"
   },
   {
    "duration": 12,
    "start_time": "2023-05-07T22:43:47.629Z"
   },
   {
    "duration": 6428,
    "start_time": "2023-05-07T22:43:58.578Z"
   },
   {
    "duration": 4,
    "start_time": "2023-05-07T22:44:23.490Z"
   },
   {
    "duration": 4,
    "start_time": "2023-05-07T22:44:39.027Z"
   },
   {
    "duration": 6,
    "start_time": "2023-05-07T22:45:06.426Z"
   },
   {
    "duration": 7,
    "start_time": "2023-05-07T22:46:13.856Z"
   },
   {
    "duration": 10,
    "start_time": "2023-05-07T22:46:24.759Z"
   },
   {
    "duration": 9,
    "start_time": "2023-05-07T22:46:38.394Z"
   },
   {
    "duration": 68,
    "start_time": "2023-05-07T22:49:48.489Z"
   },
   {
    "duration": 160123,
    "start_time": "2023-05-07T22:50:30.664Z"
   },
   {
    "duration": 1331,
    "start_time": "2023-05-07T23:13:10.036Z"
   },
   {
    "duration": 868,
    "start_time": "2023-05-07T23:13:11.369Z"
   },
   {
    "duration": 51,
    "start_time": "2023-05-07T23:13:12.239Z"
   },
   {
    "duration": 10,
    "start_time": "2023-05-07T23:13:12.292Z"
   },
   {
    "duration": 15,
    "start_time": "2023-05-07T23:13:12.305Z"
   },
   {
    "duration": 44,
    "start_time": "2023-05-07T23:13:12.322Z"
   },
   {
    "duration": 23,
    "start_time": "2023-05-07T23:13:12.368Z"
   },
   {
    "duration": 35,
    "start_time": "2023-05-07T23:13:12.393Z"
   },
   {
    "duration": 8,
    "start_time": "2023-05-07T23:13:12.430Z"
   },
   {
    "duration": 1196,
    "start_time": "2023-05-07T23:13:12.440Z"
   },
   {
    "duration": 3723,
    "start_time": "2023-05-07T23:13:13.637Z"
   },
   {
    "duration": 79048,
    "start_time": "2023-05-07T23:13:17.361Z"
   },
   {
    "duration": 9,
    "start_time": "2023-05-07T23:14:36.411Z"
   },
   {
    "duration": 16,
    "start_time": "2023-05-07T23:14:36.423Z"
   },
   {
    "duration": 6,
    "start_time": "2023-05-07T23:14:36.441Z"
   },
   {
    "duration": 43,
    "start_time": "2023-05-07T23:14:36.449Z"
   },
   {
    "duration": 6343,
    "start_time": "2023-05-07T23:14:36.494Z"
   },
   {
    "duration": 4,
    "start_time": "2023-05-07T23:14:42.838Z"
   },
   {
    "duration": 16,
    "start_time": "2023-05-07T23:14:42.844Z"
   },
   {
    "duration": 60777,
    "start_time": "2023-05-07T23:14:42.862Z"
   },
   {
    "duration": 146,
    "start_time": "2023-05-07T23:19:55.059Z"
   },
   {
    "duration": 9,
    "start_time": "2023-05-07T23:20:02.349Z"
   },
   {
    "duration": 13,
    "start_time": "2023-05-07T23:20:12.644Z"
   },
   {
    "duration": 6248,
    "start_time": "2023-05-07T23:20:14.548Z"
   },
   {
    "duration": 3,
    "start_time": "2023-05-07T23:20:20.799Z"
   },
   {
    "duration": 26,
    "start_time": "2023-05-07T23:20:20.804Z"
   },
   {
    "duration": 1907,
    "start_time": "2023-05-07T23:35:00.196Z"
   },
   {
    "duration": 1475,
    "start_time": "2023-05-07T23:35:23.589Z"
   },
   {
    "duration": 2714,
    "start_time": "2023-05-07T23:35:30.642Z"
   },
   {
    "duration": 22,
    "start_time": "2023-05-07T23:35:33.357Z"
   },
   {
    "duration": 26,
    "start_time": "2023-05-07T23:35:33.381Z"
   },
   {
    "duration": 11,
    "start_time": "2023-05-07T23:35:33.409Z"
   },
   {
    "duration": 33,
    "start_time": "2023-05-07T23:35:33.421Z"
   },
   {
    "duration": 7,
    "start_time": "2023-05-07T23:35:34.490Z"
   },
   {
    "duration": 36,
    "start_time": "2023-05-07T23:35:46.891Z"
   },
   {
    "duration": 5,
    "start_time": "2023-05-07T23:35:47.792Z"
   },
   {
    "duration": 1120,
    "start_time": "2023-05-07T23:35:50.618Z"
   },
   {
    "duration": 3514,
    "start_time": "2023-05-07T23:35:53.307Z"
   },
   {
    "duration": 75148,
    "start_time": "2023-05-07T23:35:59.101Z"
   },
   {
    "duration": 8,
    "start_time": "2023-05-07T23:37:56.132Z"
   },
   {
    "duration": 4,
    "start_time": "2023-05-07T23:37:57.849Z"
   },
   {
    "duration": 1754,
    "start_time": "2023-05-07T23:38:02.036Z"
   },
   {
    "duration": 65,
    "start_time": "2023-05-07T23:38:23.467Z"
   },
   {
    "duration": 1423,
    "start_time": "2023-05-07T23:38:37.026Z"
   },
   {
    "duration": 2534,
    "start_time": "2023-05-07T23:38:41.592Z"
   },
   {
    "duration": 33,
    "start_time": "2023-05-07T23:38:48.151Z"
   },
   {
    "duration": 1364,
    "start_time": "2023-05-07T23:38:54.598Z"
   },
   {
    "duration": 823,
    "start_time": "2023-05-07T23:38:57.805Z"
   },
   {
    "duration": 37,
    "start_time": "2023-05-07T23:38:59.149Z"
   },
   {
    "duration": 10,
    "start_time": "2023-05-07T23:38:59.688Z"
   },
   {
    "duration": 9,
    "start_time": "2023-05-07T23:39:00.243Z"
   },
   {
    "duration": 25,
    "start_time": "2023-05-07T23:39:01.709Z"
   },
   {
    "duration": 6,
    "start_time": "2023-05-07T23:39:02.804Z"
   },
   {
    "duration": 28,
    "start_time": "2023-05-07T23:39:04.130Z"
   },
   {
    "duration": 4,
    "start_time": "2023-05-07T23:39:05.920Z"
   },
   {
    "duration": 1106,
    "start_time": "2023-05-07T23:39:07.957Z"
   },
   {
    "duration": 3436,
    "start_time": "2023-05-07T23:39:16.054Z"
   },
   {
    "duration": 73333,
    "start_time": "2023-05-07T23:39:22.179Z"
   },
   {
    "duration": 6,
    "start_time": "2023-05-07T23:40:38.427Z"
   },
   {
    "duration": 5,
    "start_time": "2023-05-07T23:40:58.086Z"
   },
   {
    "duration": 1718,
    "start_time": "2023-05-07T23:40:59.024Z"
   },
   {
    "duration": 1762,
    "start_time": "2023-05-08T00:00:32.832Z"
   },
   {
    "duration": 2378,
    "start_time": "2023-05-08T00:00:35.451Z"
   },
   {
    "duration": 21,
    "start_time": "2023-05-08T00:00:37.831Z"
   },
   {
    "duration": 9,
    "start_time": "2023-05-08T00:00:38.956Z"
   },
   {
    "duration": 9,
    "start_time": "2023-05-08T00:00:40.915Z"
   },
   {
    "duration": 26,
    "start_time": "2023-05-08T00:00:41.380Z"
   },
   {
    "duration": 6,
    "start_time": "2023-05-08T00:00:44.400Z"
   },
   {
    "duration": 234,
    "start_time": "2023-05-08T00:00:55.532Z"
   },
   {
    "duration": 4,
    "start_time": "2023-05-08T00:00:59.612Z"
   },
   {
    "duration": 10444,
    "start_time": "2023-05-08T00:01:08.572Z"
   },
   {
    "duration": 72963,
    "start_time": "2023-05-08T00:01:21.468Z"
   },
   {
    "duration": 7,
    "start_time": "2023-05-08T00:04:27.919Z"
   },
   {
    "duration": 359,
    "start_time": "2023-05-08T00:05:57.617Z"
   },
   {
    "duration": 8,
    "start_time": "2023-05-08T00:06:52.846Z"
   },
   {
    "duration": 29,
    "start_time": "2023-05-08T00:07:11.135Z"
   },
   {
    "duration": 359,
    "start_time": "2023-05-08T00:07:15.971Z"
   },
   {
    "duration": 109,
    "start_time": "2023-05-08T00:08:13.359Z"
   },
   {
    "duration": 8,
    "start_time": "2023-05-08T00:08:56.565Z"
   },
   {
    "duration": 183,
    "start_time": "2023-05-08T00:09:02.489Z"
   },
   {
    "duration": 8,
    "start_time": "2023-05-08T00:09:05.000Z"
   },
   {
    "duration": 1414,
    "start_time": "2023-05-08T00:30:13.678Z"
   },
   {
    "duration": 779,
    "start_time": "2023-05-08T00:30:16.734Z"
   },
   {
    "duration": 19,
    "start_time": "2023-05-08T00:30:17.515Z"
   },
   {
    "duration": 7,
    "start_time": "2023-05-08T00:30:17.561Z"
   },
   {
    "duration": 8,
    "start_time": "2023-05-08T00:30:18.038Z"
   },
   {
    "duration": 25,
    "start_time": "2023-05-08T00:30:18.455Z"
   },
   {
    "duration": 5,
    "start_time": "2023-05-08T00:30:18.974Z"
   },
   {
    "duration": 212,
    "start_time": "2023-05-08T00:30:19.439Z"
   },
   {
    "duration": 28,
    "start_time": "2023-05-08T00:30:19.911Z"
   },
   {
    "duration": 10,
    "start_time": "2023-05-08T00:33:04.979Z"
   },
   {
    "duration": 1716,
    "start_time": "2023-05-08T01:08:32.832Z"
   },
   {
    "duration": 785,
    "start_time": "2023-05-08T01:08:34.550Z"
   },
   {
    "duration": 18,
    "start_time": "2023-05-08T01:08:35.336Z"
   },
   {
    "duration": 17,
    "start_time": "2023-05-08T01:08:35.356Z"
   },
   {
    "duration": 8,
    "start_time": "2023-05-08T01:08:36.673Z"
   },
   {
    "duration": 25,
    "start_time": "2023-05-08T01:08:38.541Z"
   },
   {
    "duration": 7,
    "start_time": "2023-05-08T01:08:39.068Z"
   },
   {
    "duration": 216,
    "start_time": "2023-05-08T01:08:40.095Z"
   },
   {
    "duration": 5,
    "start_time": "2023-05-08T01:08:47.838Z"
   },
   {
    "duration": 116,
    "start_time": "2023-05-08T01:09:04.977Z"
   },
   {
    "duration": 1486,
    "start_time": "2023-05-08T02:06:30.548Z"
   },
   {
    "duration": 875,
    "start_time": "2023-05-08T02:06:33.247Z"
   },
   {
    "duration": 26,
    "start_time": "2023-05-08T02:06:34.427Z"
   },
   {
    "duration": 8,
    "start_time": "2023-05-08T02:06:35.101Z"
   },
   {
    "duration": 8,
    "start_time": "2023-05-08T02:06:35.636Z"
   },
   {
    "duration": 24,
    "start_time": "2023-05-08T02:06:36.794Z"
   },
   {
    "duration": 6,
    "start_time": "2023-05-08T02:06:37.296Z"
   },
   {
    "duration": 216,
    "start_time": "2023-05-08T02:06:37.741Z"
   },
   {
    "duration": 27,
    "start_time": "2023-05-08T02:06:38.435Z"
   },
   {
    "duration": 13,
    "start_time": "2023-05-08T02:06:45.958Z"
   },
   {
    "duration": 5988,
    "start_time": "2023-05-08T02:06:52.280Z"
   },
   {
    "duration": 399,
    "start_time": "2023-05-08T02:07:01.553Z"
   },
   {
    "duration": 6,
    "start_time": "2023-05-08T02:07:28.826Z"
   },
   {
    "duration": 6186,
    "start_time": "2023-05-08T02:07:32.135Z"
   },
   {
    "duration": 68809,
    "start_time": "2023-05-08T02:07:39.619Z"
   },
   {
    "duration": 7,
    "start_time": "2023-05-08T02:09:22.704Z"
   },
   {
    "duration": 368,
    "start_time": "2023-05-08T02:09:42.679Z"
   },
   {
    "duration": 9,
    "start_time": "2023-05-08T02:09:44.644Z"
   },
   {
    "duration": 27,
    "start_time": "2023-05-08T02:09:47.172Z"
   },
   {
    "duration": 178,
    "start_time": "2023-05-08T02:09:50.421Z"
   },
   {
    "duration": 6,
    "start_time": "2023-05-08T02:13:18.505Z"
   },
   {
    "duration": 6,
    "start_time": "2023-05-08T02:17:53.352Z"
   },
   {
    "duration": 11791,
    "start_time": "2023-05-08T02:17:56.785Z"
   },
   {
    "duration": 68457,
    "start_time": "2023-05-08T02:18:09.841Z"
   },
   {
    "duration": 7,
    "start_time": "2023-05-08T02:19:27.501Z"
   },
   {
    "duration": 23,
    "start_time": "2023-05-08T02:19:28.948Z"
   },
   {
    "duration": 6,
    "start_time": "2023-05-08T02:19:29.694Z"
   },
   {
    "duration": 1361,
    "start_time": "2023-05-08T02:21:49.003Z"
   },
   {
    "duration": 789,
    "start_time": "2023-05-08T02:21:52.458Z"
   },
   {
    "duration": 24,
    "start_time": "2023-05-08T02:21:53.249Z"
   },
   {
    "duration": 8,
    "start_time": "2023-05-08T02:21:53.375Z"
   },
   {
    "duration": 8,
    "start_time": "2023-05-08T02:21:53.849Z"
   },
   {
    "duration": 25,
    "start_time": "2023-05-08T02:21:54.208Z"
   },
   {
    "duration": 6,
    "start_time": "2023-05-08T02:21:54.639Z"
   },
   {
    "duration": 216,
    "start_time": "2023-05-08T02:21:55.001Z"
   },
   {
    "duration": 28,
    "start_time": "2023-05-08T02:21:55.357Z"
   },
   {
    "duration": 11,
    "start_time": "2023-05-08T02:21:57.390Z"
   },
   {
    "duration": 1059,
    "start_time": "2023-05-08T02:22:05.152Z"
   },
   {
    "duration": 5,
    "start_time": "2023-05-08T02:22:30.730Z"
   },
   {
    "duration": 3,
    "start_time": "2023-05-08T02:22:31.773Z"
   },
   {
    "duration": 6051,
    "start_time": "2023-05-08T02:22:39.995Z"
   },
   {
    "duration": 67795,
    "start_time": "2023-05-08T02:22:47.183Z"
   },
   {
    "duration": 8,
    "start_time": "2023-05-08T02:24:06.406Z"
   },
   {
    "duration": 24,
    "start_time": "2023-05-08T02:24:06.881Z"
   },
   {
    "duration": 6,
    "start_time": "2023-05-08T02:24:07.660Z"
   },
   {
    "duration": 4,
    "start_time": "2023-05-08T02:29:23.670Z"
   },
   {
    "duration": 7,
    "start_time": "2023-05-08T02:30:28.064Z"
   },
   {
    "duration": 8,
    "start_time": "2023-05-08T02:31:37.466Z"
   },
   {
    "duration": 106,
    "start_time": "2023-05-08T02:43:45.180Z"
   },
   {
    "duration": 2,
    "start_time": "2023-05-08T02:43:47.783Z"
   },
   {
    "duration": 44,
    "start_time": "2023-05-08T02:43:48.211Z"
   },
   {
    "duration": 5,
    "start_time": "2023-05-08T02:45:03.985Z"
   },
   {
    "duration": 9,
    "start_time": "2023-05-08T03:13:35.815Z"
   },
   {
    "duration": 3,
    "start_time": "2023-05-08T03:13:36.496Z"
   },
   {
    "duration": 26,
    "start_time": "2023-05-08T03:13:38.646Z"
   },
   {
    "duration": 129,
    "start_time": "2023-05-08T03:14:11.944Z"
   },
   {
    "duration": 2147,
    "start_time": "2023-05-08T03:14:41.959Z"
   },
   {
    "duration": 1576,
    "start_time": "2023-05-08T03:14:45.728Z"
   },
   {
    "duration": 74,
    "start_time": "2023-05-08T03:14:47.306Z"
   },
   {
    "duration": 14,
    "start_time": "2023-05-08T03:14:47.382Z"
   },
   {
    "duration": 16,
    "start_time": "2023-05-08T03:14:47.398Z"
   },
   {
    "duration": 84,
    "start_time": "2023-05-08T03:14:47.416Z"
   },
   {
    "duration": 5,
    "start_time": "2023-05-08T03:14:47.501Z"
   },
   {
    "duration": 480,
    "start_time": "2023-05-08T03:14:47.508Z"
   },
   {
    "duration": 27,
    "start_time": "2023-05-08T03:14:48.090Z"
   },
   {
    "duration": 10,
    "start_time": "2023-05-08T03:14:49.037Z"
   },
   {
    "duration": 2086,
    "start_time": "2023-05-08T03:14:50.028Z"
   },
   {
    "duration": 12126,
    "start_time": "2023-05-08T03:14:52.173Z"
   },
   {
    "duration": 138998,
    "start_time": "2023-05-08T03:15:04.301Z"
   },
   {
    "duration": 8,
    "start_time": "2023-05-08T03:17:29.142Z"
   },
   {
    "duration": 32,
    "start_time": "2023-05-08T03:17:29.856Z"
   },
   {
    "duration": 5,
    "start_time": "2023-05-08T03:17:30.740Z"
   },
   {
    "duration": 2435,
    "start_time": "2023-05-08T03:18:33.061Z"
   },
   {
    "duration": 1534,
    "start_time": "2023-05-08T03:18:41.975Z"
   },
   {
    "duration": 26,
    "start_time": "2023-05-08T03:18:45.274Z"
   },
   {
    "duration": 8,
    "start_time": "2023-05-08T03:18:46.411Z"
   },
   {
    "duration": 10,
    "start_time": "2023-05-08T03:18:47.690Z"
   },
   {
    "duration": 26,
    "start_time": "2023-05-08T03:18:48.093Z"
   },
   {
    "duration": 7,
    "start_time": "2023-05-08T03:18:49.409Z"
   },
   {
    "duration": 455,
    "start_time": "2023-05-08T03:18:51.624Z"
   },
   {
    "duration": 28,
    "start_time": "2023-05-08T03:18:52.203Z"
   },
   {
    "duration": 16,
    "start_time": "2023-05-08T03:18:58.263Z"
   },
   {
    "duration": 2136,
    "start_time": "2023-05-08T03:19:01.543Z"
   },
   {
    "duration": 12131,
    "start_time": "2023-05-08T03:19:03.681Z"
   },
   {
    "duration": 140394,
    "start_time": "2023-05-08T03:19:15.814Z"
   },
   {
    "duration": 8,
    "start_time": "2023-05-08T03:21:52.587Z"
   },
   {
    "duration": 52,
    "start_time": "2023-05-08T03:21:54.026Z"
   },
   {
    "duration": 7,
    "start_time": "2023-05-08T03:21:54.383Z"
   },
   {
    "duration": 8,
    "start_time": "2023-05-08T03:21:56.134Z"
   },
   {
    "duration": 3,
    "start_time": "2023-05-08T03:21:56.648Z"
   },
   {
    "duration": 274,
    "start_time": "2023-05-08T03:21:58.930Z"
   },
   {
    "duration": 28,
    "start_time": "2023-05-08T03:22:41.177Z"
   },
   {
    "duration": 16,
    "start_time": "2023-05-08T03:22:45.556Z"
   },
   {
    "duration": 20,
    "start_time": "2023-05-08T03:22:46.554Z"
   },
   {
    "duration": 134,
    "start_time": "2023-05-08T03:25:43.250Z"
   },
   {
    "duration": 29,
    "start_time": "2023-05-08T03:55:46.948Z"
   },
   {
    "duration": 6,
    "start_time": "2023-05-08T03:56:07.491Z"
   },
   {
    "duration": 27,
    "start_time": "2023-05-08T03:56:11.984Z"
   },
   {
    "duration": 196,
    "start_time": "2023-05-08T03:56:39.928Z"
   },
   {
    "duration": 8,
    "start_time": "2023-05-08T03:57:11.962Z"
   },
   {
    "duration": 5,
    "start_time": "2023-05-08T03:57:18.451Z"
   },
   {
    "duration": 31,
    "start_time": "2023-05-08T03:57:43.015Z"
   },
   {
    "duration": 6,
    "start_time": "2023-05-08T03:57:43.472Z"
   },
   {
    "duration": 25,
    "start_time": "2023-05-08T03:57:47.980Z"
   },
   {
    "duration": 5,
    "start_time": "2023-05-08T03:57:48.319Z"
   },
   {
    "duration": 23,
    "start_time": "2023-05-08T03:57:52.582Z"
   },
   {
    "duration": 5,
    "start_time": "2023-05-08T03:57:52.994Z"
   },
   {
    "duration": 21,
    "start_time": "2023-05-08T03:57:58.002Z"
   },
   {
    "duration": 5,
    "start_time": "2023-05-08T03:57:58.536Z"
   },
   {
    "duration": 27,
    "start_time": "2023-05-08T03:58:13.062Z"
   },
   {
    "duration": 6,
    "start_time": "2023-05-08T03:58:13.536Z"
   },
   {
    "duration": 23,
    "start_time": "2023-05-08T03:58:19.281Z"
   },
   {
    "duration": 6,
    "start_time": "2023-05-08T03:58:19.601Z"
   },
   {
    "duration": 23,
    "start_time": "2023-05-08T03:58:24.558Z"
   },
   {
    "duration": 6,
    "start_time": "2023-05-08T03:58:24.912Z"
   },
   {
    "duration": 23,
    "start_time": "2023-05-08T03:58:34.454Z"
   },
   {
    "duration": 6,
    "start_time": "2023-05-08T03:58:34.694Z"
   },
   {
    "duration": 24,
    "start_time": "2023-05-08T03:58:38.938Z"
   },
   {
    "duration": 5,
    "start_time": "2023-05-08T03:58:39.249Z"
   },
   {
    "duration": 21,
    "start_time": "2023-05-08T03:58:42.675Z"
   },
   {
    "duration": 5,
    "start_time": "2023-05-08T03:58:42.965Z"
   },
   {
    "duration": 4,
    "start_time": "2023-05-08T04:03:38.861Z"
   },
   {
    "duration": 5,
    "start_time": "2023-05-08T04:11:57.868Z"
   },
   {
    "duration": 5,
    "start_time": "2023-05-08T04:18:17.458Z"
   },
   {
    "duration": 3,
    "start_time": "2023-05-08T04:27:21.121Z"
   },
   {
    "duration": 449,
    "start_time": "2023-05-08T04:27:40.115Z"
   },
   {
    "duration": 4,
    "start_time": "2023-05-08T04:28:05.935Z"
   },
   {
    "duration": 1351,
    "start_time": "2023-05-08T04:47:08.789Z"
   },
   {
    "duration": 772,
    "start_time": "2023-05-08T04:47:10.926Z"
   },
   {
    "duration": 25,
    "start_time": "2023-05-08T04:47:12.163Z"
   },
   {
    "duration": 8,
    "start_time": "2023-05-08T04:47:12.727Z"
   },
   {
    "duration": 8,
    "start_time": "2023-05-08T04:47:14.196Z"
   },
   {
    "duration": 25,
    "start_time": "2023-05-08T04:47:16.651Z"
   },
   {
    "duration": 6,
    "start_time": "2023-05-08T04:47:18.180Z"
   },
   {
    "duration": 216,
    "start_time": "2023-05-08T04:47:19.376Z"
   },
   {
    "duration": 28,
    "start_time": "2023-05-08T04:47:20.365Z"
   },
   {
    "duration": 10,
    "start_time": "2023-05-08T04:47:22.279Z"
   },
   {
    "duration": 1120,
    "start_time": "2023-05-08T04:47:25.805Z"
   },
   {
    "duration": 6210,
    "start_time": "2023-05-08T04:47:27.138Z"
   },
   {
    "duration": 69082,
    "start_time": "2023-05-08T04:47:33.349Z"
   },
   {
    "duration": 8,
    "start_time": "2023-05-08T04:48:47.598Z"
   },
   {
    "duration": 22,
    "start_time": "2023-05-08T04:48:48.478Z"
   },
   {
    "duration": 5,
    "start_time": "2023-05-08T04:48:49.037Z"
   },
   {
    "duration": 8,
    "start_time": "2023-05-08T04:48:51.914Z"
   },
   {
    "duration": 2,
    "start_time": "2023-05-08T04:48:52.448Z"
   },
   {
    "duration": 48,
    "start_time": "2023-05-08T04:48:54.343Z"
   },
   {
    "duration": 185,
    "start_time": "2023-05-08T04:48:58.168Z"
   },
   {
    "duration": 173,
    "start_time": "2023-05-08T04:49:27.054Z"
   },
   {
    "duration": 6,
    "start_time": "2023-05-08T04:49:31.817Z"
   },
   {
    "duration": 169,
    "start_time": "2023-05-08T04:49:39.394Z"
   },
   {
    "duration": 21,
    "start_time": "2023-05-08T04:49:59.100Z"
   },
   {
    "duration": 193,
    "start_time": "2023-05-08T04:50:01.594Z"
   },
   {
    "duration": 20,
    "start_time": "2023-05-08T04:50:22.784Z"
   },
   {
    "duration": 168,
    "start_time": "2023-05-08T04:50:24.615Z"
   },
   {
    "duration": 54,
    "start_time": "2023-05-08T04:50:32.740Z"
   },
   {
    "duration": 2,
    "start_time": "2023-05-08T04:50:33.258Z"
   },
   {
    "duration": 189,
    "start_time": "2023-05-08T04:50:34.373Z"
   },
   {
    "duration": 6,
    "start_time": "2023-05-08T04:50:41.168Z"
   },
   {
    "duration": 9,
    "start_time": "2023-05-08T04:50:59.307Z"
   },
   {
    "duration": 2,
    "start_time": "2023-05-08T04:50:59.916Z"
   },
   {
    "duration": 78,
    "start_time": "2023-05-08T04:51:00.741Z"
   },
   {
    "duration": 21,
    "start_time": "2023-05-08T04:51:05.859Z"
   },
   {
    "duration": 6,
    "start_time": "2023-05-08T04:51:08.049Z"
   },
   {
    "duration": 105,
    "start_time": "2023-05-08T04:51:11.453Z"
   },
   {
    "duration": 8,
    "start_time": "2023-05-08T04:51:56.094Z"
   },
   {
    "duration": 10,
    "start_time": "2023-05-08T04:52:11.956Z"
   },
   {
    "duration": 3,
    "start_time": "2023-05-08T04:52:12.465Z"
   },
   {
    "duration": 16,
    "start_time": "2023-05-08T04:52:16.201Z"
   },
   {
    "duration": 6,
    "start_time": "2023-05-08T04:52:18.639Z"
   },
   {
    "duration": 841,
    "start_time": "2023-05-08T04:52:24.958Z"
   },
   {
    "duration": 175,
    "start_time": "2023-05-08T04:52:31.047Z"
   },
   {
    "duration": 4,
    "start_time": "2023-05-08T04:54:07.335Z"
   },
   {
    "duration": 198,
    "start_time": "2023-05-08T04:55:36.464Z"
   },
   {
    "duration": 7,
    "start_time": "2023-05-08T04:55:41.295Z"
   },
   {
    "duration": 172,
    "start_time": "2023-05-08T04:58:17.611Z"
   },
   {
    "duration": 8,
    "start_time": "2023-05-08T04:58:30.608Z"
   },
   {
    "duration": 718,
    "start_time": "2023-05-08T04:58:36.185Z"
   },
   {
    "duration": 6,
    "start_time": "2023-05-08T04:58:42.589Z"
   },
   {
    "duration": 5,
    "start_time": "2023-05-08T04:58:53.294Z"
   },
   {
    "duration": 168,
    "start_time": "2023-05-08T04:58:57.798Z"
   },
   {
    "duration": 3,
    "start_time": "2023-05-08T05:00:57.102Z"
   },
   {
    "duration": 3,
    "start_time": "2023-05-08T05:01:02.097Z"
   },
   {
    "duration": 3,
    "start_time": "2023-05-08T05:02:43.355Z"
   },
   {
    "duration": 3,
    "start_time": "2023-05-08T05:02:57.823Z"
   },
   {
    "duration": 3,
    "start_time": "2023-05-08T05:03:00.827Z"
   },
   {
    "duration": 1352,
    "start_time": "2023-05-08T05:04:52.639Z"
   },
   {
    "duration": 1522,
    "start_time": "2023-05-08T05:05:02.072Z"
   },
   {
    "duration": 781,
    "start_time": "2023-05-08T05:05:04.309Z"
   },
   {
    "duration": 26,
    "start_time": "2023-05-08T05:05:05.557Z"
   },
   {
    "duration": 8,
    "start_time": "2023-05-08T05:05:06.557Z"
   },
   {
    "duration": 11,
    "start_time": "2023-05-08T05:05:07.658Z"
   },
   {
    "duration": 32,
    "start_time": "2023-05-08T05:05:08.262Z"
   },
   {
    "duration": 6,
    "start_time": "2023-05-08T05:05:08.900Z"
   },
   {
    "duration": 220,
    "start_time": "2023-05-08T05:05:09.398Z"
   },
   {
    "duration": 28,
    "start_time": "2023-05-08T05:05:09.815Z"
   },
   {
    "duration": 10,
    "start_time": "2023-05-08T05:05:12.009Z"
   },
   {
    "duration": 1050,
    "start_time": "2023-05-08T05:05:14.226Z"
   },
   {
    "duration": 6037,
    "start_time": "2023-05-08T05:05:15.278Z"
   },
   {
    "duration": 70235,
    "start_time": "2023-05-08T05:05:21.317Z"
   },
   {
    "duration": 7,
    "start_time": "2023-05-08T05:06:31.554Z"
   },
   {
    "duration": 25,
    "start_time": "2023-05-08T05:08:56.796Z"
   },
   {
    "duration": 6,
    "start_time": "2023-05-08T05:09:00.119Z"
   },
   {
    "duration": 9,
    "start_time": "2023-05-08T05:09:06.843Z"
   },
   {
    "duration": 2,
    "start_time": "2023-05-08T05:09:07.442Z"
   },
   {
    "duration": 16,
    "start_time": "2023-05-08T05:09:08.490Z"
   },
   {
    "duration": 194,
    "start_time": "2023-05-08T05:09:22.867Z"
   },
   {
    "duration": 388,
    "start_time": "2023-05-08T05:11:13.527Z"
   },
   {
    "duration": 212,
    "start_time": "2023-05-08T05:11:20.364Z"
   },
   {
    "duration": 128,
    "start_time": "2023-05-08T05:12:07.224Z"
   },
   {
    "duration": 1593,
    "start_time": "2023-05-08T05:39:43.202Z"
   },
   {
    "duration": 770,
    "start_time": "2023-05-08T05:39:46.553Z"
   },
   {
    "duration": 27,
    "start_time": "2023-05-08T05:39:47.858Z"
   },
   {
    "duration": 8,
    "start_time": "2023-05-08T05:39:50.145Z"
   },
   {
    "duration": 9,
    "start_time": "2023-05-08T05:39:51.651Z"
   },
   {
    "duration": 25,
    "start_time": "2023-05-08T05:39:53.124Z"
   },
   {
    "duration": 5,
    "start_time": "2023-05-08T05:39:53.358Z"
   },
   {
    "duration": 214,
    "start_time": "2023-05-08T05:39:54.308Z"
   },
   {
    "duration": 28,
    "start_time": "2023-05-08T05:39:54.595Z"
   },
   {
    "duration": 11,
    "start_time": "2023-05-08T05:39:57.647Z"
   },
   {
    "duration": 1209,
    "start_time": "2023-05-08T05:40:02.963Z"
   },
   {
    "duration": 6446,
    "start_time": "2023-05-08T05:40:05.245Z"
   },
   {
    "duration": 69855,
    "start_time": "2023-05-08T05:40:11.693Z"
   },
   {
    "duration": 8,
    "start_time": "2023-05-08T05:42:33.588Z"
   },
   {
    "duration": 25,
    "start_time": "2023-05-08T05:42:34.252Z"
   },
   {
    "duration": 6,
    "start_time": "2023-05-08T05:42:35.169Z"
   },
   {
    "duration": 8,
    "start_time": "2023-05-08T05:43:00.821Z"
   },
   {
    "duration": 2,
    "start_time": "2023-05-08T05:43:01.705Z"
   },
   {
    "duration": 2,
    "start_time": "2023-05-08T05:43:03.281Z"
   },
   {
    "duration": 25,
    "start_time": "2023-05-08T05:43:03.571Z"
   },
   {
    "duration": 7,
    "start_time": "2023-05-08T05:43:50.302Z"
   },
   {
    "duration": 5,
    "start_time": "2023-05-08T05:44:10.835Z"
   },
   {
    "duration": 6,
    "start_time": "2023-05-08T05:44:28.222Z"
   },
   {
    "duration": 3,
    "start_time": "2023-05-08T05:45:56.032Z"
   },
   {
    "duration": 22,
    "start_time": "2023-05-08T05:51:59.881Z"
   },
   {
    "duration": 6,
    "start_time": "2023-05-08T05:52:01.626Z"
   },
   {
    "duration": 5,
    "start_time": "2023-05-08T05:52:26.801Z"
   },
   {
    "duration": 85,
    "start_time": "2023-05-08T05:52:43.502Z"
   },
   {
    "duration": 6,
    "start_time": "2023-05-08T05:52:48.967Z"
   },
   {
    "duration": 6,
    "start_time": "2023-05-08T05:54:17.433Z"
   },
   {
    "duration": 4,
    "start_time": "2023-05-08T05:56:03.586Z"
   },
   {
    "duration": 2,
    "start_time": "2023-05-08T05:56:07.308Z"
   },
   {
    "duration": 4,
    "start_time": "2023-05-08T05:56:19.311Z"
   },
   {
    "duration": 3,
    "start_time": "2023-05-08T05:56:40.358Z"
   },
   {
    "duration": 3,
    "start_time": "2023-05-08T05:56:51.360Z"
   },
   {
    "duration": 84,
    "start_time": "2023-05-08T06:03:06.384Z"
   },
   {
    "duration": 3,
    "start_time": "2023-05-08T06:03:10.859Z"
   },
   {
    "duration": 2046,
    "start_time": "2023-05-08T12:42:08.579Z"
   },
   {
    "duration": 3128,
    "start_time": "2023-05-08T12:42:10.702Z"
   },
   {
    "duration": 32,
    "start_time": "2023-05-08T12:42:13.832Z"
   },
   {
    "duration": 13,
    "start_time": "2023-05-08T12:42:13.866Z"
   },
   {
    "duration": 12,
    "start_time": "2023-05-08T12:42:14.319Z"
   },
   {
    "duration": 32,
    "start_time": "2023-05-08T12:42:14.679Z"
   },
   {
    "duration": 5,
    "start_time": "2023-05-08T12:42:15.491Z"
   },
   {
    "duration": 218,
    "start_time": "2023-05-08T12:42:15.940Z"
   },
   {
    "duration": 30,
    "start_time": "2023-05-08T12:42:16.412Z"
   },
   {
    "duration": 14,
    "start_time": "2023-05-08T12:42:20.530Z"
   },
   {
    "duration": 1446,
    "start_time": "2023-05-08T12:42:21.587Z"
   },
   {
    "duration": 6591,
    "start_time": "2023-05-08T12:42:23.035Z"
   },
   {
    "duration": 78409,
    "start_time": "2023-05-08T12:42:29.628Z"
   },
   {
    "duration": 11,
    "start_time": "2023-05-08T12:44:32.566Z"
   },
   {
    "duration": 38,
    "start_time": "2023-05-08T12:44:32.922Z"
   },
   {
    "duration": 9,
    "start_time": "2023-05-08T12:44:33.888Z"
   },
   {
    "duration": 17,
    "start_time": "2023-05-08T12:44:34.893Z"
   },
   {
    "duration": 3,
    "start_time": "2023-05-08T12:44:35.302Z"
   },
   {
    "duration": 140,
    "start_time": "2023-05-08T12:44:35.829Z"
   },
   {
    "duration": 39,
    "start_time": "2023-05-08T12:45:45.806Z"
   },
   {
    "duration": 5,
    "start_time": "2023-05-08T12:46:07.393Z"
   },
   {
    "duration": 253,
    "start_time": "2023-05-08T12:49:26.305Z"
   },
   {
    "duration": 2,
    "start_time": "2023-05-08T12:50:40.402Z"
   },
   {
    "duration": 93710,
    "start_time": "2023-05-08T12:55:44.051Z"
   },
   {
    "duration": 0,
    "start_time": "2023-05-08T12:58:33.641Z"
   },
   {
    "duration": 0,
    "start_time": "2023-05-08T12:59:16.572Z"
   },
   {
    "duration": 92960,
    "start_time": "2023-05-08T12:59:19.680Z"
   },
   {
    "duration": 199877,
    "start_time": "2023-05-08T13:00:58.868Z"
   },
   {
    "duration": 172,
    "start_time": "2023-05-08T13:04:39.103Z"
   },
   {
    "duration": 7,
    "start_time": "2023-05-08T13:05:12.541Z"
   },
   {
    "duration": 111,
    "start_time": "2023-05-08T13:05:29.407Z"
   },
   {
    "duration": 113339,
    "start_time": "2023-05-08T13:05:42.226Z"
   },
   {
    "duration": 368,
    "start_time": "2023-05-08T13:08:19.150Z"
   },
   {
    "duration": 11817,
    "start_time": "2023-05-08T13:27:20.258Z"
   },
   {
    "duration": 296,
    "start_time": "2023-05-08T13:27:34.907Z"
   },
   {
    "duration": 242,
    "start_time": "2023-05-08T13:27:41.958Z"
   },
   {
    "duration": 281,
    "start_time": "2023-05-08T13:27:46.970Z"
   },
   {
    "duration": 7,
    "start_time": "2023-05-08T13:35:39.306Z"
   },
   {
    "duration": 1984,
    "start_time": "2023-05-08T13:44:35.433Z"
   },
   {
    "duration": 762,
    "start_time": "2023-05-08T13:44:38.427Z"
   },
   {
    "duration": 113,
    "start_time": "2023-05-08T13:44:39.820Z"
   },
   {
    "duration": 14,
    "start_time": "2023-05-08T13:44:40.465Z"
   },
   {
    "duration": 17,
    "start_time": "2023-05-08T13:44:41.133Z"
   },
   {
    "duration": 33,
    "start_time": "2023-05-08T13:44:42.082Z"
   },
   {
    "duration": 7,
    "start_time": "2023-05-08T13:44:42.607Z"
   },
   {
    "duration": 229,
    "start_time": "2023-05-08T13:44:43.620Z"
   },
   {
    "duration": 34,
    "start_time": "2023-05-08T13:44:44.548Z"
   },
   {
    "duration": 13,
    "start_time": "2023-05-08T13:44:45.879Z"
   },
   {
    "duration": 1279,
    "start_time": "2023-05-08T13:44:48.752Z"
   },
   {
    "duration": 6678,
    "start_time": "2023-05-08T13:44:50.033Z"
   },
   {
    "duration": 78664,
    "start_time": "2023-05-08T13:44:56.713Z"
   },
   {
    "duration": 10,
    "start_time": "2023-05-08T14:14:29.876Z"
   },
   {
    "duration": 39,
    "start_time": "2023-05-08T14:14:32.348Z"
   },
   {
    "duration": 8,
    "start_time": "2023-05-08T14:14:33.121Z"
   },
   {
    "duration": 6820,
    "start_time": "2023-05-08T14:15:04.935Z"
   },
   {
    "duration": 136,
    "start_time": "2023-05-08T14:15:56.078Z"
   },
   {
    "duration": 22,
    "start_time": "2023-05-08T14:16:07.633Z"
   },
   {
    "duration": 21,
    "start_time": "2023-05-08T14:19:53.858Z"
   },
   {
    "duration": 19,
    "start_time": "2023-05-08T14:21:52.327Z"
   },
   {
    "duration": 15,
    "start_time": "2023-05-08T14:21:59.872Z"
   },
   {
    "duration": 19,
    "start_time": "2023-05-08T14:24:56.823Z"
   },
   {
    "duration": 2318,
    "start_time": "2023-05-08T14:26:13.770Z"
   },
   {
    "duration": 26,
    "start_time": "2023-05-08T14:26:33.973Z"
   },
   {
    "duration": 20,
    "start_time": "2023-05-08T14:26:49.874Z"
   },
   {
    "duration": 16,
    "start_time": "2023-05-08T14:26:55.781Z"
   },
   {
    "duration": 14,
    "start_time": "2023-05-08T14:27:57.843Z"
   },
   {
    "duration": 13,
    "start_time": "2023-05-08T14:28:45.095Z"
   },
   {
    "duration": 4056,
    "start_time": "2023-05-08T14:33:09.513Z"
   },
   {
    "duration": 858,
    "start_time": "2023-05-08T14:33:21.377Z"
   },
   {
    "duration": 50,
    "start_time": "2023-05-08T14:33:22.238Z"
   },
   {
    "duration": 11,
    "start_time": "2023-05-08T14:33:26.620Z"
   },
   {
    "duration": 11,
    "start_time": "2023-05-08T14:33:28.288Z"
   },
   {
    "duration": 35,
    "start_time": "2023-05-08T14:33:28.651Z"
   },
   {
    "duration": 6,
    "start_time": "2023-05-08T14:33:29.238Z"
   },
   {
    "duration": 222,
    "start_time": "2023-05-08T14:33:29.609Z"
   },
   {
    "duration": 30,
    "start_time": "2023-05-08T14:33:29.887Z"
   },
   {
    "duration": 15,
    "start_time": "2023-05-08T14:33:30.679Z"
   },
   {
    "duration": 1426,
    "start_time": "2023-05-08T14:33:33.404Z"
   },
   {
    "duration": 7411,
    "start_time": "2023-05-08T14:33:34.832Z"
   },
   {
    "duration": 80314,
    "start_time": "2023-05-08T14:33:42.245Z"
   },
   {
    "duration": 11,
    "start_time": "2023-05-08T14:35:08.052Z"
   },
   {
    "duration": 48,
    "start_time": "2023-05-08T14:35:11.216Z"
   },
   {
    "duration": 9,
    "start_time": "2023-05-08T14:35:12.259Z"
   },
   {
    "duration": 3,
    "start_time": "2023-05-08T14:35:13.646Z"
   },
   {
    "duration": 145,
    "start_time": "2023-05-08T14:41:05.077Z"
   },
   {
    "duration": 11,
    "start_time": "2023-05-08T14:41:11.793Z"
   },
   {
    "duration": 3,
    "start_time": "2023-05-08T14:41:12.977Z"
   },
   {
    "duration": 28,
    "start_time": "2023-05-08T14:41:13.458Z"
   },
   {
    "duration": 17,
    "start_time": "2023-05-08T14:44:31.096Z"
   },
   {
    "duration": 3,
    "start_time": "2023-05-08T14:44:31.899Z"
   },
   {
    "duration": 23,
    "start_time": "2023-05-08T14:44:37.705Z"
   },
   {
    "duration": 39,
    "start_time": "2023-05-08T14:46:11.343Z"
   },
   {
    "duration": 30,
    "start_time": "2023-05-08T15:02:45.987Z"
   },
   {
    "duration": 3,
    "start_time": "2023-05-08T15:12:15.838Z"
   },
   {
    "duration": 10,
    "start_time": "2023-05-08T15:12:33.207Z"
   },
   {
    "duration": 3,
    "start_time": "2023-05-08T15:12:37.767Z"
   },
   {
    "duration": 13,
    "start_time": "2023-05-08T15:12:40.059Z"
   },
   {
    "duration": 3,
    "start_time": "2023-05-08T15:12:42.765Z"
   },
   {
    "duration": 41,
    "start_time": "2023-05-08T15:12:43.725Z"
   },
   {
    "duration": 10,
    "start_time": "2023-05-08T15:13:14.582Z"
   },
   {
    "duration": 13,
    "start_time": "2023-05-08T15:13:23.421Z"
   },
   {
    "duration": 109,
    "start_time": "2023-05-08T15:15:08.170Z"
   },
   {
    "duration": 3,
    "start_time": "2023-05-08T15:15:58.836Z"
   },
   {
    "duration": 5,
    "start_time": "2023-05-08T15:19:20.096Z"
   },
   {
    "duration": 3,
    "start_time": "2023-05-08T15:19:23.182Z"
   },
   {
    "duration": 15,
    "start_time": "2023-05-08T15:19:23.893Z"
   },
   {
    "duration": 1441,
    "start_time": "2023-05-08T15:19:36.922Z"
   },
   {
    "duration": 51,
    "start_time": "2023-05-08T15:23:07.162Z"
   },
   {
    "duration": 4583,
    "start_time": "2023-05-08T15:23:17.781Z"
   },
   {
    "duration": 3052,
    "start_time": "2023-05-08T15:23:24.094Z"
   },
   {
    "duration": 31,
    "start_time": "2023-05-08T15:23:27.148Z"
   },
   {
    "duration": 15,
    "start_time": "2023-05-08T15:23:27.181Z"
   },
   {
    "duration": 12,
    "start_time": "2023-05-08T15:23:27.199Z"
   },
   {
    "duration": 35,
    "start_time": "2023-05-08T15:23:27.213Z"
   },
   {
    "duration": 5,
    "start_time": "2023-05-08T15:23:27.256Z"
   },
   {
    "duration": 251,
    "start_time": "2023-05-08T15:24:43.832Z"
   },
   {
    "duration": 30,
    "start_time": "2023-05-08T15:24:44.454Z"
   },
   {
    "duration": 13,
    "start_time": "2023-05-08T15:24:46.639Z"
   },
   {
    "duration": 1214,
    "start_time": "2023-05-08T15:24:49.025Z"
   },
   {
    "duration": 6692,
    "start_time": "2023-05-08T15:24:50.240Z"
   },
   {
    "duration": 76884,
    "start_time": "2023-05-08T15:24:56.934Z"
   },
   {
    "duration": 11,
    "start_time": "2023-05-08T15:26:13.819Z"
   },
   {
    "duration": 47,
    "start_time": "2023-05-08T15:26:13.832Z"
   },
   {
    "duration": 7,
    "start_time": "2023-05-08T15:26:13.880Z"
   },
   {
    "duration": 46,
    "start_time": "2023-05-08T15:26:13.889Z"
   },
   {
    "duration": 16,
    "start_time": "2023-05-08T15:26:38.226Z"
   },
   {
    "duration": 132,
    "start_time": "2023-05-08T15:26:40.568Z"
   },
   {
    "duration": 2,
    "start_time": "2023-05-08T15:26:42.851Z"
   },
   {
    "duration": 29,
    "start_time": "2023-05-08T15:26:43.765Z"
   },
   {
    "duration": 7,
    "start_time": "2023-05-08T15:26:46.410Z"
   },
   {
    "duration": 2,
    "start_time": "2023-05-08T15:26:47.832Z"
   },
   {
    "duration": 1418,
    "start_time": "2023-05-08T15:26:48.980Z"
   },
   {
    "duration": 4442,
    "start_time": "2023-05-08T15:36:55.642Z"
   },
   {
    "duration": 3816,
    "start_time": "2023-05-08T15:37:08.713Z"
   },
   {
    "duration": 3175,
    "start_time": "2023-05-08T15:37:12.531Z"
   },
   {
    "duration": 33,
    "start_time": "2023-05-08T15:37:15.707Z"
   },
   {
    "duration": 14,
    "start_time": "2023-05-08T15:37:15.742Z"
   },
   {
    "duration": 12,
    "start_time": "2023-05-08T15:37:15.758Z"
   },
   {
    "duration": 39,
    "start_time": "2023-05-08T15:37:15.772Z"
   },
   {
    "duration": 7,
    "start_time": "2023-05-08T15:37:15.813Z"
   },
   {
    "duration": 248,
    "start_time": "2023-05-08T15:37:15.822Z"
   },
   {
    "duration": 30,
    "start_time": "2023-05-08T15:37:16.071Z"
   },
   {
    "duration": 14,
    "start_time": "2023-05-08T15:37:17.633Z"
   },
   {
    "duration": 1368,
    "start_time": "2023-05-08T15:37:19.537Z"
   },
   {
    "duration": 6784,
    "start_time": "2023-05-08T15:37:20.909Z"
   },
   {
    "duration": 79305,
    "start_time": "2023-05-08T15:37:27.695Z"
   },
   {
    "duration": 11,
    "start_time": "2023-05-08T15:39:07.462Z"
   },
   {
    "duration": 37,
    "start_time": "2023-05-08T15:39:07.763Z"
   },
   {
    "duration": 8,
    "start_time": "2023-05-08T15:39:08.329Z"
   },
   {
    "duration": 32,
    "start_time": "2023-05-08T15:39:08.840Z"
   },
   {
    "duration": 16,
    "start_time": "2023-05-08T15:39:09.413Z"
   },
   {
    "duration": 3,
    "start_time": "2023-05-08T15:39:13.137Z"
   },
   {
    "duration": 29,
    "start_time": "2023-05-08T15:39:14.241Z"
   },
   {
    "duration": 5,
    "start_time": "2023-05-08T15:39:16.688Z"
   },
   {
    "duration": 3,
    "start_time": "2023-05-08T15:39:18.100Z"
   },
   {
    "duration": 1527,
    "start_time": "2023-05-08T15:39:25.331Z"
   },
   {
    "duration": 5077,
    "start_time": "2023-05-08T16:02:18.777Z"
   },
   {
    "duration": 3131,
    "start_time": "2023-05-08T16:02:23.856Z"
   },
   {
    "duration": 35,
    "start_time": "2023-05-08T16:02:26.988Z"
   },
   {
    "duration": 13,
    "start_time": "2023-05-08T16:02:27.026Z"
   },
   {
    "duration": 19,
    "start_time": "2023-05-08T16:02:27.040Z"
   },
   {
    "duration": 46,
    "start_time": "2023-05-08T16:02:27.061Z"
   },
   {
    "duration": 9,
    "start_time": "2023-05-08T16:02:27.109Z"
   },
   {
    "duration": 252,
    "start_time": "2023-05-08T16:02:27.121Z"
   },
   {
    "duration": 31,
    "start_time": "2023-05-08T16:02:27.374Z"
   },
   {
    "duration": 18,
    "start_time": "2023-05-08T16:02:30.053Z"
   },
   {
    "duration": 3955,
    "start_time": "2023-05-08T16:03:01.063Z"
   },
   {
    "duration": 762,
    "start_time": "2023-05-08T16:03:05.020Z"
   },
   {
    "duration": 34,
    "start_time": "2023-05-08T16:03:05.784Z"
   },
   {
    "duration": 10,
    "start_time": "2023-05-08T16:03:06.183Z"
   },
   {
    "duration": 12,
    "start_time": "2023-05-08T16:03:07.504Z"
   },
   {
    "duration": 31,
    "start_time": "2023-05-08T16:03:07.843Z"
   },
   {
    "duration": 8,
    "start_time": "2023-05-08T16:03:08.052Z"
   },
   {
    "duration": 247,
    "start_time": "2023-05-08T16:03:08.507Z"
   },
   {
    "duration": 30,
    "start_time": "2023-05-08T16:03:09.673Z"
   },
   {
    "duration": 4,
    "start_time": "2023-05-08T16:03:11.307Z"
   },
   {
    "duration": 12,
    "start_time": "2023-05-08T16:03:12.857Z"
   },
   {
    "duration": 1213,
    "start_time": "2023-05-08T16:03:17.176Z"
   },
   {
    "duration": 11237,
    "start_time": "2023-05-08T16:03:43.326Z"
   },
   {
    "duration": 14,
    "start_time": "2023-05-08T16:04:07.856Z"
   },
   {
    "duration": 46,
    "start_time": "2023-05-08T16:04:08.279Z"
   },
   {
    "duration": 10,
    "start_time": "2023-05-08T16:04:08.769Z"
   },
   {
    "duration": 32,
    "start_time": "2023-05-08T16:04:26.652Z"
   },
   {
    "duration": 12,
    "start_time": "2023-05-08T16:04:27.552Z"
   },
   {
    "duration": 3,
    "start_time": "2023-05-08T16:04:32.743Z"
   },
   {
    "duration": 31,
    "start_time": "2023-05-08T16:04:33.608Z"
   },
   {
    "duration": 1587,
    "start_time": "2023-05-08T16:04:38.801Z"
   },
   {
    "duration": 3909,
    "start_time": "2023-05-08T16:12:13.439Z"
   },
   {
    "duration": 802,
    "start_time": "2023-05-08T16:12:17.351Z"
   },
   {
    "duration": 35,
    "start_time": "2023-05-08T16:12:18.156Z"
   },
   {
    "duration": 9,
    "start_time": "2023-05-08T16:12:18.193Z"
   },
   {
    "duration": 11,
    "start_time": "2023-05-08T16:12:18.204Z"
   },
   {
    "duration": 66,
    "start_time": "2023-05-08T16:12:18.216Z"
   },
   {
    "duration": 12,
    "start_time": "2023-05-08T16:12:18.284Z"
   },
   {
    "duration": 226,
    "start_time": "2023-05-08T16:12:18.395Z"
   },
   {
    "duration": 31,
    "start_time": "2023-05-08T16:12:18.878Z"
   },
   {
    "duration": 3,
    "start_time": "2023-05-08T16:12:21.126Z"
   },
   {
    "duration": 4,
    "start_time": "2023-05-08T16:12:22.327Z"
   },
   {
    "duration": 1314,
    "start_time": "2023-05-08T16:12:24.226Z"
   },
   {
    "duration": 3,
    "start_time": "2023-05-08T16:12:27.438Z"
   },
   {
    "duration": 5767,
    "start_time": "2023-05-08T16:12:27.800Z"
   },
   {
    "duration": 10,
    "start_time": "2023-05-08T16:12:33.574Z"
   },
   {
    "duration": 37,
    "start_time": "2023-05-08T16:12:33.586Z"
   },
   {
    "duration": 7,
    "start_time": "2023-05-08T16:12:33.626Z"
   },
   {
    "duration": 50,
    "start_time": "2023-05-08T16:12:33.635Z"
   },
   {
    "duration": 12,
    "start_time": "2023-05-08T16:12:39.804Z"
   },
   {
    "duration": 4,
    "start_time": "2023-05-08T16:12:43.017Z"
   },
   {
    "duration": 41,
    "start_time": "2023-05-08T16:12:43.977Z"
   },
   {
    "duration": 1583,
    "start_time": "2023-05-08T16:12:47.851Z"
   },
   {
    "duration": 9001,
    "start_time": "2023-05-08T19:49:49.348Z"
   },
   {
    "duration": 2348,
    "start_time": "2023-05-08T19:50:03.505Z"
   },
   {
    "duration": 30,
    "start_time": "2023-05-08T19:50:06.940Z"
   },
   {
    "duration": 10,
    "start_time": "2023-05-08T19:50:07.498Z"
   },
   {
    "duration": 11,
    "start_time": "2023-05-08T19:50:08.038Z"
   },
   {
    "duration": 29,
    "start_time": "2023-05-08T19:50:08.626Z"
   },
   {
    "duration": 6,
    "start_time": "2023-05-08T19:50:09.032Z"
   },
   {
    "duration": 28,
    "start_time": "2023-05-08T19:50:15.644Z"
   },
   {
    "duration": 4,
    "start_time": "2023-05-08T20:01:08.727Z"
   },
   {
    "duration": 3,
    "start_time": "2023-05-08T20:01:09.248Z"
   },
   {
    "duration": 227,
    "start_time": "2023-05-08T20:01:10.429Z"
   },
   {
    "duration": 3,
    "start_time": "2023-05-08T20:01:23.102Z"
   },
   {
    "duration": 145,
    "start_time": "2023-05-08T20:01:23.513Z"
   },
   {
    "duration": 21,
    "start_time": "2023-05-08T20:02:05.858Z"
   },
   {
    "duration": 17,
    "start_time": "2023-05-08T20:02:31.436Z"
   },
   {
    "duration": 23,
    "start_time": "2023-05-08T20:02:38.307Z"
   },
   {
    "duration": 1714,
    "start_time": "2023-05-08T20:02:49.846Z"
   },
   {
    "duration": 956,
    "start_time": "2023-05-08T20:02:59.748Z"
   },
   {
    "duration": 36,
    "start_time": "2023-05-08T20:03:00.707Z"
   },
   {
    "duration": 10,
    "start_time": "2023-05-08T20:03:00.769Z"
   },
   {
    "duration": 13,
    "start_time": "2023-05-08T20:03:01.239Z"
   },
   {
    "duration": 32,
    "start_time": "2023-05-08T20:03:01.647Z"
   },
   {
    "duration": 6,
    "start_time": "2023-05-08T20:03:02.672Z"
   },
   {
    "duration": 234,
    "start_time": "2023-05-08T20:03:03.701Z"
   },
   {
    "duration": 29,
    "start_time": "2023-05-08T20:03:05.082Z"
   },
   {
    "duration": 3,
    "start_time": "2023-05-08T20:03:06.154Z"
   },
   {
    "duration": 4,
    "start_time": "2023-05-08T20:03:07.219Z"
   },
   {
    "duration": 3,
    "start_time": "2023-05-08T20:03:07.892Z"
   },
   {
    "duration": 312,
    "start_time": "2023-05-08T20:03:08.288Z"
   },
   {
    "duration": 20,
    "start_time": "2023-05-08T20:03:29.748Z"
   },
   {
    "duration": 1518,
    "start_time": "2023-05-08T20:04:04.189Z"
   },
   {
    "duration": 791,
    "start_time": "2023-05-08T20:04:06.546Z"
   },
   {
    "duration": 26,
    "start_time": "2023-05-08T20:04:07.339Z"
   },
   {
    "duration": 23,
    "start_time": "2023-05-08T20:04:07.367Z"
   },
   {
    "duration": 11,
    "start_time": "2023-05-08T20:04:08.262Z"
   },
   {
    "duration": 32,
    "start_time": "2023-05-08T20:04:08.605Z"
   },
   {
    "duration": 8,
    "start_time": "2023-05-08T20:04:08.947Z"
   },
   {
    "duration": 211,
    "start_time": "2023-05-08T20:04:10.506Z"
   },
   {
    "duration": 40,
    "start_time": "2023-05-08T20:04:15.094Z"
   },
   {
    "duration": 4,
    "start_time": "2023-05-08T20:04:15.867Z"
   },
   {
    "duration": 4,
    "start_time": "2023-05-08T20:04:17.193Z"
   },
   {
    "duration": 3,
    "start_time": "2023-05-08T20:04:18.831Z"
   },
   {
    "duration": 1357,
    "start_time": "2023-05-08T20:04:26.892Z"
   },
   {
    "duration": 8,
    "start_time": "2023-05-08T20:05:11.298Z"
   },
   {
    "duration": 7,
    "start_time": "2023-05-08T20:06:15.694Z"
   },
   {
    "duration": 3787,
    "start_time": "2023-05-08T20:16:00.250Z"
   },
   {
    "duration": 5,
    "start_time": "2023-05-08T20:16:15.334Z"
   },
   {
    "duration": 6,
    "start_time": "2023-05-08T20:16:29.276Z"
   },
   {
    "duration": 3132,
    "start_time": "2023-05-08T20:16:32.764Z"
   },
   {
    "duration": 7,
    "start_time": "2023-05-08T20:16:46.271Z"
   },
   {
    "duration": 5,
    "start_time": "2023-05-08T20:42:23.112Z"
   },
   {
    "duration": 131,
    "start_time": "2023-05-08T20:42:36.004Z"
   },
   {
    "duration": 44,
    "start_time": "2023-05-08T20:42:39.650Z"
   },
   {
    "duration": 1487,
    "start_time": "2023-05-08T21:01:22.423Z"
   },
   {
    "duration": 838,
    "start_time": "2023-05-08T21:01:26.184Z"
   },
   {
    "duration": 33,
    "start_time": "2023-05-08T21:01:27.024Z"
   },
   {
    "duration": 8,
    "start_time": "2023-05-08T21:01:27.059Z"
   },
   {
    "duration": 12,
    "start_time": "2023-05-08T21:01:27.712Z"
   },
   {
    "duration": 30,
    "start_time": "2023-05-08T21:01:28.789Z"
   },
   {
    "duration": 6,
    "start_time": "2023-05-08T21:01:29.278Z"
   },
   {
    "duration": 225,
    "start_time": "2023-05-08T21:01:29.705Z"
   },
   {
    "duration": 1651,
    "start_time": "2023-05-08T21:01:41.316Z"
   },
   {
    "duration": 787,
    "start_time": "2023-05-08T21:01:42.969Z"
   },
   {
    "duration": 33,
    "start_time": "2023-05-08T21:01:43.758Z"
   },
   {
    "duration": 9,
    "start_time": "2023-05-08T21:01:44.301Z"
   },
   {
    "duration": 11,
    "start_time": "2023-05-08T21:01:45.958Z"
   },
   {
    "duration": 32,
    "start_time": "2023-05-08T21:01:47.101Z"
   },
   {
    "duration": 7,
    "start_time": "2023-05-08T21:01:51.155Z"
   },
   {
    "duration": 30,
    "start_time": "2023-05-08T21:02:06.728Z"
   },
   {
    "duration": 3,
    "start_time": "2023-05-08T21:02:07.310Z"
   },
   {
    "duration": 3771,
    "start_time": "2023-05-08T21:02:07.775Z"
   },
   {
    "duration": 8,
    "start_time": "2023-05-08T21:02:11.548Z"
   },
   {
    "duration": 19,
    "start_time": "2023-05-08T21:02:11.558Z"
   },
   {
    "duration": 3,
    "start_time": "2023-05-08T21:02:21.699Z"
   },
   {
    "duration": 1451,
    "start_time": "2023-05-08T21:02:39.118Z"
   },
   {
    "duration": 8,
    "start_time": "2023-05-08T21:03:05.011Z"
   },
   {
    "duration": 1135353,
    "start_time": "2023-05-08T21:03:22.809Z"
   },
   {
    "duration": 9,
    "start_time": "2023-05-08T21:23:59.387Z"
   },
   {
    "duration": 36,
    "start_time": "2023-05-08T21:26:30.156Z"
   },
   {
    "duration": 7,
    "start_time": "2023-05-08T21:26:34.168Z"
   },
   {
    "duration": 31,
    "start_time": "2023-05-08T21:26:50.234Z"
   },
   {
    "duration": 118,
    "start_time": "2023-05-08T21:27:05.253Z"
   },
   {
    "duration": 11,
    "start_time": "2023-05-08T21:27:42.378Z"
   },
   {
    "duration": 10,
    "start_time": "2023-05-08T21:28:25.123Z"
   },
   {
    "duration": 2,
    "start_time": "2023-05-08T21:28:28.507Z"
   },
   {
    "duration": 37,
    "start_time": "2023-05-08T21:28:30.182Z"
   },
   {
    "duration": 4,
    "start_time": "2023-05-08T21:29:54.640Z"
   },
   {
    "duration": 1346,
    "start_time": "2023-05-08T21:31:38.371Z"
   },
   {
    "duration": 47,
    "start_time": "2023-05-08T21:47:24.562Z"
   },
   {
    "duration": 2221,
    "start_time": "2023-05-08T21:53:21.361Z"
   },
   {
    "duration": 2188,
    "start_time": "2023-05-08T21:53:35.634Z"
   },
   {
    "duration": 33,
    "start_time": "2023-05-08T21:53:37.824Z"
   },
   {
    "duration": 9,
    "start_time": "2023-05-08T21:53:37.859Z"
   },
   {
    "duration": 14,
    "start_time": "2023-05-08T21:53:37.870Z"
   },
   {
    "duration": 35,
    "start_time": "2023-05-08T21:53:37.886Z"
   },
   {
    "duration": 10,
    "start_time": "2023-05-08T21:53:37.922Z"
   },
   {
    "duration": 29,
    "start_time": "2023-05-08T21:53:40.733Z"
   },
   {
    "duration": 3,
    "start_time": "2023-05-08T21:53:41.513Z"
   },
   {
    "duration": 3562,
    "start_time": "2023-05-08T21:53:41.860Z"
   },
   {
    "duration": 7,
    "start_time": "2023-05-08T21:53:45.423Z"
   },
   {
    "duration": 8,
    "start_time": "2023-05-08T21:53:45.432Z"
   },
   {
    "duration": 3,
    "start_time": "2023-05-08T21:53:46.058Z"
   },
   {
    "duration": 1318,
    "start_time": "2023-05-08T21:53:48.568Z"
   },
   {
    "duration": 1140998,
    "start_time": "2023-05-08T21:53:52.512Z"
   },
   {
    "duration": 10,
    "start_time": "2023-05-08T22:13:27.904Z"
   },
   {
    "duration": 35,
    "start_time": "2023-05-08T22:13:33.281Z"
   },
   {
    "duration": 9,
    "start_time": "2023-05-08T22:13:34.278Z"
   },
   {
    "duration": 38,
    "start_time": "2023-05-08T22:13:34.767Z"
   },
   {
    "duration": 11,
    "start_time": "2023-05-08T22:13:35.249Z"
   },
   {
    "duration": 3,
    "start_time": "2023-05-08T22:13:37.557Z"
   },
   {
    "duration": 44,
    "start_time": "2023-05-08T22:13:39.587Z"
   },
   {
    "duration": 5,
    "start_time": "2023-05-08T22:13:41.585Z"
   },
   {
    "duration": 128,
    "start_time": "2023-05-08T22:13:42.667Z"
   },
   {
    "duration": 2,
    "start_time": "2023-05-08T22:13:51.751Z"
   },
   {
    "duration": 1428,
    "start_time": "2023-05-08T22:13:52.546Z"
   },
   {
    "duration": 5,
    "start_time": "2023-05-08T22:19:24.972Z"
   },
   {
    "duration": 3,
    "start_time": "2023-05-08T22:22:29.191Z"
   },
   {
    "duration": 3,
    "start_time": "2023-05-08T22:22:30.245Z"
   },
   {
    "duration": 2727,
    "start_time": "2023-05-08T22:37:29.196Z"
   },
   {
    "duration": 2220,
    "start_time": "2023-05-08T22:37:36.460Z"
   },
   {
    "duration": 32,
    "start_time": "2023-05-08T22:37:38.682Z"
   },
   {
    "duration": 8,
    "start_time": "2023-05-08T22:37:38.715Z"
   },
   {
    "duration": 12,
    "start_time": "2023-05-08T22:37:38.725Z"
   },
   {
    "duration": 52,
    "start_time": "2023-05-08T22:37:38.739Z"
   },
   {
    "duration": 6,
    "start_time": "2023-05-08T22:37:38.793Z"
   },
   {
    "duration": 35,
    "start_time": "2023-05-08T22:37:38.800Z"
   },
   {
    "duration": 3,
    "start_time": "2023-05-08T22:37:39.267Z"
   },
   {
    "duration": 3684,
    "start_time": "2023-05-08T22:37:41.446Z"
   },
   {
    "duration": 6,
    "start_time": "2023-05-08T22:37:45.132Z"
   },
   {
    "duration": 13,
    "start_time": "2023-05-08T22:37:45.140Z"
   },
   {
    "duration": 9,
    "start_time": "2023-05-08T22:37:45.155Z"
   },
   {
    "duration": 1433,
    "start_time": "2023-05-08T22:37:45.166Z"
   },
   {
    "duration": 1129590,
    "start_time": "2023-05-08T22:37:46.601Z"
   },
   {
    "duration": 9,
    "start_time": "2023-05-08T22:58:02.060Z"
   },
   {
    "duration": 32,
    "start_time": "2023-05-08T22:58:05.831Z"
   },
   {
    "duration": 7,
    "start_time": "2023-05-08T22:58:08.689Z"
   },
   {
    "duration": 31,
    "start_time": "2023-05-08T22:58:10.096Z"
   },
   {
    "duration": 10,
    "start_time": "2023-05-08T22:58:11.742Z"
   },
   {
    "duration": 3,
    "start_time": "2023-05-08T22:58:13.330Z"
   },
   {
    "duration": 36,
    "start_time": "2023-05-08T22:58:14.649Z"
   },
   {
    "duration": 6,
    "start_time": "2023-05-08T22:58:17.674Z"
   },
   {
    "duration": 4,
    "start_time": "2023-05-08T22:58:20.135Z"
   },
   {
    "duration": 2,
    "start_time": "2023-05-08T22:58:21.897Z"
   },
   {
    "duration": 1466,
    "start_time": "2023-05-08T22:58:23.740Z"
   },
   {
    "duration": 2309,
    "start_time": "2023-05-08T23:13:15.141Z"
   },
   {
    "duration": 6509,
    "start_time": "2023-05-08T23:18:50.822Z"
   },
   {
    "duration": 226,
    "start_time": "2023-05-08T23:20:13.813Z"
   },
   {
    "duration": 20,
    "start_time": "2023-05-08T23:20:53.703Z"
   },
   {
    "duration": 2,
    "start_time": "2023-05-08T23:21:24.048Z"
   },
   {
    "duration": 90,
    "start_time": "2023-05-08T23:21:24.751Z"
   },
   {
    "duration": 577,
    "start_time": "2023-05-08T23:26:13.284Z"
   },
   {
    "duration": 2,
    "start_time": "2023-05-08T23:28:07.585Z"
   },
   {
    "duration": 3,
    "start_time": "2023-05-08T23:28:42.144Z"
   },
   {
    "duration": 1934,
    "start_time": "2023-05-08T23:41:33.707Z"
   },
   {
    "duration": 2162,
    "start_time": "2023-05-08T23:41:35.643Z"
   },
   {
    "duration": 32,
    "start_time": "2023-05-08T23:41:37.806Z"
   },
   {
    "duration": 8,
    "start_time": "2023-05-08T23:41:38.380Z"
   },
   {
    "duration": 11,
    "start_time": "2023-05-08T23:41:38.882Z"
   },
   {
    "duration": 31,
    "start_time": "2023-05-08T23:41:39.070Z"
   },
   {
    "duration": 6,
    "start_time": "2023-05-08T23:41:39.220Z"
   },
   {
    "duration": 31,
    "start_time": "2023-05-08T23:41:40.103Z"
   },
   {
    "duration": 3,
    "start_time": "2023-05-08T23:41:40.483Z"
   },
   {
    "duration": 3652,
    "start_time": "2023-05-08T23:41:41.158Z"
   },
   {
    "duration": 7,
    "start_time": "2023-05-08T23:41:44.812Z"
   },
   {
    "duration": 5,
    "start_time": "2023-05-08T23:41:44.820Z"
   },
   {
    "duration": 20,
    "start_time": "2023-05-08T23:41:44.827Z"
   },
   {
    "duration": 1311,
    "start_time": "2023-05-08T23:41:44.848Z"
   },
   {
    "duration": 1109502,
    "start_time": "2023-05-08T23:41:46.161Z"
   },
   {
    "duration": 9,
    "start_time": "2023-05-09T00:00:26.989Z"
   },
   {
    "duration": 33,
    "start_time": "2023-05-09T00:00:32.343Z"
   },
   {
    "duration": 7,
    "start_time": "2023-05-09T00:00:33.040Z"
   },
   {
    "duration": 32,
    "start_time": "2023-05-09T00:00:34.195Z"
   },
   {
    "duration": 11,
    "start_time": "2023-05-09T00:00:35.693Z"
   },
   {
    "duration": 3,
    "start_time": "2023-05-09T00:00:37.177Z"
   },
   {
    "duration": 3,
    "start_time": "2023-05-09T00:00:38.238Z"
   },
   {
    "duration": 43,
    "start_time": "2023-05-09T00:00:39.428Z"
   },
   {
    "duration": 5,
    "start_time": "2023-05-09T00:00:43.244Z"
   },
   {
    "duration": 92,
    "start_time": "2023-05-09T00:01:06.947Z"
   },
   {
    "duration": 5,
    "start_time": "2023-05-09T00:01:11.251Z"
   },
   {
    "duration": 3,
    "start_time": "2023-05-09T00:01:19.265Z"
   },
   {
    "duration": 4,
    "start_time": "2023-05-09T00:01:27.895Z"
   },
   {
    "duration": 3,
    "start_time": "2023-05-09T00:01:56.902Z"
   },
   {
    "duration": 4,
    "start_time": "2023-05-09T00:02:03.781Z"
   },
   {
    "duration": 3,
    "start_time": "2023-05-09T00:02:20.664Z"
   },
   {
    "duration": 6631,
    "start_time": "2023-05-09T00:02:21.690Z"
   },
   {
    "duration": 2138,
    "start_time": "2023-05-09T00:02:51.549Z"
   },
   {
    "duration": 2110,
    "start_time": "2023-05-09T00:02:56.918Z"
   },
   {
    "duration": 9075,
    "start_time": "2023-05-09T00:25:13.433Z"
   },
   {
    "duration": 37991,
    "start_time": "2023-05-09T00:25:57.958Z"
   },
   {
    "duration": 91,
    "start_time": "2023-05-09T00:28:01.046Z"
   },
   {
    "duration": 3,
    "start_time": "2023-05-09T00:28:03.842Z"
   },
   {
    "duration": 37817,
    "start_time": "2023-05-09T00:28:32.068Z"
   },
   {
    "duration": 37978,
    "start_time": "2023-05-09T00:30:29.313Z"
   },
   {
    "duration": 13243,
    "start_time": "2023-05-09T00:33:58.700Z"
   },
   {
    "duration": 13095,
    "start_time": "2023-05-09T00:34:33.009Z"
   },
   {
    "duration": 18,
    "start_time": "2023-05-09T00:36:10.577Z"
   },
   {
    "duration": 13,
    "start_time": "2023-05-09T00:49:58.573Z"
   },
   {
    "duration": 502,
    "start_time": "2023-05-09T01:00:13.673Z"
   },
   {
    "duration": 81,
    "start_time": "2023-05-09T02:16:06.342Z"
   },
   {
    "duration": 356164,
    "start_time": "2023-05-09T02:16:15.457Z"
   },
   {
    "duration": 248,
    "start_time": "2023-05-09T02:26:06.294Z"
   },
   {
    "duration": 1895,
    "start_time": "2023-05-09T02:26:42.924Z"
   },
   {
    "duration": 1473,
    "start_time": "2023-05-09T02:26:51.906Z"
   },
   {
    "duration": 2174,
    "start_time": "2023-05-09T02:26:53.381Z"
   },
   {
    "duration": 29,
    "start_time": "2023-05-09T02:26:55.557Z"
   },
   {
    "duration": 8,
    "start_time": "2023-05-09T02:26:55.588Z"
   },
   {
    "duration": 10,
    "start_time": "2023-05-09T02:26:55.597Z"
   },
   {
    "duration": 30,
    "start_time": "2023-05-09T02:26:55.609Z"
   },
   {
    "duration": 6,
    "start_time": "2023-05-09T02:26:55.642Z"
   },
   {
    "duration": 54,
    "start_time": "2023-05-09T02:26:55.649Z"
   },
   {
    "duration": 6,
    "start_time": "2023-05-09T02:26:55.704Z"
   },
   {
    "duration": 3594,
    "start_time": "2023-05-09T02:26:55.757Z"
   },
   {
    "duration": 6,
    "start_time": "2023-05-09T02:26:59.353Z"
   },
   {
    "duration": 5,
    "start_time": "2023-05-09T02:26:59.361Z"
   },
   {
    "duration": 16,
    "start_time": "2023-05-09T02:26:59.367Z"
   },
   {
    "duration": 1330,
    "start_time": "2023-05-09T02:26:59.384Z"
   },
   {
    "duration": 1117202,
    "start_time": "2023-05-09T02:27:00.716Z"
   },
   {
    "duration": 202,
    "start_time": "2023-05-09T02:47:02.792Z"
   },
   {
    "duration": 33,
    "start_time": "2023-05-09T02:47:19.001Z"
   },
   {
    "duration": 7,
    "start_time": "2023-05-09T02:47:19.344Z"
   },
   {
    "duration": 42,
    "start_time": "2023-05-09T02:47:19.730Z"
   },
   {
    "duration": 9,
    "start_time": "2023-05-09T02:47:20.379Z"
   },
   {
    "duration": 2,
    "start_time": "2023-05-09T02:47:20.969Z"
   },
   {
    "duration": 3,
    "start_time": "2023-05-09T02:47:22.035Z"
   },
   {
    "duration": 37,
    "start_time": "2023-05-09T02:47:23.075Z"
   },
   {
    "duration": 5,
    "start_time": "2023-05-09T02:47:23.421Z"
   },
   {
    "duration": 4,
    "start_time": "2023-05-09T02:47:24.075Z"
   },
   {
    "duration": 3,
    "start_time": "2023-05-09T02:47:24.530Z"
   },
   {
    "duration": 3,
    "start_time": "2023-05-09T02:47:48.957Z"
   },
   {
    "duration": 4,
    "start_time": "2023-05-09T02:47:49.309Z"
   },
   {
    "duration": 3,
    "start_time": "2023-05-09T02:47:49.761Z"
   },
   {
    "duration": 6377,
    "start_time": "2023-05-09T02:47:50.546Z"
   },
   {
    "duration": 2083,
    "start_time": "2023-05-09T02:47:56.925Z"
   },
   {
    "duration": 2051,
    "start_time": "2023-05-09T02:47:59.764Z"
   },
   {
    "duration": 493502,
    "start_time": "2023-05-09T02:49:02.824Z"
   },
   {
    "duration": 28731,
    "start_time": "2023-05-09T03:01:59.703Z"
   },
   {
    "duration": 28279,
    "start_time": "2023-05-09T03:06:54.955Z"
   },
   {
    "duration": 275,
    "start_time": "2023-05-09T03:11:14.505Z"
   },
   {
    "duration": 148,
    "start_time": "2023-05-09T03:16:52.108Z"
   },
   {
    "duration": 409407,
    "start_time": "2023-05-09T03:17:23.332Z"
   },
   {
    "duration": 172442,
    "start_time": "2023-05-09T03:24:41.718Z"
   },
   {
    "duration": 461376,
    "start_time": "2023-05-09T03:27:40.121Z"
   },
   {
    "duration": 2,
    "start_time": "2023-05-09T03:37:44.749Z"
   },
   {
    "duration": 2,
    "start_time": "2023-05-09T03:37:48.552Z"
   },
   {
    "duration": 18032,
    "start_time": "2023-05-09T03:38:00.792Z"
   },
   {
    "duration": 70,
    "start_time": "2023-05-09T03:38:30.960Z"
   },
   {
    "duration": 9503,
    "start_time": "2023-05-09T03:38:47.742Z"
   },
   {
    "duration": 3623,
    "start_time": "2023-05-09T03:38:58.616Z"
   },
   {
    "duration": 30959,
    "start_time": "2023-05-09T03:39:25.765Z"
   },
   {
    "duration": 30965,
    "start_time": "2023-05-09T03:40:13.773Z"
   },
   {
    "duration": 30522,
    "start_time": "2023-05-09T03:40:55.612Z"
   },
   {
    "duration": 28582,
    "start_time": "2023-05-09T03:41:35.853Z"
   },
   {
    "duration": 28300,
    "start_time": "2023-05-09T03:42:37.534Z"
   },
   {
    "duration": 15196,
    "start_time": "2023-05-09T03:44:14.046Z"
   },
   {
    "duration": 18966,
    "start_time": "2023-05-09T03:44:37.336Z"
   },
   {
    "duration": 31014,
    "start_time": "2023-05-09T03:45:23.423Z"
   },
   {
    "duration": 28779,
    "start_time": "2023-05-09T03:47:02.459Z"
   },
   {
    "duration": 18243,
    "start_time": "2023-05-09T03:49:16.630Z"
   },
   {
    "duration": 90,
    "start_time": "2023-05-09T03:50:22.492Z"
   },
   {
    "duration": 157,
    "start_time": "2023-05-09T03:50:35.223Z"
   },
   {
    "duration": 516826,
    "start_time": "2023-05-09T03:51:37.875Z"
   },
   {
    "duration": 2,
    "start_time": "2023-05-09T04:04:52.741Z"
   },
   {
    "duration": 19365,
    "start_time": "2023-05-09T04:09:36.309Z"
   },
   {
    "duration": 19276,
    "start_time": "2023-05-09T04:11:27.888Z"
   },
   {
    "duration": 18513,
    "start_time": "2023-05-09T04:12:20.431Z"
   },
   {
    "duration": 18643,
    "start_time": "2023-05-09T04:13:02.050Z"
   },
   {
    "duration": 18264,
    "start_time": "2023-05-09T04:13:27.690Z"
   },
   {
    "duration": 2,
    "start_time": "2023-05-09T04:16:10.559Z"
   },
   {
    "duration": 3540,
    "start_time": "2023-05-09T04:41:23.983Z"
   },
   {
    "duration": 2897,
    "start_time": "2023-05-09T04:41:36.741Z"
   },
   {
    "duration": 2583,
    "start_time": "2023-05-09T04:41:39.640Z"
   },
   {
    "duration": 261,
    "start_time": "2023-05-09T04:41:42.224Z"
   },
   {
    "duration": 9,
    "start_time": "2023-05-09T04:41:42.488Z"
   },
   {
    "duration": 87,
    "start_time": "2023-05-09T04:41:42.498Z"
   },
   {
    "duration": 100,
    "start_time": "2023-05-09T04:41:42.587Z"
   },
   {
    "duration": 7,
    "start_time": "2023-05-09T04:41:48.446Z"
   },
   {
    "duration": 31,
    "start_time": "2023-05-09T04:41:57.692Z"
   },
   {
    "duration": 4,
    "start_time": "2023-05-09T04:41:58.423Z"
   },
   {
    "duration": 8342,
    "start_time": "2023-05-09T04:41:59.050Z"
   },
   {
    "duration": 7,
    "start_time": "2023-05-09T04:42:07.393Z"
   },
   {
    "duration": 82,
    "start_time": "2023-05-09T04:42:07.402Z"
   },
   {
    "duration": 10,
    "start_time": "2023-05-09T04:42:07.486Z"
   },
   {
    "duration": 3186,
    "start_time": "2023-05-09T04:42:07.498Z"
   },
   {
    "duration": 1775738,
    "start_time": "2023-05-09T04:42:10.686Z"
   },
   {
    "duration": 9,
    "start_time": "2023-05-09T05:11:46.426Z"
   },
   {
    "duration": 82,
    "start_time": "2023-05-09T05:11:46.437Z"
   },
   {
    "duration": 28,
    "start_time": "2023-05-09T05:11:46.521Z"
   },
   {
    "duration": 49,
    "start_time": "2023-05-09T05:11:46.551Z"
   },
   {
    "duration": 8,
    "start_time": "2023-05-09T05:11:46.602Z"
   },
   {
    "duration": 56,
    "start_time": "2023-05-09T05:11:46.612Z"
   },
   {
    "duration": 13,
    "start_time": "2023-05-09T05:11:46.670Z"
   },
   {
    "duration": 31,
    "start_time": "2023-05-09T05:11:46.684Z"
   },
   {
    "duration": 7,
    "start_time": "2023-05-09T05:12:38.971Z"
   },
   {
    "duration": 161,
    "start_time": "2023-05-09T05:12:56.021Z"
   },
   {
    "duration": 15,
    "start_time": "2023-05-09T05:13:41.606Z"
   },
   {
    "duration": 7,
    "start_time": "2023-05-09T05:13:50.574Z"
   },
   {
    "duration": 31,
    "start_time": "2023-05-09T05:13:51.943Z"
   },
   {
    "duration": 13,
    "start_time": "2023-05-09T05:14:07.177Z"
   },
   {
    "duration": 3,
    "start_time": "2023-05-09T05:14:08.194Z"
   },
   {
    "duration": 36,
    "start_time": "2023-05-09T05:14:10.444Z"
   },
   {
    "duration": 6,
    "start_time": "2023-05-09T05:14:12.203Z"
   },
   {
    "duration": 4,
    "start_time": "2023-05-09T05:14:13.849Z"
   },
   {
    "duration": 5,
    "start_time": "2023-05-09T05:14:14.633Z"
   },
   {
    "duration": 3,
    "start_time": "2023-05-09T05:14:16.878Z"
   },
   {
    "duration": 11,
    "start_time": "2023-05-09T05:14:17.557Z"
   },
   {
    "duration": 2,
    "start_time": "2023-05-09T05:14:18.117Z"
   },
   {
    "duration": 6438,
    "start_time": "2023-05-09T05:14:18.536Z"
   },
   {
    "duration": 2044,
    "start_time": "2023-05-09T05:14:26.494Z"
   },
   {
    "duration": 2120,
    "start_time": "2023-05-09T05:14:28.540Z"
   },
   {
    "duration": 958403,
    "start_time": "2023-05-09T05:15:00.120Z"
   },
   {
    "duration": 30221,
    "start_time": "2023-05-09T05:32:02.320Z"
   },
   {
    "duration": 30782,
    "start_time": "2023-05-09T05:32:36.758Z"
   },
   {
    "duration": 2376,
    "start_time": "2023-05-09T05:48:16.469Z"
   },
   {
    "duration": 2242,
    "start_time": "2023-05-09T05:48:23.058Z"
   },
   {
    "duration": 135,
    "start_time": "2023-05-09T05:48:29.983Z"
   },
   {
    "duration": 12,
    "start_time": "2023-05-09T05:48:30.810Z"
   },
   {
    "duration": 10,
    "start_time": "2023-05-09T05:48:31.333Z"
   },
   {
    "duration": 30,
    "start_time": "2023-05-09T05:48:32.639Z"
   },
   {
    "duration": 6,
    "start_time": "2023-05-09T05:48:33.397Z"
   },
   {
    "duration": 29,
    "start_time": "2023-05-09T05:48:38.405Z"
   },
   {
    "duration": 2,
    "start_time": "2023-05-09T05:48:39.648Z"
   },
   {
    "duration": 3764,
    "start_time": "2023-05-09T05:48:40.153Z"
   },
   {
    "duration": 7,
    "start_time": "2023-05-09T05:48:43.919Z"
   },
   {
    "duration": 7,
    "start_time": "2023-05-09T05:48:43.928Z"
   },
   {
    "duration": 13,
    "start_time": "2023-05-09T05:48:43.937Z"
   },
   {
    "duration": 1310,
    "start_time": "2023-05-09T05:48:43.951Z"
   },
   {
    "duration": 1234679,
    "start_time": "2023-05-09T05:48:46.451Z"
   },
   {
    "duration": 8,
    "start_time": "2023-05-09T06:10:26.306Z"
   },
   {
    "duration": 33,
    "start_time": "2023-05-09T06:10:27.357Z"
   },
   {
    "duration": 8,
    "start_time": "2023-05-09T06:10:28.842Z"
   },
   {
    "duration": 40,
    "start_time": "2023-05-09T06:10:31.961Z"
   },
   {
    "duration": 278,
    "start_time": "2023-05-09T06:17:24.461Z"
   },
   {
    "duration": 11,
    "start_time": "2023-05-09T06:17:35.500Z"
   },
   {
    "duration": 3,
    "start_time": "2023-05-09T06:17:36.257Z"
   },
   {
    "duration": 35,
    "start_time": "2023-05-09T06:17:36.598Z"
   },
   {
    "duration": 5,
    "start_time": "2023-05-09T06:17:38.775Z"
   },
   {
    "duration": 4,
    "start_time": "2023-05-09T06:17:39.596Z"
   },
   {
    "duration": 12,
    "start_time": "2023-05-09T06:17:39.931Z"
   },
   {
    "duration": 3,
    "start_time": "2023-05-09T06:17:40.266Z"
   },
   {
    "duration": 6,
    "start_time": "2023-05-09T06:17:40.630Z"
   },
   {
    "duration": 2,
    "start_time": "2023-05-09T06:17:41.292Z"
   },
   {
    "duration": 6312,
    "start_time": "2023-05-09T06:17:42.818Z"
   },
   {
    "duration": 2044,
    "start_time": "2023-05-09T06:17:49.133Z"
   },
   {
    "duration": 2193,
    "start_time": "2023-05-09T06:18:00.647Z"
   },
   {
    "duration": 2421,
    "start_time": "2023-05-09T06:28:53.333Z"
   },
   {
    "duration": 2175,
    "start_time": "2023-05-09T06:28:55.757Z"
   },
   {
    "duration": 111,
    "start_time": "2023-05-09T06:28:57.934Z"
   },
   {
    "duration": 14,
    "start_time": "2023-05-09T06:28:58.048Z"
   },
   {
    "duration": 47,
    "start_time": "2023-05-09T06:28:58.065Z"
   },
   {
    "duration": 73,
    "start_time": "2023-05-09T06:28:58.114Z"
   },
   {
    "duration": 15,
    "start_time": "2023-05-09T06:28:58.190Z"
   },
   {
    "duration": 34,
    "start_time": "2023-05-09T06:28:58.208Z"
   },
   {
    "duration": 25,
    "start_time": "2023-05-09T06:28:58.244Z"
   },
   {
    "duration": 3842,
    "start_time": "2023-05-09T06:28:58.271Z"
   },
   {
    "duration": 7,
    "start_time": "2023-05-09T06:29:02.114Z"
   },
   {
    "duration": 40,
    "start_time": "2023-05-09T06:29:02.123Z"
   },
   {
    "duration": 46,
    "start_time": "2023-05-09T06:29:02.164Z"
   },
   {
    "duration": 1337,
    "start_time": "2023-05-09T06:29:02.212Z"
   },
   {
    "duration": 1210222,
    "start_time": "2023-05-09T06:29:03.551Z"
   },
   {
    "duration": 41,
    "start_time": "2023-05-09T06:50:14.008Z"
   },
   {
    "duration": 9,
    "start_time": "2023-05-09T06:50:14.413Z"
   },
   {
    "duration": 38,
    "start_time": "2023-05-09T06:50:15.487Z"
   },
   {
    "duration": 10,
    "start_time": "2023-05-09T06:50:15.921Z"
   },
   {
    "duration": 3,
    "start_time": "2023-05-09T06:50:17.424Z"
   },
   {
    "duration": 55,
    "start_time": "2023-05-09T06:50:19.884Z"
   },
   {
    "duration": 6,
    "start_time": "2023-05-09T06:50:21.765Z"
   },
   {
    "duration": 4,
    "start_time": "2023-05-09T06:50:22.065Z"
   },
   {
    "duration": 4,
    "start_time": "2023-05-09T06:50:22.465Z"
   },
   {
    "duration": 3,
    "start_time": "2023-05-09T06:50:22.893Z"
   },
   {
    "duration": 5,
    "start_time": "2023-05-09T06:50:23.267Z"
   },
   {
    "duration": 2,
    "start_time": "2023-05-09T06:50:24.997Z"
   },
   {
    "duration": 6388,
    "start_time": "2023-05-09T06:50:26.639Z"
   },
   {
    "duration": 2089,
    "start_time": "2023-05-09T06:50:33.029Z"
   },
   {
    "duration": 2033,
    "start_time": "2023-05-09T06:50:35.119Z"
   },
   {
    "duration": 493675,
    "start_time": "2023-05-09T06:51:03.210Z"
   },
   {
    "duration": 29249,
    "start_time": "2023-05-09T07:00:03.987Z"
   },
   {
    "duration": 29603,
    "start_time": "2023-05-09T07:00:33.238Z"
   },
   {
    "duration": 988670,
    "start_time": "2023-05-09T07:01:36.056Z"
   },
   {
    "duration": 21820,
    "start_time": "2023-05-09T07:29:25.862Z"
   },
   {
    "duration": 21430,
    "start_time": "2023-05-09T07:29:47.684Z"
   },
   {
    "duration": 21245,
    "start_time": "2023-05-09T07:30:52.961Z"
   },
   {
    "duration": 21230,
    "start_time": "2023-05-09T07:31:14.208Z"
   },
   {
    "duration": 257,
    "start_time": "2023-05-09T07:50:46.465Z"
   },
   {
    "duration": 42413,
    "start_time": "2023-05-09T07:59:31.928Z"
   },
   {
    "duration": 438,
    "start_time": "2023-05-09T08:02:20.549Z"
   },
   {
    "duration": 479,
    "start_time": "2023-05-09T08:02:49.367Z"
   },
   {
    "duration": 2,
    "start_time": "2023-05-09T08:03:59.658Z"
   },
   {
    "duration": 2,
    "start_time": "2023-05-09T08:04:57.770Z"
   },
   {
    "duration": 138,
    "start_time": "2023-05-09T08:11:00.065Z"
   },
   {
    "duration": 11,
    "start_time": "2023-05-09T08:11:15.929Z"
   },
   {
    "duration": 10,
    "start_time": "2023-05-09T08:22:21.916Z"
   },
   {
    "duration": 71,
    "start_time": "2023-05-09T08:24:05.436Z"
   },
   {
    "duration": 11,
    "start_time": "2023-05-09T08:24:26.480Z"
   },
   {
    "duration": 12,
    "start_time": "2023-05-09T08:24:30.506Z"
   },
   {
    "duration": 23,
    "start_time": "2023-05-09T08:25:14.141Z"
   },
   {
    "duration": 263,
    "start_time": "2023-05-09T08:25:34.661Z"
   },
   {
    "duration": 26,
    "start_time": "2023-05-09T08:25:49.842Z"
   },
   {
    "duration": 23,
    "start_time": "2023-05-09T08:25:54.051Z"
   },
   {
    "duration": 815,
    "start_time": "2023-05-09T08:27:33.704Z"
   },
   {
    "duration": 1486,
    "start_time": "2023-05-09T08:28:14.614Z"
   },
   {
    "duration": 1426,
    "start_time": "2023-05-09T08:28:39.949Z"
   },
   {
    "duration": 1418,
    "start_time": "2023-05-09T08:30:28.605Z"
   },
   {
    "duration": 1603,
    "start_time": "2023-05-09T08:33:30.164Z"
   },
   {
    "duration": 150,
    "start_time": "2023-05-09T08:37:36.639Z"
   },
   {
    "duration": 159,
    "start_time": "2023-05-09T08:37:41.883Z"
   },
   {
    "duration": 152,
    "start_time": "2023-05-09T08:37:46.927Z"
   },
   {
    "duration": 137,
    "start_time": "2023-05-09T08:38:42.040Z"
   },
   {
    "duration": 150,
    "start_time": "2023-05-09T09:18:38.245Z"
   },
   {
    "duration": 2566,
    "start_time": "2023-05-09T09:43:29.634Z"
   },
   {
    "duration": 1501,
    "start_time": "2023-05-09T09:43:38.226Z"
   },
   {
    "duration": 39,
    "start_time": "2023-05-09T09:43:39.730Z"
   },
   {
    "duration": 97,
    "start_time": "2023-05-09T09:43:39.771Z"
   },
   {
    "duration": 10,
    "start_time": "2023-05-09T09:43:40.308Z"
   },
   {
    "duration": 30,
    "start_time": "2023-05-09T09:43:42.149Z"
   },
   {
    "duration": 177,
    "start_time": "2023-05-09T09:43:44.096Z"
   },
   {
    "duration": 1647,
    "start_time": "2023-05-09T09:44:28.378Z"
   },
   {
    "duration": 804,
    "start_time": "2023-05-09T09:44:30.027Z"
   },
   {
    "duration": 118,
    "start_time": "2023-05-09T09:44:30.833Z"
   },
   {
    "duration": 13,
    "start_time": "2023-05-09T09:44:30.954Z"
   },
   {
    "duration": 14,
    "start_time": "2023-05-09T09:44:30.983Z"
   },
   {
    "duration": 95,
    "start_time": "2023-05-09T09:44:30.999Z"
   },
   {
    "duration": 175,
    "start_time": "2023-05-09T09:44:31.096Z"
   },
   {
    "duration": 11,
    "start_time": "2023-05-09T09:44:31.273Z"
   },
   {
    "duration": 3804,
    "start_time": "2023-05-09T09:44:31.286Z"
   },
   {
    "duration": 7,
    "start_time": "2023-05-09T09:44:35.093Z"
   },
   {
    "duration": 15,
    "start_time": "2023-05-09T09:44:35.102Z"
   },
   {
    "duration": 9,
    "start_time": "2023-05-09T09:44:35.118Z"
   },
   {
    "duration": 1399262,
    "start_time": "2023-05-09T09:44:35.128Z"
   },
   {
    "duration": 8,
    "start_time": "2023-05-09T10:07:54.392Z"
   },
   {
    "duration": 64,
    "start_time": "2023-05-09T10:07:54.403Z"
   },
   {
    "duration": 8,
    "start_time": "2023-05-09T10:07:54.469Z"
   },
   {
    "duration": 69,
    "start_time": "2023-05-09T10:07:54.478Z"
   },
   {
    "duration": 60,
    "start_time": "2023-05-09T10:07:54.549Z"
   },
   {
    "duration": 61,
    "start_time": "2023-05-09T10:07:54.611Z"
   },
   {
    "duration": 6,
    "start_time": "2023-05-09T10:07:54.673Z"
   },
   {
    "duration": 33,
    "start_time": "2023-05-09T10:07:54.681Z"
   },
   {
    "duration": 44,
    "start_time": "2023-05-09T10:07:54.716Z"
   },
   {
    "duration": 35,
    "start_time": "2023-05-09T10:07:54.763Z"
   },
   {
    "duration": 35,
    "start_time": "2023-05-09T10:07:54.800Z"
   },
   {
    "duration": 39,
    "start_time": "2023-05-09T10:07:54.837Z"
   },
   {
    "duration": 7346,
    "start_time": "2023-05-09T10:07:54.878Z"
   },
   {
    "duration": 2140,
    "start_time": "2023-05-09T10:08:02.227Z"
   },
   {
    "duration": 2129,
    "start_time": "2023-05-09T10:08:04.371Z"
   },
   {
    "duration": 3,
    "start_time": "2023-05-09T10:08:06.502Z"
   },
   {
    "duration": 27636,
    "start_time": "2023-05-09T10:08:06.507Z"
   },
   {
    "duration": 25106,
    "start_time": "2023-05-09T10:08:34.145Z"
   },
   {
    "duration": 5,
    "start_time": "2023-05-09T10:08:59.252Z"
   },
   {
    "duration": 21747,
    "start_time": "2023-05-09T10:08:59.260Z"
   },
   {
    "duration": 20966,
    "start_time": "2023-05-09T10:09:21.009Z"
   },
   {
    "duration": 3,
    "start_time": "2023-05-09T10:09:41.984Z"
   },
   {
    "duration": 22032,
    "start_time": "2023-05-09T10:09:41.990Z"
   },
   {
    "duration": 21719,
    "start_time": "2023-05-09T10:10:04.024Z"
   },
   {
    "duration": 46267,
    "start_time": "2023-05-09T10:10:25.745Z"
   },
   {
    "duration": 453,
    "start_time": "2023-05-09T10:11:12.013Z"
   },
   {
    "duration": 511,
    "start_time": "2023-05-09T10:11:12.469Z"
   },
   {
    "duration": 192,
    "start_time": "2023-05-09T10:11:12.983Z"
   },
   {
    "duration": 0,
    "start_time": "2023-05-09T10:11:13.176Z"
   },
   {
    "duration": 16,
    "start_time": "2023-05-09T10:12:43.788Z"
   },
   {
    "duration": 18,
    "start_time": "2023-05-09T10:13:09.267Z"
   },
   {
    "duration": 13,
    "start_time": "2023-05-09T10:13:53.949Z"
   },
   {
    "duration": 15,
    "start_time": "2023-05-09T10:14:03.022Z"
   },
   {
    "duration": 16,
    "start_time": "2023-05-09T10:14:11.504Z"
   },
   {
    "duration": 1544,
    "start_time": "2023-05-09T10:14:15.995Z"
   },
   {
    "duration": 2727,
    "start_time": "2023-05-10T16:10:07.281Z"
   },
   {
    "duration": 2559,
    "start_time": "2023-05-10T16:10:18.174Z"
   },
   {
    "duration": 35,
    "start_time": "2023-05-10T16:10:20.735Z"
   },
   {
    "duration": 12,
    "start_time": "2023-05-10T16:10:20.772Z"
   },
   {
    "duration": 13,
    "start_time": "2023-05-10T16:10:20.787Z"
   },
   {
    "duration": 58,
    "start_time": "2023-05-10T16:10:20.802Z"
   },
   {
    "duration": 211,
    "start_time": "2023-05-10T16:10:26.416Z"
   },
   {
    "duration": 3,
    "start_time": "2023-05-10T16:10:48.747Z"
   },
   {
    "duration": 4241,
    "start_time": "2023-05-10T16:10:49.509Z"
   },
   {
    "duration": 8,
    "start_time": "2023-05-10T16:10:53.752Z"
   },
   {
    "duration": 11,
    "start_time": "2023-05-10T16:10:53.761Z"
   },
   {
    "duration": 3,
    "start_time": "2023-05-10T16:11:07.222Z"
   },
   {
    "duration": 1375123,
    "start_time": "2023-05-10T16:11:08.348Z"
   },
   {
    "duration": 9,
    "start_time": "2023-05-10T16:37:11.121Z"
   },
   {
    "duration": 14,
    "start_time": "2023-05-10T16:37:27.631Z"
   },
   {
    "duration": 7126,
    "start_time": "2023-05-10T16:43:35.771Z"
   },
   {
    "duration": 174,
    "start_time": "2023-05-10T16:44:20.037Z"
   },
   {
    "duration": 50,
    "start_time": "2023-05-10T16:44:30.428Z"
   },
   {
    "duration": 6917,
    "start_time": "2023-05-10T16:44:42.055Z"
   },
   {
    "duration": 7058,
    "start_time": "2023-05-10T16:49:36.354Z"
   },
   {
    "duration": 144,
    "start_time": "2023-05-10T16:50:04.209Z"
   },
   {
    "duration": 48,
    "start_time": "2023-05-10T16:50:13.257Z"
   },
   {
    "duration": 82,
    "start_time": "2023-05-10T16:50:16.330Z"
   },
   {
    "duration": 81,
    "start_time": "2023-05-10T16:50:21.177Z"
   },
   {
    "duration": 65,
    "start_time": "2023-05-10T16:50:23.609Z"
   },
   {
    "duration": 7142,
    "start_time": "2023-05-10T16:50:38.343Z"
   },
   {
    "duration": 7303,
    "start_time": "2023-05-10T16:57:10.714Z"
   },
   {
    "duration": 6996,
    "start_time": "2023-05-10T17:00:39.011Z"
   },
   {
    "duration": 7313,
    "start_time": "2023-05-10T17:00:59.447Z"
   },
   {
    "duration": 7216,
    "start_time": "2023-05-10T17:01:27.513Z"
   },
   {
    "duration": 7438,
    "start_time": "2023-05-10T17:03:55.023Z"
   },
   {
    "duration": 6549,
    "start_time": "2023-05-10T17:05:51.940Z"
   },
   {
    "duration": 6564,
    "start_time": "2023-05-10T17:07:22.977Z"
   },
   {
    "duration": 7693,
    "start_time": "2023-05-10T17:08:30.412Z"
   },
   {
    "duration": 7365,
    "start_time": "2023-05-10T17:09:54.994Z"
   },
   {
    "duration": 79,
    "start_time": "2023-05-10T17:19:45.289Z"
   },
   {
    "duration": 9,
    "start_time": "2023-05-10T17:19:45.948Z"
   },
   {
    "duration": 36,
    "start_time": "2023-05-10T17:19:47.538Z"
   },
   {
    "duration": 12,
    "start_time": "2023-05-10T17:19:50.639Z"
   },
   {
    "duration": 69,
    "start_time": "2023-05-10T17:19:53.929Z"
   },
   {
    "duration": 175,
    "start_time": "2023-05-10T17:19:56.623Z"
   },
   {
    "duration": 5,
    "start_time": "2023-05-10T17:19:58.482Z"
   },
   {
    "duration": 5,
    "start_time": "2023-05-10T17:19:58.909Z"
   },
   {
    "duration": 3,
    "start_time": "2023-05-10T17:19:59.963Z"
   },
   {
    "duration": 7,
    "start_time": "2023-05-10T17:20:00.836Z"
   },
   {
    "duration": 65,
    "start_time": "2023-05-10T17:20:21.412Z"
   },
   {
    "duration": 45,
    "start_time": "2023-05-10T17:20:42.702Z"
   },
   {
    "duration": 60,
    "start_time": "2023-05-10T17:24:25.512Z"
   },
   {
    "duration": 44,
    "start_time": "2023-05-10T17:26:12.358Z"
   },
   {
    "duration": 43,
    "start_time": "2023-05-10T17:26:22.892Z"
   },
   {
    "duration": 50,
    "start_time": "2023-05-10T17:26:30.507Z"
   },
   {
    "duration": 80,
    "start_time": "2023-05-10T17:27:19.041Z"
   },
   {
    "duration": 180,
    "start_time": "2023-05-10T17:28:00.166Z"
   },
   {
    "duration": 103,
    "start_time": "2023-05-10T17:29:05.119Z"
   },
   {
    "duration": 103,
    "start_time": "2023-05-10T17:30:13.741Z"
   },
   {
    "duration": 183,
    "start_time": "2023-05-10T17:30:30.079Z"
   },
   {
    "duration": 142,
    "start_time": "2023-05-10T17:33:54.933Z"
   },
   {
    "duration": 209,
    "start_time": "2023-05-10T17:34:13.377Z"
   },
   {
    "duration": 99,
    "start_time": "2023-05-10T17:34:34.821Z"
   },
   {
    "duration": 11,
    "start_time": "2023-05-10T17:34:38.984Z"
   },
   {
    "duration": 358,
    "start_time": "2023-05-10T17:37:15.720Z"
   },
   {
    "duration": 155,
    "start_time": "2023-05-10T17:38:32.527Z"
   },
   {
    "duration": 9,
    "start_time": "2023-05-10T17:39:16.060Z"
   },
   {
    "duration": 4,
    "start_time": "2023-05-10T17:39:26.192Z"
   },
   {
    "duration": 131,
    "start_time": "2023-05-10T17:40:32.044Z"
   },
   {
    "duration": 144,
    "start_time": "2023-05-10T17:41:08.812Z"
   },
   {
    "duration": 255,
    "start_time": "2023-05-10T17:41:17.922Z"
   },
   {
    "duration": 5868,
    "start_time": "2023-05-10T17:41:51.730Z"
   },
   {
    "duration": 189,
    "start_time": "2023-05-10T17:42:15.718Z"
   },
   {
    "duration": 146,
    "start_time": "2023-05-10T17:42:28.893Z"
   },
   {
    "duration": 173,
    "start_time": "2023-05-10T17:42:44.485Z"
   },
   {
    "duration": 5974,
    "start_time": "2023-05-10T17:43:08.758Z"
   },
   {
    "duration": 220,
    "start_time": "2023-05-10T17:43:38.124Z"
   },
   {
    "duration": 299,
    "start_time": "2023-05-10T17:45:51.425Z"
   },
   {
    "duration": 23,
    "start_time": "2023-05-10T17:47:12.671Z"
   },
   {
    "duration": 420,
    "start_time": "2023-05-10T17:47:16.725Z"
   },
   {
    "duration": 30,
    "start_time": "2023-05-10T17:48:32.472Z"
   },
   {
    "duration": 251,
    "start_time": "2023-05-10T17:48:36.032Z"
   },
   {
    "duration": 364,
    "start_time": "2023-05-10T18:03:00.124Z"
   },
   {
    "duration": 38,
    "start_time": "2023-05-10T18:03:39.684Z"
   },
   {
    "duration": 163,
    "start_time": "2023-05-10T18:03:43.170Z"
   },
   {
    "duration": 30,
    "start_time": "2023-05-10T18:04:36.932Z"
   },
   {
    "duration": 205,
    "start_time": "2023-05-10T18:04:46.469Z"
   },
   {
    "duration": 30,
    "start_time": "2023-05-10T18:08:51.531Z"
   },
   {
    "duration": 7,
    "start_time": "2023-05-10T18:08:56.794Z"
   },
   {
    "duration": 28,
    "start_time": "2023-05-10T18:09:04.147Z"
   },
   {
    "duration": 9,
    "start_time": "2023-05-10T18:11:24.093Z"
   },
   {
    "duration": 10,
    "start_time": "2023-05-10T18:11:52.194Z"
   },
   {
    "duration": 4,
    "start_time": "2023-05-10T18:12:16.991Z"
   },
   {
    "duration": 4,
    "start_time": "2023-05-10T18:12:24.039Z"
   },
   {
    "duration": 4,
    "start_time": "2023-05-10T18:12:44.846Z"
   },
   {
    "duration": 3,
    "start_time": "2023-05-10T18:12:58.124Z"
   },
   {
    "duration": 4,
    "start_time": "2023-05-10T18:13:06.656Z"
   },
   {
    "duration": 5,
    "start_time": "2023-05-10T18:14:13.675Z"
   },
   {
    "duration": 4,
    "start_time": "2023-05-10T18:14:29.543Z"
   },
   {
    "duration": 11,
    "start_time": "2023-05-10T18:14:50.580Z"
   },
   {
    "duration": 24,
    "start_time": "2023-05-10T18:15:23.302Z"
   },
   {
    "duration": 3,
    "start_time": "2023-05-10T18:15:33.239Z"
   },
   {
    "duration": 4,
    "start_time": "2023-05-10T18:15:34.370Z"
   },
   {
    "duration": 6,
    "start_time": "2023-05-10T18:15:57.986Z"
   },
   {
    "duration": 5,
    "start_time": "2023-05-10T18:15:58.444Z"
   },
   {
    "duration": 24,
    "start_time": "2023-05-10T18:16:58.688Z"
   },
   {
    "duration": 4,
    "start_time": "2023-05-10T18:17:05.045Z"
   },
   {
    "duration": 4,
    "start_time": "2023-05-10T18:17:05.537Z"
   },
   {
    "duration": 3,
    "start_time": "2023-05-10T18:17:05.971Z"
   },
   {
    "duration": 4,
    "start_time": "2023-05-10T18:17:06.380Z"
   },
   {
    "duration": 15,
    "start_time": "2023-05-10T18:25:06.778Z"
   },
   {
    "duration": 39,
    "start_time": "2023-05-10T18:25:26.600Z"
   },
   {
    "duration": 5,
    "start_time": "2023-05-10T18:26:45.048Z"
   },
   {
    "duration": 6,
    "start_time": "2023-05-10T18:26:55.410Z"
   },
   {
    "duration": 142,
    "start_time": "2023-05-10T18:27:06.453Z"
   },
   {
    "duration": 99,
    "start_time": "2023-05-10T19:46:57.295Z"
   },
   {
    "duration": 137,
    "start_time": "2023-05-10T19:48:59.948Z"
   },
   {
    "duration": 96,
    "start_time": "2023-05-10T19:50:19.659Z"
   },
   {
    "duration": 6096,
    "start_time": "2023-05-10T19:54:00.597Z"
   },
   {
    "duration": 153,
    "start_time": "2023-05-10T19:56:15.696Z"
   },
   {
    "duration": 6227,
    "start_time": "2023-05-10T19:56:53.207Z"
   },
   {
    "duration": 6268,
    "start_time": "2023-05-10T19:57:16.013Z"
   },
   {
    "duration": 98,
    "start_time": "2023-05-10T19:58:06.246Z"
   },
   {
    "duration": 4,
    "start_time": "2023-05-10T19:58:43.647Z"
   },
   {
    "duration": 4,
    "start_time": "2023-05-10T19:58:44.097Z"
   },
   {
    "duration": 2133,
    "start_time": "2023-05-10T20:00:10.099Z"
   },
   {
    "duration": 1057,
    "start_time": "2023-05-10T20:00:14.576Z"
   },
   {
    "duration": 37,
    "start_time": "2023-05-10T20:00:15.635Z"
   },
   {
    "duration": 36,
    "start_time": "2023-05-10T20:00:15.673Z"
   },
   {
    "duration": 41,
    "start_time": "2023-05-10T20:00:15.711Z"
   },
   {
    "duration": 58,
    "start_time": "2023-05-10T20:00:15.754Z"
   },
   {
    "duration": 169,
    "start_time": "2023-05-10T20:00:17.873Z"
   },
   {
    "duration": 3,
    "start_time": "2023-05-10T20:00:23.676Z"
   },
   {
    "duration": 4249,
    "start_time": "2023-05-10T20:00:24.060Z"
   },
   {
    "duration": 7,
    "start_time": "2023-05-10T20:00:42.151Z"
   },
   {
    "duration": 4,
    "start_time": "2023-05-10T20:00:51.548Z"
   },
   {
    "duration": 3,
    "start_time": "2023-05-10T20:00:52.862Z"
   },
   {
    "duration": 1271496,
    "start_time": "2023-05-10T20:00:55.533Z"
   },
   {
    "duration": 13,
    "start_time": "2023-05-10T20:22:14.161Z"
   },
   {
    "duration": 6234,
    "start_time": "2023-05-10T20:22:17.523Z"
   },
   {
    "duration": 9,
    "start_time": "2023-05-10T20:22:29.711Z"
   },
   {
    "duration": 34,
    "start_time": "2023-05-10T20:22:36.973Z"
   },
   {
    "duration": 9,
    "start_time": "2023-05-10T20:22:39.142Z"
   },
   {
    "duration": 34,
    "start_time": "2023-05-10T20:22:45.026Z"
   },
   {
    "duration": 12,
    "start_time": "2023-05-10T20:22:46.359Z"
   },
   {
    "duration": 5,
    "start_time": "2023-05-10T20:22:47.174Z"
   },
   {
    "duration": 5,
    "start_time": "2023-05-10T20:22:47.641Z"
   },
   {
    "duration": 36,
    "start_time": "2023-05-10T20:23:09.531Z"
   },
   {
    "duration": 4,
    "start_time": "2023-05-10T20:23:10.477Z"
   },
   {
    "duration": 4,
    "start_time": "2023-05-10T20:23:11.041Z"
   },
   {
    "duration": 145,
    "start_time": "2023-05-10T20:23:14.803Z"
   },
   {
    "duration": 13,
    "start_time": "2023-05-10T20:23:44.837Z"
   },
   {
    "duration": 4,
    "start_time": "2023-05-10T20:23:51.074Z"
   },
   {
    "duration": 4,
    "start_time": "2023-05-10T20:25:26.044Z"
   },
   {
    "duration": 4,
    "start_time": "2023-05-10T20:25:30.852Z"
   },
   {
    "duration": 4,
    "start_time": "2023-05-10T20:25:35.177Z"
   },
   {
    "duration": 4,
    "start_time": "2023-05-10T20:25:41.409Z"
   },
   {
    "duration": 5,
    "start_time": "2023-05-10T20:26:24.198Z"
   },
   {
    "duration": 5,
    "start_time": "2023-05-10T20:26:26.790Z"
   },
   {
    "duration": 4,
    "start_time": "2023-05-10T20:26:27.108Z"
   },
   {
    "duration": 3,
    "start_time": "2023-05-10T20:26:27.457Z"
   },
   {
    "duration": 4,
    "start_time": "2023-05-10T20:26:28.229Z"
   },
   {
    "duration": 4,
    "start_time": "2023-05-10T20:26:28.635Z"
   },
   {
    "duration": 135,
    "start_time": "2023-05-10T20:28:52.057Z"
   },
   {
    "duration": 978,
    "start_time": "2023-05-10T20:34:14.891Z"
   },
   {
    "duration": 100,
    "start_time": "2023-05-10T20:34:43.336Z"
   },
   {
    "duration": 27,
    "start_time": "2023-05-10T20:44:20.179Z"
   },
   {
    "duration": 5,
    "start_time": "2023-05-10T20:44:20.883Z"
   },
   {
    "duration": 5,
    "start_time": "2023-05-10T20:44:22.227Z"
   },
   {
    "duration": 4,
    "start_time": "2023-05-10T20:44:23.586Z"
   },
   {
    "duration": 84,
    "start_time": "2023-05-10T20:44:27.845Z"
   },
   {
    "duration": 307,
    "start_time": "2023-05-10T20:44:39.456Z"
   },
   {
    "duration": 5,
    "start_time": "2023-05-10T20:45:49.957Z"
   },
   {
    "duration": 4,
    "start_time": "2023-05-10T20:45:50.550Z"
   },
   {
    "duration": 301,
    "start_time": "2023-05-10T20:46:08.811Z"
   },
   {
    "duration": 5,
    "start_time": "2023-05-10T20:46:38.324Z"
   },
   {
    "duration": 6,
    "start_time": "2023-05-10T20:46:40.813Z"
   },
   {
    "duration": 2077,
    "start_time": "2023-05-10T20:47:49.340Z"
   },
   {
    "duration": 985,
    "start_time": "2023-05-10T20:47:53.203Z"
   },
   {
    "duration": 67,
    "start_time": "2023-05-10T20:47:54.191Z"
   },
   {
    "duration": 49,
    "start_time": "2023-05-10T20:47:54.261Z"
   },
   {
    "duration": 13,
    "start_time": "2023-05-10T20:47:54.649Z"
   },
   {
    "duration": 39,
    "start_time": "2023-05-10T20:47:55.459Z"
   },
   {
    "duration": 197,
    "start_time": "2023-05-10T20:47:58.002Z"
   },
   {
    "duration": 3,
    "start_time": "2023-05-10T20:48:03.916Z"
   },
   {
    "duration": 4462,
    "start_time": "2023-05-10T20:48:04.267Z"
   },
   {
    "duration": 7,
    "start_time": "2023-05-10T20:48:08.731Z"
   },
   {
    "duration": 13,
    "start_time": "2023-05-10T20:48:08.740Z"
   },
   {
    "duration": 20,
    "start_time": "2023-05-10T20:48:08.755Z"
   },
   {
    "duration": 1223707,
    "start_time": "2023-05-10T20:48:08.777Z"
   },
   {
    "duration": 13,
    "start_time": "2023-05-10T21:08:51.668Z"
   },
   {
    "duration": 6285,
    "start_time": "2023-05-10T21:08:52.011Z"
   },
   {
    "duration": 8,
    "start_time": "2023-05-10T21:08:58.299Z"
   },
   {
    "duration": 1220,
    "start_time": "2023-05-10T21:08:58.309Z"
   },
   {
    "duration": 488,
    "start_time": "2023-05-10T21:08:59.532Z"
   },
   {
    "duration": 47,
    "start_time": "2023-05-10T21:09:00.021Z"
   },
   {
    "duration": 12,
    "start_time": "2023-05-10T21:09:08.278Z"
   },
   {
    "duration": 4,
    "start_time": "2023-05-10T21:09:08.750Z"
   },
   {
    "duration": 6,
    "start_time": "2023-05-10T21:09:09.287Z"
   },
   {
    "duration": 30,
    "start_time": "2023-05-10T21:09:20.029Z"
   },
   {
    "duration": 4,
    "start_time": "2023-05-10T21:09:20.781Z"
   },
   {
    "duration": 4,
    "start_time": "2023-05-10T21:09:21.269Z"
   },
   {
    "duration": 144,
    "start_time": "2023-05-10T21:09:23.162Z"
   },
   {
    "duration": 5,
    "start_time": "2023-05-10T21:09:29.156Z"
   },
   {
    "duration": 4,
    "start_time": "2023-05-10T21:09:30.014Z"
   },
   {
    "duration": 5,
    "start_time": "2023-05-10T21:09:30.885Z"
   },
   {
    "duration": 3,
    "start_time": "2023-05-10T21:09:31.389Z"
   },
   {
    "duration": 5,
    "start_time": "2023-05-10T21:09:32.012Z"
   },
   {
    "duration": 4,
    "start_time": "2023-05-10T21:09:34.420Z"
   },
   {
    "duration": 315,
    "start_time": "2023-05-10T21:09:37.351Z"
   },
   {
    "duration": 24,
    "start_time": "2023-05-10T21:13:36.929Z"
   },
   {
    "duration": 4,
    "start_time": "2023-05-10T21:13:37.314Z"
   },
   {
    "duration": 4,
    "start_time": "2023-05-10T21:13:37.845Z"
   },
   {
    "duration": 3,
    "start_time": "2023-05-10T21:13:42.433Z"
   },
   {
    "duration": 251,
    "start_time": "2023-05-10T21:13:46.522Z"
   },
   {
    "duration": 29,
    "start_time": "2023-05-10T21:16:08.513Z"
   },
   {
    "duration": 4,
    "start_time": "2023-05-10T21:16:09.526Z"
   },
   {
    "duration": 4,
    "start_time": "2023-05-10T21:16:10.027Z"
   },
   {
    "duration": 289,
    "start_time": "2023-05-10T21:16:19.827Z"
   },
   {
    "duration": 50,
    "start_time": "2023-05-10T21:17:03.862Z"
   },
   {
    "duration": 46,
    "start_time": "2023-05-10T21:18:12.569Z"
   },
   {
    "duration": 215,
    "start_time": "2023-05-10T21:18:26.177Z"
   },
   {
    "duration": 66,
    "start_time": "2023-05-10T21:23:49.669Z"
   },
   {
    "duration": 364,
    "start_time": "2023-05-10T21:23:56.814Z"
   },
   {
    "duration": 96,
    "start_time": "2023-05-10T21:29:19.637Z"
   },
   {
    "duration": 49,
    "start_time": "2023-05-10T21:30:45.093Z"
   },
   {
    "duration": 97,
    "start_time": "2023-05-10T21:31:32.065Z"
   },
   {
    "duration": 8,
    "start_time": "2023-05-10T21:32:00.747Z"
   },
   {
    "duration": 109,
    "start_time": "2023-05-10T21:32:07.073Z"
   },
   {
    "duration": 98,
    "start_time": "2023-05-10T21:32:25.814Z"
   },
   {
    "duration": 288,
    "start_time": "2023-05-10T21:32:34.869Z"
   },
   {
    "duration": 277,
    "start_time": "2023-05-10T21:32:53.741Z"
   },
   {
    "duration": 103,
    "start_time": "2023-05-10T21:35:41.056Z"
   },
   {
    "duration": 164,
    "start_time": "2023-05-10T21:35:55.089Z"
   },
   {
    "duration": 117,
    "start_time": "2023-05-10T21:39:45.440Z"
   },
   {
    "duration": 5,
    "start_time": "2023-05-10T21:44:45.423Z"
   },
   {
    "duration": 5,
    "start_time": "2023-05-10T21:44:45.886Z"
   },
   {
    "duration": 717,
    "start_time": "2023-05-10T21:51:42.488Z"
   },
   {
    "duration": 137,
    "start_time": "2023-05-10T21:51:52.595Z"
   },
   {
    "duration": 48,
    "start_time": "2023-05-10T21:53:28.000Z"
   },
   {
    "duration": 59,
    "start_time": "2023-05-10T21:53:57.477Z"
   },
   {
    "duration": 75,
    "start_time": "2023-05-10T21:54:08.947Z"
   },
   {
    "duration": 41,
    "start_time": "2023-05-10T21:54:29.213Z"
   },
   {
    "duration": 80,
    "start_time": "2023-05-10T21:54:51.346Z"
   },
   {
    "duration": 41,
    "start_time": "2023-05-10T21:55:16.339Z"
   },
   {
    "duration": 40,
    "start_time": "2023-05-10T21:55:21.517Z"
   },
   {
    "duration": 36,
    "start_time": "2023-05-10T21:55:45.991Z"
   },
   {
    "duration": 3943,
    "start_time": "2023-05-10T21:56:41.807Z"
   },
   {
    "duration": 4879,
    "start_time": "2023-05-10T21:56:57.003Z"
   },
   {
    "duration": 4195,
    "start_time": "2023-05-10T22:02:16.272Z"
   },
   {
    "duration": 1922,
    "start_time": "2023-05-10T22:06:44.314Z"
   },
   {
    "duration": 928,
    "start_time": "2023-05-10T22:06:46.238Z"
   },
   {
    "duration": 37,
    "start_time": "2023-05-10T22:06:47.168Z"
   },
   {
    "duration": 10,
    "start_time": "2023-05-10T22:06:47.207Z"
   },
   {
    "duration": 25,
    "start_time": "2023-05-10T22:06:47.218Z"
   },
   {
    "duration": 34,
    "start_time": "2023-05-10T22:06:47.574Z"
   },
   {
    "duration": 170,
    "start_time": "2023-05-10T22:06:49.411Z"
   },
   {
    "duration": 3,
    "start_time": "2023-05-10T22:06:54.571Z"
   },
   {
    "duration": 4329,
    "start_time": "2023-05-10T22:06:55.208Z"
   },
   {
    "duration": 7,
    "start_time": "2023-05-10T22:06:59.539Z"
   },
   {
    "duration": 5,
    "start_time": "2023-05-10T22:07:03.186Z"
   },
   {
    "duration": 3,
    "start_time": "2023-05-10T22:07:04.275Z"
   },
   {
    "duration": 1230445,
    "start_time": "2023-05-10T22:07:04.734Z"
   },
   {
    "duration": 12,
    "start_time": "2023-05-10T22:28:08.867Z"
   },
   {
    "duration": 5454,
    "start_time": "2023-05-10T22:28:11.496Z"
   },
   {
    "duration": 8,
    "start_time": "2023-05-10T22:28:16.953Z"
   },
   {
    "duration": 1252,
    "start_time": "2023-05-10T22:28:16.990Z"
   },
   {
    "duration": 8,
    "start_time": "2023-05-10T22:28:19.322Z"
   },
   {
    "duration": 38,
    "start_time": "2023-05-10T22:28:19.876Z"
   },
   {
    "duration": 12,
    "start_time": "2023-05-10T22:28:26.227Z"
   },
   {
    "duration": 5,
    "start_time": "2023-05-10T22:28:26.981Z"
   },
   {
    "duration": 4,
    "start_time": "2023-05-10T22:28:27.524Z"
   },
   {
    "duration": 32,
    "start_time": "2023-05-10T22:28:29.782Z"
   },
   {
    "duration": 5,
    "start_time": "2023-05-10T22:28:30.507Z"
   },
   {
    "duration": 5,
    "start_time": "2023-05-10T22:28:31.093Z"
   },
   {
    "duration": 6,
    "start_time": "2023-05-10T22:28:35.372Z"
   },
   {
    "duration": 5,
    "start_time": "2023-05-10T22:28:35.841Z"
   },
   {
    "duration": 4,
    "start_time": "2023-05-10T22:28:36.191Z"
   },
   {
    "duration": 3,
    "start_time": "2023-05-10T22:28:36.673Z"
   },
   {
    "duration": 5,
    "start_time": "2023-05-10T22:28:37.353Z"
   },
   {
    "duration": 4,
    "start_time": "2023-05-10T22:28:37.689Z"
   },
   {
    "duration": 4924,
    "start_time": "2023-05-10T22:28:40.589Z"
   },
   {
    "duration": 32,
    "start_time": "2023-05-10T22:34:30.544Z"
   },
   {
    "duration": 33,
    "start_time": "2023-05-10T22:34:36.082Z"
   },
   {
    "duration": 33,
    "start_time": "2023-05-10T22:34:43.544Z"
   },
   {
    "duration": 34,
    "start_time": "2023-05-10T22:34:44.029Z"
   },
   {
    "duration": 3674,
    "start_time": "2023-05-10T22:35:48.035Z"
   },
   {
    "duration": 4721,
    "start_time": "2023-05-10T22:36:04.517Z"
   },
   {
    "duration": 4298,
    "start_time": "2023-05-10T22:36:42.123Z"
   },
   {
    "duration": 4199,
    "start_time": "2023-05-10T22:36:57.446Z"
   },
   {
    "duration": 264,
    "start_time": "2023-05-10T22:46:20.610Z"
   },
   {
    "duration": 3888,
    "start_time": "2023-05-10T22:47:18.256Z"
   },
   {
    "duration": 16,
    "start_time": "2023-05-10T22:50:14.402Z"
   },
   {
    "duration": 144,
    "start_time": "2023-05-10T22:50:45.076Z"
   },
   {
    "duration": 7,
    "start_time": "2023-05-10T22:52:07.376Z"
   },
   {
    "duration": 17,
    "start_time": "2023-05-10T22:52:16.065Z"
   },
   {
    "duration": 94,
    "start_time": "2023-05-10T22:52:23.164Z"
   },
   {
    "duration": 5,
    "start_time": "2023-05-10T22:57:59.170Z"
   },
   {
    "duration": 3827,
    "start_time": "2023-05-10T22:58:06.452Z"
   },
   {
    "duration": 283,
    "start_time": "2023-05-10T22:58:27.016Z"
   },
   {
    "duration": 2,
    "start_time": "2023-05-10T23:16:32.231Z"
   },
   {
    "duration": 2,
    "start_time": "2023-05-10T23:16:41.243Z"
   },
   {
    "duration": 10,
    "start_time": "2023-05-10T23:16:44.051Z"
   },
   {
    "duration": 5322,
    "start_time": "2023-05-10T23:17:02.668Z"
   },
   {
    "duration": 600,
    "start_time": "2023-05-10T23:17:36.004Z"
   },
   {
    "duration": 92,
    "start_time": "2023-05-10T23:18:08.557Z"
   },
   {
    "duration": 373580,
    "start_time": "2023-05-10T23:18:14.019Z"
   },
   {
    "duration": 32337,
    "start_time": "2023-05-10T23:28:10.266Z"
   },
   {
    "duration": 31843,
    "start_time": "2023-05-10T23:28:56.155Z"
   },
   {
    "duration": 1788,
    "start_time": "2023-05-10T23:31:53.426Z"
   },
   {
    "duration": 782,
    "start_time": "2023-05-10T23:31:57.321Z"
   },
   {
    "duration": 30,
    "start_time": "2023-05-10T23:31:58.106Z"
   },
   {
    "duration": 10,
    "start_time": "2023-05-10T23:31:58.138Z"
   },
   {
    "duration": 11,
    "start_time": "2023-05-10T23:31:58.303Z"
   },
   {
    "duration": 32,
    "start_time": "2023-05-10T23:32:00.381Z"
   },
   {
    "duration": 142,
    "start_time": "2023-05-10T23:32:02.875Z"
   },
   {
    "duration": 3,
    "start_time": "2023-05-10T23:32:20.225Z"
   },
   {
    "duration": 3592,
    "start_time": "2023-05-10T23:32:23.081Z"
   },
   {
    "duration": 7,
    "start_time": "2023-05-10T23:32:26.675Z"
   },
   {
    "duration": 4,
    "start_time": "2023-05-10T23:32:29.956Z"
   },
   {
    "duration": 3,
    "start_time": "2023-05-10T23:32:31.656Z"
   },
   {
    "duration": 12,
    "start_time": "2023-05-10T23:50:51.894Z"
   },
   {
    "duration": 5103,
    "start_time": "2023-05-10T23:50:55.627Z"
   },
   {
    "duration": 7,
    "start_time": "2023-05-10T23:51:06.949Z"
   },
   {
    "duration": 32,
    "start_time": "2023-05-10T23:51:09.089Z"
   },
   {
    "duration": 7,
    "start_time": "2023-05-10T23:51:09.729Z"
   },
   {
    "duration": 31,
    "start_time": "2023-05-10T23:51:13.418Z"
   },
   {
    "duration": 10,
    "start_time": "2023-05-10T23:51:27.024Z"
   },
   {
    "duration": 4,
    "start_time": "2023-05-10T23:51:27.825Z"
   },
   {
    "duration": 4,
    "start_time": "2023-05-10T23:51:28.340Z"
   },
   {
    "duration": 24,
    "start_time": "2023-05-10T23:51:29.121Z"
   },
   {
    "duration": 3,
    "start_time": "2023-05-10T23:51:29.921Z"
   },
   {
    "duration": 4,
    "start_time": "2023-05-10T23:51:30.287Z"
   },
   {
    "duration": 6,
    "start_time": "2023-05-10T23:51:34.788Z"
   },
   {
    "duration": 5,
    "start_time": "2023-05-10T23:51:35.508Z"
   },
   {
    "duration": 4,
    "start_time": "2023-05-10T23:51:36.077Z"
   },
   {
    "duration": 3,
    "start_time": "2023-05-10T23:51:36.868Z"
   },
   {
    "duration": 3,
    "start_time": "2023-05-10T23:51:38.651Z"
   },
   {
    "duration": 3,
    "start_time": "2023-05-10T23:51:54.059Z"
   },
   {
    "duration": 4678,
    "start_time": "2023-05-10T23:51:56.744Z"
   },
   {
    "duration": 1103,
    "start_time": "2023-05-10T23:52:12.984Z"
   },
   {
    "duration": 217318,
    "start_time": "2023-05-10T23:54:00.052Z"
   },
   {
    "duration": 200,
    "start_time": "2023-05-10T23:58:38.247Z"
   },
   {
    "duration": 51301,
    "start_time": "2023-05-10T23:58:43.786Z"
   },
   {
    "duration": 13062,
    "start_time": "2023-05-11T00:00:16.074Z"
   },
   {
    "duration": 27631,
    "start_time": "2023-05-11T00:07:17.292Z"
   },
   {
    "duration": 1775,
    "start_time": "2023-05-11T00:10:52.627Z"
   },
   {
    "duration": 777,
    "start_time": "2023-05-11T00:10:57.038Z"
   },
   {
    "duration": 22,
    "start_time": "2023-05-11T00:10:57.817Z"
   },
   {
    "duration": 9,
    "start_time": "2023-05-11T00:10:57.841Z"
   },
   {
    "duration": 10,
    "start_time": "2023-05-11T00:10:58.190Z"
   },
   {
    "duration": 31,
    "start_time": "2023-05-11T00:10:59.440Z"
   },
   {
    "duration": 133,
    "start_time": "2023-05-11T00:11:02.172Z"
   },
   {
    "duration": 3,
    "start_time": "2023-05-11T00:11:07.269Z"
   },
   {
    "duration": 3448,
    "start_time": "2023-05-11T00:11:07.571Z"
   },
   {
    "duration": 7,
    "start_time": "2023-05-11T00:11:11.020Z"
   },
   {
    "duration": 6,
    "start_time": "2023-05-11T00:11:11.028Z"
   },
   {
    "duration": 3,
    "start_time": "2023-05-11T00:11:12.666Z"
   },
   {
    "duration": 1062145,
    "start_time": "2023-05-11T00:11:13.400Z"
   },
   {
    "duration": 11,
    "start_time": "2023-05-11T00:28:55.547Z"
   },
   {
    "duration": 10,
    "start_time": "2023-05-11T00:39:13.913Z"
   },
   {
    "duration": 39,
    "start_time": "2023-05-11T00:39:16.530Z"
   },
   {
    "duration": 7,
    "start_time": "2023-05-11T00:39:17.044Z"
   },
   {
    "duration": 31,
    "start_time": "2023-05-11T00:39:18.881Z"
   },
   {
    "duration": 10,
    "start_time": "2023-05-11T00:39:22.025Z"
   },
   {
    "duration": 3,
    "start_time": "2023-05-11T00:43:14.031Z"
   },
   {
    "duration": 4,
    "start_time": "2023-05-11T00:43:14.745Z"
   },
   {
    "duration": 27,
    "start_time": "2023-05-11T00:43:49.241Z"
   },
   {
    "duration": 4,
    "start_time": "2023-05-11T00:43:50.569Z"
   },
   {
    "duration": 4,
    "start_time": "2023-05-11T00:43:51.409Z"
   },
   {
    "duration": 5,
    "start_time": "2023-05-11T00:44:10.579Z"
   },
   {
    "duration": 3,
    "start_time": "2023-05-11T00:44:11.249Z"
   },
   {
    "duration": 3,
    "start_time": "2023-05-11T00:44:11.640Z"
   },
   {
    "duration": 3,
    "start_time": "2023-05-11T00:44:12.147Z"
   },
   {
    "duration": 3,
    "start_time": "2023-05-11T00:44:13.149Z"
   },
   {
    "duration": 213,
    "start_time": "2023-05-11T00:44:50.073Z"
   },
   {
    "duration": 322,
    "start_time": "2023-05-11T00:45:01.385Z"
   },
   {
    "duration": 3437,
    "start_time": "2023-05-11T00:59:01.882Z"
   },
   {
    "duration": 99,
    "start_time": "2023-05-11T00:59:07.189Z"
   },
   {
    "duration": 13,
    "start_time": "2023-05-11T01:06:46.393Z"
   },
   {
    "duration": 97,
    "start_time": "2023-05-11T01:06:47.236Z"
   },
   {
    "duration": 22,
    "start_time": "2023-05-11T01:07:06.111Z"
   },
   {
    "duration": 3,
    "start_time": "2023-05-11T01:07:13.140Z"
   },
   {
    "duration": 4,
    "start_time": "2023-05-11T01:07:18.382Z"
   },
   {
    "duration": 267,
    "start_time": "2023-05-11T01:07:30.506Z"
   },
   {
    "duration": 18,
    "start_time": "2023-05-11T01:17:39.607Z"
   },
   {
    "duration": 13,
    "start_time": "2023-05-11T01:24:25.668Z"
   },
   {
    "duration": 9,
    "start_time": "2023-05-11T01:24:39.859Z"
   },
   {
    "duration": 13,
    "start_time": "2023-05-11T01:25:08.145Z"
   },
   {
    "duration": 12,
    "start_time": "2023-05-11T01:25:30.276Z"
   },
   {
    "duration": 11,
    "start_time": "2023-05-11T01:25:31.225Z"
   },
   {
    "duration": 11,
    "start_time": "2023-05-11T01:25:44.353Z"
   },
   {
    "duration": 680,
    "start_time": "2023-05-11T01:27:17.865Z"
   },
   {
    "duration": 270,
    "start_time": "2023-05-11T01:27:31.694Z"
   },
   {
    "duration": 210,
    "start_time": "2023-05-11T01:29:20.313Z"
   },
   {
    "duration": 11,
    "start_time": "2023-05-11T01:39:53.338Z"
   },
   {
    "duration": 3,
    "start_time": "2023-05-11T01:40:36.065Z"
   },
   {
    "duration": 7,
    "start_time": "2023-05-11T01:40:41.515Z"
   },
   {
    "duration": 7,
    "start_time": "2023-05-11T01:40:57.515Z"
   },
   {
    "duration": 5,
    "start_time": "2023-05-11T01:41:05.153Z"
   },
   {
    "duration": 12,
    "start_time": "2023-05-11T01:41:20.852Z"
   },
   {
    "duration": 8,
    "start_time": "2023-05-11T01:41:28.483Z"
   },
   {
    "duration": 2,
    "start_time": "2023-05-11T01:45:33.127Z"
   },
   {
    "duration": 3,
    "start_time": "2023-05-11T01:45:51.212Z"
   },
   {
    "duration": 2,
    "start_time": "2023-05-11T01:45:57.745Z"
   },
   {
    "duration": 28,
    "start_time": "2023-05-11T01:48:15.365Z"
   },
   {
    "duration": 4,
    "start_time": "2023-05-11T01:49:15.401Z"
   },
   {
    "duration": 3,
    "start_time": "2023-05-11T01:49:26.846Z"
   },
   {
    "duration": 4689,
    "start_time": "2023-05-11T01:49:28.549Z"
   },
   {
    "duration": 569,
    "start_time": "2023-05-11T01:49:33.240Z"
   },
   {
    "duration": 548,
    "start_time": "2023-05-11T01:49:33.810Z"
   },
   {
    "duration": 35,
    "start_time": "2023-05-11T01:55:50.809Z"
   },
   {
    "duration": 38,
    "start_time": "2023-05-11T01:58:12.108Z"
   },
   {
    "duration": 22359,
    "start_time": "2023-05-11T01:59:09.046Z"
   },
   {
    "duration": 115437,
    "start_time": "2023-05-11T01:59:53.767Z"
   },
   {
    "duration": 47099,
    "start_time": "2023-05-11T02:05:48.507Z"
   },
   {
    "duration": 48220,
    "start_time": "2023-05-11T02:06:43.382Z"
   },
   {
    "duration": 703,
    "start_time": "2023-05-11T02:13:59.544Z"
   },
   {
    "duration": 655,
    "start_time": "2023-05-11T02:15:23.049Z"
   },
   {
    "duration": 549,
    "start_time": "2023-05-11T02:16:57.794Z"
   },
   {
    "duration": 92,
    "start_time": "2023-05-11T02:22:43.468Z"
   },
   {
    "duration": 79,
    "start_time": "2023-05-11T02:24:37.042Z"
   },
   {
    "duration": 516,
    "start_time": "2023-05-11T02:25:13.312Z"
   },
   {
    "duration": 538,
    "start_time": "2023-05-11T02:30:56.658Z"
   },
   {
    "duration": 532,
    "start_time": "2023-05-11T02:47:43.428Z"
   },
   {
    "duration": 524,
    "start_time": "2023-05-11T02:48:17.302Z"
   },
   {
    "duration": 522,
    "start_time": "2023-05-11T02:51:46.636Z"
   },
   {
    "duration": 582,
    "start_time": "2023-05-11T02:53:25.289Z"
   },
   {
    "duration": 28,
    "start_time": "2023-05-11T03:24:04.578Z"
   },
   {
    "duration": 11,
    "start_time": "2023-05-11T03:24:27.382Z"
   },
   {
    "duration": 7434,
    "start_time": "2023-05-11T03:24:46.651Z"
   },
   {
    "duration": 4,
    "start_time": "2023-05-11T03:49:46.351Z"
   },
   {
    "duration": 4,
    "start_time": "2023-05-11T03:49:47.228Z"
   },
   {
    "duration": 42,
    "start_time": "2023-05-11T03:49:48.384Z"
   },
   {
    "duration": 3,
    "start_time": "2023-05-11T03:50:12.656Z"
   },
   {
    "duration": 5847,
    "start_time": "2023-05-11T03:50:14.384Z"
   },
   {
    "duration": 11,
    "start_time": "2023-05-11T03:50:57.607Z"
   },
   {
    "duration": 3,
    "start_time": "2023-05-11T03:52:54.248Z"
   },
   {
    "duration": 3,
    "start_time": "2023-05-11T03:52:54.654Z"
   },
   {
    "duration": 3,
    "start_time": "2023-05-11T03:52:55.015Z"
   },
   {
    "duration": 1493285,
    "start_time": "2023-05-11T03:52:55.479Z"
   },
   {
    "duration": 4,
    "start_time": "2023-05-11T04:18:56.382Z"
   },
   {
    "duration": 3499,
    "start_time": "2023-05-11T04:18:58.121Z"
   },
   {
    "duration": 5,
    "start_time": "2023-05-11T04:19:43.245Z"
   },
   {
    "duration": 663,
    "start_time": "2023-05-11T04:19:43.903Z"
   },
   {
    "duration": 619,
    "start_time": "2023-05-11T04:21:04.123Z"
   },
   {
    "duration": 3842,
    "start_time": "2023-05-11T04:21:14.982Z"
   },
   {
    "duration": 20,
    "start_time": "2023-05-11T04:22:29.656Z"
   },
   {
    "duration": 4,
    "start_time": "2023-05-11T04:22:34.721Z"
   },
   {
    "duration": 16,
    "start_time": "2023-05-11T04:22:35.720Z"
   },
   {
    "duration": 4,
    "start_time": "2023-05-11T04:22:45.321Z"
   },
   {
    "duration": 3,
    "start_time": "2023-05-11T04:22:45.763Z"
   },
   {
    "duration": 3,
    "start_time": "2023-05-11T04:22:46.154Z"
   },
   {
    "duration": 15,
    "start_time": "2023-05-11T04:22:46.810Z"
   },
   {
    "duration": 13,
    "start_time": "2023-05-11T04:22:51.450Z"
   },
   {
    "duration": 3,
    "start_time": "2023-05-11T04:22:52.861Z"
   },
   {
    "duration": 14,
    "start_time": "2023-05-11T04:22:53.444Z"
   },
   {
    "duration": 2060,
    "start_time": "2023-05-11T04:23:52.819Z"
   },
   {
    "duration": 1005,
    "start_time": "2023-05-11T04:23:54.881Z"
   },
   {
    "duration": 38,
    "start_time": "2023-05-11T04:23:55.888Z"
   },
   {
    "duration": 12,
    "start_time": "2023-05-11T04:23:55.928Z"
   },
   {
    "duration": 17,
    "start_time": "2023-05-11T04:23:55.942Z"
   },
   {
    "duration": 38,
    "start_time": "2023-05-11T04:23:57.086Z"
   },
   {
    "duration": 173,
    "start_time": "2023-05-11T04:23:58.993Z"
   },
   {
    "duration": 3,
    "start_time": "2023-05-11T04:24:01.330Z"
   },
   {
    "duration": 3909,
    "start_time": "2023-05-11T04:24:01.747Z"
   },
   {
    "duration": 6,
    "start_time": "2023-05-11T04:24:05.658Z"
   },
   {
    "duration": 17,
    "start_time": "2023-05-11T04:24:05.666Z"
   },
   {
    "duration": 28,
    "start_time": "2023-05-11T04:24:05.685Z"
   },
   {
    "duration": 1204036,
    "start_time": "2023-05-11T04:24:05.715Z"
   },
   {
    "duration": 11,
    "start_time": "2023-05-11T04:44:09.753Z"
   },
   {
    "duration": 6011,
    "start_time": "2023-05-11T04:44:09.766Z"
   },
   {
    "duration": 46,
    "start_time": "2023-05-11T05:16:08.427Z"
   },
   {
    "duration": 9,
    "start_time": "2023-05-11T05:16:08.641Z"
   },
   {
    "duration": 39,
    "start_time": "2023-05-11T05:16:08.855Z"
   },
   {
    "duration": 13,
    "start_time": "2023-05-11T05:16:11.413Z"
   },
   {
    "duration": 5,
    "start_time": "2023-05-11T05:16:12.036Z"
   },
   {
    "duration": 4,
    "start_time": "2023-05-11T05:16:12.557Z"
   },
   {
    "duration": 34,
    "start_time": "2023-05-11T05:16:40.308Z"
   },
   {
    "duration": 5,
    "start_time": "2023-05-11T05:16:43.075Z"
   },
   {
    "duration": 4,
    "start_time": "2023-05-11T05:16:43.318Z"
   },
   {
    "duration": 4,
    "start_time": "2023-05-11T05:16:43.670Z"
   },
   {
    "duration": 3,
    "start_time": "2023-05-11T05:16:45.042Z"
   },
   {
    "duration": 4,
    "start_time": "2023-05-11T05:16:45.913Z"
   },
   {
    "duration": 3,
    "start_time": "2023-05-11T05:16:53.306Z"
   },
   {
    "duration": 6038,
    "start_time": "2023-05-11T05:16:54.254Z"
   },
   {
    "duration": 789,
    "start_time": "2023-05-11T05:17:00.294Z"
   },
   {
    "duration": 714,
    "start_time": "2023-05-11T05:17:01.085Z"
   },
   {
    "duration": 3062,
    "start_time": "2023-05-11T05:17:13.833Z"
   },
   {
    "duration": 6,
    "start_time": "2023-05-11T05:17:34.624Z"
   },
   {
    "duration": 3,
    "start_time": "2023-05-11T05:17:35.400Z"
   },
   {
    "duration": 5,
    "start_time": "2023-05-11T05:17:36.643Z"
   },
   {
    "duration": 190,
    "start_time": "2023-05-11T05:17:38.723Z"
   },
   {
    "duration": 23933,
    "start_time": "2023-05-11T05:17:56.417Z"
   },
   {
    "duration": 3,
    "start_time": "2023-05-11T05:18:43.231Z"
   },
   {
    "duration": 3,
    "start_time": "2023-05-11T05:18:43.842Z"
   },
   {
    "duration": 3,
    "start_time": "2023-05-11T05:18:44.323Z"
   },
   {
    "duration": 631,
    "start_time": "2023-05-11T05:18:44.882Z"
   },
   {
    "duration": 2090,
    "start_time": "2023-05-11T05:43:03.382Z"
   },
   {
    "duration": 896,
    "start_time": "2023-05-11T05:43:13.395Z"
   },
   {
    "duration": 30,
    "start_time": "2023-05-11T05:43:14.293Z"
   },
   {
    "duration": 11,
    "start_time": "2023-05-11T05:43:14.325Z"
   },
   {
    "duration": 12,
    "start_time": "2023-05-11T05:43:14.377Z"
   },
   {
    "duration": 36,
    "start_time": "2023-05-11T05:43:15.126Z"
   },
   {
    "duration": 142,
    "start_time": "2023-05-11T05:43:18.118Z"
   },
   {
    "duration": 3,
    "start_time": "2023-05-11T05:43:21.087Z"
   },
   {
    "duration": 4023,
    "start_time": "2023-05-11T05:43:21.415Z"
   },
   {
    "duration": 9,
    "start_time": "2023-05-11T05:43:25.440Z"
   },
   {
    "duration": 11,
    "start_time": "2023-05-11T05:43:25.451Z"
   },
   {
    "duration": 7,
    "start_time": "2023-05-11T05:43:25.464Z"
   },
   {
    "duration": 1229202,
    "start_time": "2023-05-11T05:43:25.473Z"
   },
   {
    "duration": 10,
    "start_time": "2023-05-11T06:04:27.340Z"
   },
   {
    "duration": 36,
    "start_time": "2023-05-11T06:04:30.585Z"
   },
   {
    "duration": 8,
    "start_time": "2023-05-11T06:04:30.950Z"
   },
   {
    "duration": 37,
    "start_time": "2023-05-11T06:04:31.451Z"
   },
   {
    "duration": 12,
    "start_time": "2023-05-11T06:04:32.294Z"
   },
   {
    "duration": 5,
    "start_time": "2023-05-11T06:04:32.837Z"
   },
   {
    "duration": 4,
    "start_time": "2023-05-11T06:04:34.199Z"
   },
   {
    "duration": 32,
    "start_time": "2023-05-11T06:04:41.006Z"
   },
   {
    "duration": 7,
    "start_time": "2023-05-11T06:05:08.547Z"
   },
   {
    "duration": 5,
    "start_time": "2023-05-11T06:05:09.011Z"
   },
   {
    "duration": 5,
    "start_time": "2023-05-11T06:05:09.803Z"
   },
   {
    "duration": 2,
    "start_time": "2023-05-11T06:05:18.895Z"
   },
   {
    "duration": 4,
    "start_time": "2023-05-11T06:05:19.295Z"
   },
   {
    "duration": 5,
    "start_time": "2023-05-11T06:05:21.726Z"
   },
   {
    "duration": 3,
    "start_time": "2023-05-11T06:05:28.926Z"
   },
   {
    "duration": 138,
    "start_time": "2023-05-11T06:05:39.880Z"
   },
   {
    "duration": 11,
    "start_time": "2023-05-11T06:07:56.345Z"
   },
   {
    "duration": 5859,
    "start_time": "2023-05-11T06:08:13.224Z"
   },
   {
    "duration": 596,
    "start_time": "2023-05-11T06:08:33.820Z"
   },
   {
    "duration": 235576,
    "start_time": "2023-05-11T06:09:26.193Z"
   },
   {
    "duration": 28,
    "start_time": "2023-05-11T06:22:47.129Z"
   },
   {
    "duration": 3292,
    "start_time": "2023-05-11T06:25:22.955Z"
   },
   {
    "duration": 39,
    "start_time": "2023-05-11T06:25:44.301Z"
   },
   {
    "duration": 25,
    "start_time": "2023-05-11T06:26:04.946Z"
   },
   {
    "duration": 273,
    "start_time": "2023-05-11T06:26:15.411Z"
   },
   {
    "duration": 11,
    "start_time": "2023-05-11T06:27:44.933Z"
   },
   {
    "duration": 5,
    "start_time": "2023-05-11T06:28:00.722Z"
   },
   {
    "duration": 4,
    "start_time": "2023-05-11T06:28:15.835Z"
   },
   {
    "duration": 5,
    "start_time": "2023-05-11T06:37:05.028Z"
   },
   {
    "duration": 8,
    "start_time": "2023-05-11T06:37:10.307Z"
   },
   {
    "duration": 27,
    "start_time": "2023-05-11T06:37:27.866Z"
   },
   {
    "duration": 137,
    "start_time": "2023-05-11T06:37:40.236Z"
   },
   {
    "duration": 20,
    "start_time": "2023-05-11T06:38:10.740Z"
   },
   {
    "duration": 2748,
    "start_time": "2023-05-11T08:23:44.218Z"
   },
   {
    "duration": 953,
    "start_time": "2023-05-11T08:23:50.277Z"
   },
   {
    "duration": 33,
    "start_time": "2023-05-11T08:23:51.628Z"
   },
   {
    "duration": 11,
    "start_time": "2023-05-11T08:23:52.150Z"
   },
   {
    "duration": 11,
    "start_time": "2023-05-11T08:23:52.640Z"
   },
   {
    "duration": 33,
    "start_time": "2023-05-11T08:23:53.935Z"
   },
   {
    "duration": 166,
    "start_time": "2023-05-11T08:24:04.769Z"
   },
   {
    "duration": 3,
    "start_time": "2023-05-11T08:24:09.051Z"
   },
   {
    "duration": 4687,
    "start_time": "2023-05-11T08:24:09.461Z"
   },
   {
    "duration": 7,
    "start_time": "2023-05-11T08:24:14.150Z"
   },
   {
    "duration": 4,
    "start_time": "2023-05-11T08:24:15.387Z"
   },
   {
    "duration": 3,
    "start_time": "2023-05-11T08:25:05.922Z"
   },
   {
    "duration": 1381987,
    "start_time": "2023-05-11T08:25:06.575Z"
   },
   {
    "duration": 9,
    "start_time": "2023-05-11T08:52:34.929Z"
   },
   {
    "duration": 35,
    "start_time": "2023-05-11T08:52:37.226Z"
   },
   {
    "duration": 8,
    "start_time": "2023-05-11T08:52:37.687Z"
   },
   {
    "duration": 36,
    "start_time": "2023-05-11T08:52:39.494Z"
   },
   {
    "duration": 11,
    "start_time": "2023-05-11T08:52:41.238Z"
   },
   {
    "duration": 38,
    "start_time": "2023-05-11T08:52:52.811Z"
   },
   {
    "duration": 144,
    "start_time": "2023-05-11T08:54:38.272Z"
   },
   {
    "duration": 14,
    "start_time": "2023-05-11T08:54:53.228Z"
   },
   {
    "duration": 22,
    "start_time": "2023-05-11T08:55:10.993Z"
   },
   {
    "duration": 5541,
    "start_time": "2023-05-11T08:57:37.095Z"
   },
   {
    "duration": 36,
    "start_time": "2023-05-11T08:57:55.882Z"
   },
   {
    "duration": 13,
    "start_time": "2023-05-11T09:00:30.727Z"
   },
   {
    "duration": 5,
    "start_time": "2023-05-11T09:00:48.729Z"
   },
   {
    "duration": 160142,
    "start_time": "2023-05-11T09:10:43.084Z"
   },
   {
    "duration": 5646,
    "start_time": "2023-05-11T09:29:22.614Z"
   },
   {
    "duration": 2834,
    "start_time": "2023-05-11T09:29:28.262Z"
   },
   {
    "duration": 42,
    "start_time": "2023-05-11T09:29:31.101Z"
   },
   {
    "duration": 56,
    "start_time": "2023-05-11T09:29:31.145Z"
   },
   {
    "duration": 34,
    "start_time": "2023-05-11T09:29:31.214Z"
   },
   {
    "duration": 106,
    "start_time": "2023-05-11T09:29:31.250Z"
   },
   {
    "duration": 220,
    "start_time": "2023-05-11T09:29:32.690Z"
   },
   {
    "duration": 3,
    "start_time": "2023-05-11T09:29:37.032Z"
   },
   {
    "duration": 4699,
    "start_time": "2023-05-11T09:29:37.387Z"
   },
   {
    "duration": 28,
    "start_time": "2023-05-11T09:29:42.088Z"
   },
   {
    "duration": 10,
    "start_time": "2023-05-11T09:29:42.119Z"
   },
   {
    "duration": 13,
    "start_time": "2023-05-11T09:29:42.131Z"
   },
   {
    "duration": 1432472,
    "start_time": "2023-05-11T09:29:42.146Z"
   },
   {
    "duration": 10,
    "start_time": "2023-05-11T09:54:01.301Z"
   },
   {
    "duration": 38,
    "start_time": "2023-05-11T09:54:03.241Z"
   },
   {
    "duration": 8,
    "start_time": "2023-05-11T09:54:04.076Z"
   },
   {
    "duration": 45,
    "start_time": "2023-05-11T09:54:04.575Z"
   },
   {
    "duration": 17,
    "start_time": "2023-05-11T09:54:05.700Z"
   },
   {
    "duration": 37,
    "start_time": "2023-05-11T09:54:06.189Z"
   },
   {
    "duration": 6,
    "start_time": "2023-05-11T09:55:12.709Z"
   },
   {
    "duration": 11,
    "start_time": "2023-05-11T09:55:16.072Z"
   },
   {
    "duration": 9,
    "start_time": "2023-05-11T09:55:16.807Z"
   },
   {
    "duration": 3,
    "start_time": "2023-05-11T09:55:18.826Z"
   },
   {
    "duration": 4,
    "start_time": "2023-05-11T09:55:20.257Z"
   },
   {
    "duration": 129870,
    "start_time": "2023-05-11T09:58:26.614Z"
   },
   {
    "duration": 382039,
    "start_time": "2023-05-11T10:00:54.051Z"
   },
   {
    "duration": 341,
    "start_time": "2023-05-11T10:23:29.810Z"
   },
   {
    "duration": 311797,
    "start_time": "2023-05-11T10:24:14.075Z"
   },
   {
    "duration": 346239,
    "start_time": "2023-05-11T10:36:59.895Z"
   },
   {
    "duration": 29034,
    "start_time": "2023-05-11T10:56:54.150Z"
   },
   {
    "duration": 214136,
    "start_time": "2023-05-11T10:58:28.342Z"
   },
   {
    "duration": 18,
    "start_time": "2023-05-11T11:02:02.494Z"
   },
   {
    "duration": 4804630,
    "start_time": "2023-05-11T11:04:36.339Z"
   },
   {
    "duration": 220842,
    "start_time": "2023-05-11T12:25:35.239Z"
   },
   {
    "duration": 686190,
    "start_time": "2023-05-11T12:29:34.978Z"
   },
   {
    "duration": 14442,
    "start_time": "2023-05-11T12:47:26.539Z"
   },
   {
    "duration": 7071,
    "start_time": "2023-05-11T12:48:38.218Z"
   },
   {
    "duration": 1213,
    "start_time": "2023-05-11T12:48:45.291Z"
   },
   {
    "duration": 45,
    "start_time": "2023-05-11T12:48:46.510Z"
   },
   {
    "duration": 12,
    "start_time": "2023-05-11T12:48:46.557Z"
   },
   {
    "duration": 16,
    "start_time": "2023-05-11T12:48:46.571Z"
   },
   {
    "duration": 51,
    "start_time": "2023-05-11T12:48:46.596Z"
   },
   {
    "duration": 222,
    "start_time": "2023-05-11T12:48:46.649Z"
   },
   {
    "duration": 4,
    "start_time": "2023-05-11T12:48:49.640Z"
   },
   {
    "duration": 5821,
    "start_time": "2023-05-11T12:48:49.943Z"
   },
   {
    "duration": 10,
    "start_time": "2023-05-11T12:48:55.766Z"
   },
   {
    "duration": 69,
    "start_time": "2023-05-11T12:48:55.779Z"
   },
   {
    "duration": 13,
    "start_time": "2023-05-11T12:48:55.851Z"
   },
   {
    "duration": 1124298,
    "start_time": "2023-05-11T12:48:55.866Z"
   },
   {
    "duration": 6228,
    "start_time": "2023-05-11T13:10:50.750Z"
   },
   {
    "duration": 1183,
    "start_time": "2023-05-11T13:10:56.981Z"
   },
   {
    "duration": 50,
    "start_time": "2023-05-11T13:10:58.166Z"
   },
   {
    "duration": 33,
    "start_time": "2023-05-11T13:10:58.221Z"
   },
   {
    "duration": 18,
    "start_time": "2023-05-11T13:10:58.256Z"
   },
   {
    "duration": 56,
    "start_time": "2023-05-11T13:10:58.276Z"
   },
   {
    "duration": 200,
    "start_time": "2023-05-11T13:11:00.616Z"
   },
   {
    "duration": 3,
    "start_time": "2023-05-11T13:11:03.668Z"
   },
   {
    "duration": 6161,
    "start_time": "2023-05-11T13:11:04.146Z"
   },
   {
    "duration": 30,
    "start_time": "2023-05-11T13:11:10.309Z"
   },
   {
    "duration": 25,
    "start_time": "2023-05-11T13:11:10.345Z"
   },
   {
    "duration": 55,
    "start_time": "2023-05-11T13:11:10.373Z"
   },
   {
    "duration": 1678176,
    "start_time": "2023-05-11T13:11:10.430Z"
   },
   {
    "duration": 14,
    "start_time": "2023-05-11T13:39:36.734Z"
   },
   {
    "duration": 38,
    "start_time": "2023-05-11T13:39:39.145Z"
   },
   {
    "duration": 8,
    "start_time": "2023-05-11T13:39:39.548Z"
   },
   {
    "duration": 45,
    "start_time": "2023-05-11T13:39:41.586Z"
   },
   {
    "duration": 10,
    "start_time": "2023-05-11T13:39:43.756Z"
   },
   {
    "duration": 34,
    "start_time": "2023-05-11T13:39:44.383Z"
   },
   {
    "duration": 6,
    "start_time": "2023-05-11T13:39:47.047Z"
   },
   {
    "duration": 3,
    "start_time": "2023-05-11T13:39:47.661Z"
   },
   {
    "duration": 5,
    "start_time": "2023-05-11T13:39:51.984Z"
   },
   {
    "duration": 3,
    "start_time": "2023-05-11T13:39:52.540Z"
   },
   {
    "duration": 207233,
    "start_time": "2023-05-11T13:40:06.255Z"
   },
   {
    "duration": 637641,
    "start_time": "2023-05-11T13:44:35.937Z"
   },
   {
    "duration": 81,
    "start_time": "2023-05-11T13:56:50.520Z"
   },
   {
    "duration": 18,
    "start_time": "2023-05-11T13:57:06.948Z"
   },
   {
    "duration": 14,
    "start_time": "2023-05-11T13:57:25.274Z"
   },
   {
    "duration": 40115,
    "start_time": "2023-05-11T13:58:01.573Z"
   },
   {
    "duration": 42748,
    "start_time": "2023-05-11T13:59:05.945Z"
   },
   {
    "duration": 210473,
    "start_time": "2023-05-11T14:18:10.170Z"
   },
   {
    "duration": 5547,
    "start_time": "2023-05-11T14:21:40.647Z"
   },
   {
    "duration": 3745,
    "start_time": "2023-05-11T14:40:36.420Z"
   },
   {
    "duration": 1808,
    "start_time": "2023-05-11T14:40:43.283Z"
   },
   {
    "duration": 61,
    "start_time": "2023-05-11T14:40:45.092Z"
   },
   {
    "duration": 12,
    "start_time": "2023-05-11T14:40:45.161Z"
   },
   {
    "duration": 19,
    "start_time": "2023-05-11T14:40:45.176Z"
   },
   {
    "duration": 68,
    "start_time": "2023-05-11T14:40:45.200Z"
   },
   {
    "duration": 194,
    "start_time": "2023-05-11T14:40:46.463Z"
   },
   {
    "duration": 3,
    "start_time": "2023-05-11T14:40:50.569Z"
   },
   {
    "duration": 5089,
    "start_time": "2023-05-11T14:40:50.934Z"
   },
   {
    "duration": 9,
    "start_time": "2023-05-11T14:40:56.026Z"
   },
   {
    "duration": 5,
    "start_time": "2023-05-11T14:40:56.816Z"
   },
   {
    "duration": 6,
    "start_time": "2023-05-11T14:40:57.416Z"
   },
   {
    "duration": 1410551,
    "start_time": "2023-05-11T14:40:58.365Z"
   },
   {
    "duration": 9,
    "start_time": "2023-05-11T15:05:45.329Z"
   },
   {
    "duration": 34,
    "start_time": "2023-05-11T15:05:47.337Z"
   },
   {
    "duration": 7,
    "start_time": "2023-05-11T15:05:47.730Z"
   },
   {
    "duration": 41,
    "start_time": "2023-05-11T15:05:48.196Z"
   },
   {
    "duration": 14,
    "start_time": "2023-05-11T15:05:50.617Z"
   },
   {
    "duration": 45,
    "start_time": "2023-05-11T15:05:51.065Z"
   },
   {
    "duration": 17,
    "start_time": "2023-05-11T15:05:54.125Z"
   },
   {
    "duration": 10,
    "start_time": "2023-05-11T15:05:55.626Z"
   },
   {
    "duration": 4,
    "start_time": "2023-05-11T15:05:56.249Z"
   },
   {
    "duration": 3,
    "start_time": "2023-05-11T15:05:56.762Z"
   },
   {
    "duration": 289839,
    "start_time": "2023-05-11T15:07:44.893Z"
   },
   {
    "duration": 9,
    "start_time": "2023-05-11T15:13:30.860Z"
   },
   {
    "duration": 51879,
    "start_time": "2023-05-11T15:14:57.786Z"
   },
   {
    "duration": 58856,
    "start_time": "2023-05-11T15:45:21.590Z"
   },
   {
    "duration": 13,
    "start_time": "2023-05-11T15:55:38.617Z"
   },
   {
    "duration": 110,
    "start_time": "2023-05-11T16:08:33.060Z"
   }
  ],
  "kernelspec": {
   "display_name": "Python 3 (ipykernel)",
   "language": "python",
   "name": "python3"
  },
  "language_info": {
   "codemirror_mode": {
    "name": "ipython",
    "version": 3
   },
   "file_extension": ".py",
   "mimetype": "text/x-python",
   "name": "python",
   "nbconvert_exporter": "python",
   "pygments_lexer": "ipython3",
   "version": "3.9.5"
  },
  "toc": {
   "base_numbering": 1,
   "nav_menu": {},
   "number_sections": true,
   "sideBar": true,
   "skip_h1_title": true,
   "title_cell": "Содержание",
   "title_sidebar": "Contents",
   "toc_cell": true,
   "toc_position": {
    "height": "calc(100% - 180px)",
    "left": "10px",
    "top": "150px",
    "width": "302.344px"
   },
   "toc_section_display": true,
   "toc_window_display": true
  }
 },
 "nbformat": 4,
 "nbformat_minor": 2
}
